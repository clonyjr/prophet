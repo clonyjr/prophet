{
 "cells": [
  {
   "cell_type": "code",
   "execution_count": 1,
   "metadata": {
    "collapsed": true
   },
   "outputs": [],
   "source": [
    "# -*- coding: utf-8 -*-\n",
    "\n",
    "import config\n",
    "from tools import datacleaner as dtclean\n",
    "from tools import dataexplore as dtexp\n",
    "from view import data_visualization as dtview\n",
    "import pandas as pd\n",
    "import numpy as np\n",
    "from fbprophet import Prophet\n",
    "from evaluation import forecast_metrics as fm\n",
    "import seaborn as sns\n",
    "import plotly.graph_objs as go\n",
    "import plotly.tools\n",
    "import matplotlib.pyplot as plt\n",
    "# Offline mode\n",
    "import plotly.offline as py\n",
    "from plotly.offline import init_notebook_mode, iplot\n",
    "import warnings\n",
    "import dask.dataframe as dd\n",
    "import dask as dsk"
   ]
  },
  {
   "cell_type": "code",
   "execution_count": 11,
   "outputs": [],
   "source": [
    "pd.options.display.max_rows = 10\n",
    "path = getattr(config,'csvpath','default_value')\n"
   ],
   "metadata": {
    "collapsed": false,
    "pycharm": {
     "name": "#%%\n"
    }
   }
  },
  {
   "cell_type": "code",
   "execution_count": 12,
   "outputs": [
    {
     "data": {
      "text/plain": "   tienda      caja         fecha                    fechaHoraInicio          \\\n0          37            7  2020-05-09 00:00:00.000  2020-05-09 19:00:00.000   \n1          37            7  2020-05-09 00:00:00.000  2020-05-09 19:15:00.000   \n2          37            7  2020-05-09 00:00:00.000  2020-05-09 19:30:00.000   \n3          37            7  2020-05-09 00:00:00.000  2020-05-09 19:45:00.000   \n4          37            7  2020-05-09 00:00:00.000  2020-05-09 20:00:00.000   \n\n   fechaHoraFim             cantidad        numero          tickets         \\\n0  2020-05-09 19:15:00.000            13.0             9.0             8.0   \n1  2020-05-09 19:30:00.000            14.0            11.0             7.0   \n2  2020-05-09 19:45:00.000             9.0             6.0             1.0   \n3  2020-05-09 20:00:00.000            22.0            16.0             7.0   \n4  2020-05-09 20:15:00.000             6.0             4.0             2.0   \n\n   importe         \n0            6.98  \n1            8.25  \n2            6.05  \n3           19.10  \n4            3.66  ",
      "text/html": "<div>\n<style scoped>\n    .dataframe tbody tr th:only-of-type {\n        vertical-align: middle;\n    }\n\n    .dataframe tbody tr th {\n        vertical-align: top;\n    }\n\n    .dataframe thead th {\n        text-align: right;\n    }\n</style>\n<table border=\"1\" class=\"dataframe\">\n  <thead>\n    <tr style=\"text-align: right;\">\n      <th></th>\n      <th>tienda</th>\n      <th>caja</th>\n      <th>fecha</th>\n      <th>fechaHoraInicio</th>\n      <th>fechaHoraFim</th>\n      <th>cantidad</th>\n      <th>numero</th>\n      <th>tickets</th>\n      <th>importe</th>\n    </tr>\n  </thead>\n  <tbody>\n    <tr>\n      <th>0</th>\n      <td>37</td>\n      <td>7</td>\n      <td>2020-05-09 00:00:00.000</td>\n      <td>2020-05-09 19:00:00.000</td>\n      <td>2020-05-09 19:15:00.000</td>\n      <td>13.0</td>\n      <td>9.0</td>\n      <td>8.0</td>\n      <td>6.98</td>\n    </tr>\n    <tr>\n      <th>1</th>\n      <td>37</td>\n      <td>7</td>\n      <td>2020-05-09 00:00:00.000</td>\n      <td>2020-05-09 19:15:00.000</td>\n      <td>2020-05-09 19:30:00.000</td>\n      <td>14.0</td>\n      <td>11.0</td>\n      <td>7.0</td>\n      <td>8.25</td>\n    </tr>\n    <tr>\n      <th>2</th>\n      <td>37</td>\n      <td>7</td>\n      <td>2020-05-09 00:00:00.000</td>\n      <td>2020-05-09 19:30:00.000</td>\n      <td>2020-05-09 19:45:00.000</td>\n      <td>9.0</td>\n      <td>6.0</td>\n      <td>1.0</td>\n      <td>6.05</td>\n    </tr>\n    <tr>\n      <th>3</th>\n      <td>37</td>\n      <td>7</td>\n      <td>2020-05-09 00:00:00.000</td>\n      <td>2020-05-09 19:45:00.000</td>\n      <td>2020-05-09 20:00:00.000</td>\n      <td>22.0</td>\n      <td>16.0</td>\n      <td>7.0</td>\n      <td>19.10</td>\n    </tr>\n    <tr>\n      <th>4</th>\n      <td>37</td>\n      <td>7</td>\n      <td>2020-05-09 00:00:00.000</td>\n      <td>2020-05-09 20:00:00.000</td>\n      <td>2020-05-09 20:15:00.000</td>\n      <td>6.0</td>\n      <td>4.0</td>\n      <td>2.0</td>\n      <td>3.66</td>\n    </tr>\n  </tbody>\n</table>\n</div>"
     },
     "execution_count": 12,
     "metadata": {},
     "output_type": "execute_result"
    }
   ],
   "source": [
    "df_lojas_vendas_caixa = dd.read_csv(path+'/FDATA_tienda_ventas_caja.csv')\n",
    "\n",
    "df_lojas_vendas_caixa.head()"
   ],
   "metadata": {
    "collapsed": false,
    "pycharm": {
     "name": "#%%\n"
    }
   }
  }
 ],
 "metadata": {
  "kernelspec": {
   "name": "pycharm-1ceaee50",
   "language": "python",
   "display_name": "PyCharm (pythonProject)"
  },
  "language_info": {
   "codemirror_mode": {
    "name": "ipython",
    "version": 2
   },
   "file_extension": ".py",
   "mimetype": "text/x-python",
   "name": "python",
   "nbconvert_exporter": "python",
   "pygments_lexer": "ipython2",
   "version": "2.7.6"
  }
 },
 "nbformat": 4,
 "nbformat_minor": 0
}