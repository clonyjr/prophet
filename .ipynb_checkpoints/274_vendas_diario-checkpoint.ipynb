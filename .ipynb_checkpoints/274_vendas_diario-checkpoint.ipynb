{
 "cells": [
  {
   "cell_type": "code",
   "execution_count": 1,
   "metadata": {
    "pycharm": {
     "name": "#%%\n"
    }
   },
   "outputs": [
    {
     "data": {
      "text/html": [
       "        <script type=\"text/javascript\">\n",
       "        window.PlotlyConfig = {MathJaxConfig: 'local'};\n",
       "        if (window.MathJax) {MathJax.Hub.Config({SVG: {font: \"STIX-Web\"}});}\n",
       "        if (typeof require !== 'undefined') {\n",
       "        require.undef(\"plotly\");\n",
       "        requirejs.config({\n",
       "            paths: {\n",
       "                'plotly': ['https://cdn.plot.ly/plotly-latest.min']\n",
       "            }\n",
       "        });\n",
       "        require(['plotly'], function(Plotly) {\n",
       "            window._Plotly = Plotly;\n",
       "        });\n",
       "        }\n",
       "        </script>\n",
       "        "
      ]
     },
     "metadata": {},
     "output_type": "display_data"
    }
   ],
   "source": [
    "import datacleaner as dtclean\n",
    "import dataexplore as dtexp\n",
    "from view import data_visualization as dtview\n",
    "import pandas as pd\n",
    "import numpy as np\n",
    "from fbprophet import Prophet\n",
    "import forecast_metrics as fm\n",
    "import seaborn as sns\n",
    "import plotly.graph_objs as go\n",
    "import plotly.tools\n",
    "import matplotlib.pyplot as plt\n",
    "# Offline mode\n",
    "import plotly.offline as py\n",
    "from plotly.offline import init_notebook_mode, iplot\n",
    "import warnings\n",
    "\n",
    "warnings.filterwarnings('ignore')\n",
    "# \"high resolution\"\n",
    "%config InlineBackend.figure_format = 'retina'\n",
    "init_notebook_mode(connected=True)"
   ]
  },
  {
   "cell_type": "markdown",
   "metadata": {},
   "source": [
    "# Visualizando o dataframe"
   ]
  },
  {
   "cell_type": "code",
   "execution_count": 2,
   "metadata": {
    "pycharm": {
     "name": "#%%\n"
    }
   },
   "outputs": [],
   "source": [
    "df_274_sale = dtclean.get_Dataframes(274,'s')\n",
    "df_274_sale.reset_index(inplace=True)\n",
    "\n",
    "sns.set(style=\"darkgrid\")\n",
    "sns.set_context(\"notebook\", font_scale=1.5, rc={\"lines.linewidth\": 2.5})"
   ]
  },
  {
   "cell_type": "markdown",
   "metadata": {},
   "source": [
    "# Dataframe diário"
   ]
  },
  {
   "cell_type": "code",
   "execution_count": 3,
   "metadata": {
    "pycharm": {
     "name": "#%%\n"
    }
   },
   "outputs": [
    {
     "name": "stdout",
     "output_type": "stream",
     "text": [
      "Data início: 2020-03-01 00:00:00, Data final: 2020-05-31 00:00:00\n",
      "<class 'pandas.core.frame.DataFrame'>\n",
      "RangeIndex: 92 entries, 0 to 91\n",
      "Data columns (total 2 columns):\n",
      " #   Column  Non-Null Count  Dtype         \n",
      "---  ------  --------------  -----         \n",
      " 0   ds      92 non-null     datetime64[ns]\n",
      " 1   y       92 non-null     int64         \n",
      "dtypes: datetime64[ns](1), int64(1)\n",
      "memory usage: 1.6 KB\n"
     ]
    }
   ],
   "source": [
    "print('Data início: {}, Data final: {}'.format(df_274_sale.ds.min(),df_274_sale.ds.max()))\n",
    "df_274_sale.info()"
   ]
  },
  {
   "cell_type": "code",
   "execution_count": 4,
   "metadata": {
    "pycharm": {
     "name": "#%%\n"
    }
   },
   "outputs": [
    {
     "data": {
      "application/vnd.plotly.v1+json": {
       "config": {
        "linkText": "Export to plot.ly",
        "plotlyServerURL": "https://plot.ly",
        "showLink": false
       },
       "data": [
        {
         "type": "scatter",
         "x": [
          "2020-03-01T00:00:00",
          "2020-03-02T00:00:00",
          "2020-03-03T00:00:00",
          "2020-03-04T00:00:00",
          "2020-03-05T00:00:00",
          "2020-03-06T00:00:00",
          "2020-03-07T00:00:00",
          "2020-03-08T00:00:00",
          "2020-03-09T00:00:00",
          "2020-03-10T00:00:00",
          "2020-03-11T00:00:00",
          "2020-03-12T00:00:00",
          "2020-03-13T00:00:00",
          "2020-03-14T00:00:00",
          "2020-03-15T00:00:00",
          "2020-03-16T00:00:00",
          "2020-03-17T00:00:00",
          "2020-03-18T00:00:00",
          "2020-03-19T00:00:00",
          "2020-03-20T00:00:00",
          "2020-03-21T00:00:00",
          "2020-03-22T00:00:00",
          "2020-03-23T00:00:00",
          "2020-03-24T00:00:00",
          "2020-03-25T00:00:00",
          "2020-03-26T00:00:00",
          "2020-03-27T00:00:00",
          "2020-03-28T00:00:00",
          "2020-03-29T00:00:00",
          "2020-03-30T00:00:00",
          "2020-03-31T00:00:00",
          "2020-04-01T00:00:00",
          "2020-04-02T00:00:00",
          "2020-04-03T00:00:00",
          "2020-04-04T00:00:00",
          "2020-04-05T00:00:00",
          "2020-04-06T00:00:00",
          "2020-04-07T00:00:00",
          "2020-04-08T00:00:00",
          "2020-04-09T00:00:00",
          "2020-04-10T00:00:00",
          "2020-04-11T00:00:00",
          "2020-04-12T00:00:00",
          "2020-04-13T00:00:00",
          "2020-04-14T00:00:00",
          "2020-04-15T00:00:00",
          "2020-04-16T00:00:00",
          "2020-04-17T00:00:00",
          "2020-04-18T00:00:00",
          "2020-04-19T00:00:00",
          "2020-04-20T00:00:00",
          "2020-04-21T00:00:00",
          "2020-04-22T00:00:00",
          "2020-04-23T00:00:00",
          "2020-04-24T00:00:00",
          "2020-04-25T00:00:00",
          "2020-04-26T00:00:00",
          "2020-04-27T00:00:00",
          "2020-04-28T00:00:00",
          "2020-04-29T00:00:00",
          "2020-04-30T00:00:00",
          "2020-05-01T00:00:00",
          "2020-05-02T00:00:00",
          "2020-05-03T00:00:00",
          "2020-05-04T00:00:00",
          "2020-05-05T00:00:00",
          "2020-05-06T00:00:00",
          "2020-05-07T00:00:00",
          "2020-05-08T00:00:00",
          "2020-05-09T00:00:00",
          "2020-05-10T00:00:00",
          "2020-05-11T00:00:00",
          "2020-05-12T00:00:00",
          "2020-05-13T00:00:00",
          "2020-05-14T00:00:00",
          "2020-05-15T00:00:00",
          "2020-05-16T00:00:00",
          "2020-05-17T00:00:00",
          "2020-05-18T00:00:00",
          "2020-05-19T00:00:00",
          "2020-05-20T00:00:00",
          "2020-05-21T00:00:00",
          "2020-05-22T00:00:00",
          "2020-05-23T00:00:00",
          "2020-05-24T00:00:00",
          "2020-05-25T00:00:00",
          "2020-05-26T00:00:00",
          "2020-05-27T00:00:00",
          "2020-05-28T00:00:00",
          "2020-05-29T00:00:00",
          "2020-05-30T00:00:00",
          "2020-05-31T00:00:00"
         ],
         "y": [
          7942,
          7974,
          9237,
          6825,
          10643,
          11357,
          11944,
          7896,
          8993,
          9768,
          6303,
          15689,
          17150,
          17632,
          12973,
          17289,
          17868,
          13822,
          16790,
          14437,
          11494,
          8125,
          6674,
          6525,
          5364,
          6318,
          7430,
          8318,
          5290,
          5965,
          6713,
          5528,
          8023,
          8620,
          8912,
          6468,
          6310,
          8299,
          6183,
          10344,
          7121,
          8281,
          5047,
          5545,
          8024,
          6065,
          9070,
          9078,
          10129,
          7458,
          6234,
          6088,
          5349,
          9189,
          9281,
          10200,
          7324,
          5688,
          7014,
          6647,
          9531,
          9910,
          10803,
          5716,
          6421,
          7324,
          5588,
          8413,
          9800,
          10950,
          5031,
          5374,
          7331,
          5234,
          7488,
          9479,
          9733,
          6649,
          6066,
          7618,
          6227,
          8442,
          7658,
          9034,
          6093,
          6124,
          6866,
          3523,
          8526,
          8274,
          10118,
          5704
         ]
        }
       ],
       "layout": {
        "height": 500,
        "template": {
         "data": {
          "bar": [
           {
            "error_x": {
             "color": "#2a3f5f"
            },
            "error_y": {
             "color": "#2a3f5f"
            },
            "marker": {
             "line": {
              "color": "#E5ECF6",
              "width": 0.5
             }
            },
            "type": "bar"
           }
          ],
          "barpolar": [
           {
            "marker": {
             "line": {
              "color": "#E5ECF6",
              "width": 0.5
             }
            },
            "type": "barpolar"
           }
          ],
          "carpet": [
           {
            "aaxis": {
             "endlinecolor": "#2a3f5f",
             "gridcolor": "white",
             "linecolor": "white",
             "minorgridcolor": "white",
             "startlinecolor": "#2a3f5f"
            },
            "baxis": {
             "endlinecolor": "#2a3f5f",
             "gridcolor": "white",
             "linecolor": "white",
             "minorgridcolor": "white",
             "startlinecolor": "#2a3f5f"
            },
            "type": "carpet"
           }
          ],
          "choropleth": [
           {
            "colorbar": {
             "outlinewidth": 0,
             "ticks": ""
            },
            "type": "choropleth"
           }
          ],
          "contour": [
           {
            "colorbar": {
             "outlinewidth": 0,
             "ticks": ""
            },
            "colorscale": [
             [
              0,
              "#0d0887"
             ],
             [
              0.1111111111111111,
              "#46039f"
             ],
             [
              0.2222222222222222,
              "#7201a8"
             ],
             [
              0.3333333333333333,
              "#9c179e"
             ],
             [
              0.4444444444444444,
              "#bd3786"
             ],
             [
              0.5555555555555556,
              "#d8576b"
             ],
             [
              0.6666666666666666,
              "#ed7953"
             ],
             [
              0.7777777777777778,
              "#fb9f3a"
             ],
             [
              0.8888888888888888,
              "#fdca26"
             ],
             [
              1,
              "#f0f921"
             ]
            ],
            "type": "contour"
           }
          ],
          "contourcarpet": [
           {
            "colorbar": {
             "outlinewidth": 0,
             "ticks": ""
            },
            "type": "contourcarpet"
           }
          ],
          "heatmap": [
           {
            "colorbar": {
             "outlinewidth": 0,
             "ticks": ""
            },
            "colorscale": [
             [
              0,
              "#0d0887"
             ],
             [
              0.1111111111111111,
              "#46039f"
             ],
             [
              0.2222222222222222,
              "#7201a8"
             ],
             [
              0.3333333333333333,
              "#9c179e"
             ],
             [
              0.4444444444444444,
              "#bd3786"
             ],
             [
              0.5555555555555556,
              "#d8576b"
             ],
             [
              0.6666666666666666,
              "#ed7953"
             ],
             [
              0.7777777777777778,
              "#fb9f3a"
             ],
             [
              0.8888888888888888,
              "#fdca26"
             ],
             [
              1,
              "#f0f921"
             ]
            ],
            "type": "heatmap"
           }
          ],
          "heatmapgl": [
           {
            "colorbar": {
             "outlinewidth": 0,
             "ticks": ""
            },
            "colorscale": [
             [
              0,
              "#0d0887"
             ],
             [
              0.1111111111111111,
              "#46039f"
             ],
             [
              0.2222222222222222,
              "#7201a8"
             ],
             [
              0.3333333333333333,
              "#9c179e"
             ],
             [
              0.4444444444444444,
              "#bd3786"
             ],
             [
              0.5555555555555556,
              "#d8576b"
             ],
             [
              0.6666666666666666,
              "#ed7953"
             ],
             [
              0.7777777777777778,
              "#fb9f3a"
             ],
             [
              0.8888888888888888,
              "#fdca26"
             ],
             [
              1,
              "#f0f921"
             ]
            ],
            "type": "heatmapgl"
           }
          ],
          "histogram": [
           {
            "marker": {
             "colorbar": {
              "outlinewidth": 0,
              "ticks": ""
             }
            },
            "type": "histogram"
           }
          ],
          "histogram2d": [
           {
            "colorbar": {
             "outlinewidth": 0,
             "ticks": ""
            },
            "colorscale": [
             [
              0,
              "#0d0887"
             ],
             [
              0.1111111111111111,
              "#46039f"
             ],
             [
              0.2222222222222222,
              "#7201a8"
             ],
             [
              0.3333333333333333,
              "#9c179e"
             ],
             [
              0.4444444444444444,
              "#bd3786"
             ],
             [
              0.5555555555555556,
              "#d8576b"
             ],
             [
              0.6666666666666666,
              "#ed7953"
             ],
             [
              0.7777777777777778,
              "#fb9f3a"
             ],
             [
              0.8888888888888888,
              "#fdca26"
             ],
             [
              1,
              "#f0f921"
             ]
            ],
            "type": "histogram2d"
           }
          ],
          "histogram2dcontour": [
           {
            "colorbar": {
             "outlinewidth": 0,
             "ticks": ""
            },
            "colorscale": [
             [
              0,
              "#0d0887"
             ],
             [
              0.1111111111111111,
              "#46039f"
             ],
             [
              0.2222222222222222,
              "#7201a8"
             ],
             [
              0.3333333333333333,
              "#9c179e"
             ],
             [
              0.4444444444444444,
              "#bd3786"
             ],
             [
              0.5555555555555556,
              "#d8576b"
             ],
             [
              0.6666666666666666,
              "#ed7953"
             ],
             [
              0.7777777777777778,
              "#fb9f3a"
             ],
             [
              0.8888888888888888,
              "#fdca26"
             ],
             [
              1,
              "#f0f921"
             ]
            ],
            "type": "histogram2dcontour"
           }
          ],
          "mesh3d": [
           {
            "colorbar": {
             "outlinewidth": 0,
             "ticks": ""
            },
            "type": "mesh3d"
           }
          ],
          "parcoords": [
           {
            "line": {
             "colorbar": {
              "outlinewidth": 0,
              "ticks": ""
             }
            },
            "type": "parcoords"
           }
          ],
          "pie": [
           {
            "automargin": true,
            "type": "pie"
           }
          ],
          "scatter": [
           {
            "marker": {
             "colorbar": {
              "outlinewidth": 0,
              "ticks": ""
             }
            },
            "type": "scatter"
           }
          ],
          "scatter3d": [
           {
            "line": {
             "colorbar": {
              "outlinewidth": 0,
              "ticks": ""
             }
            },
            "marker": {
             "colorbar": {
              "outlinewidth": 0,
              "ticks": ""
             }
            },
            "type": "scatter3d"
           }
          ],
          "scattercarpet": [
           {
            "marker": {
             "colorbar": {
              "outlinewidth": 0,
              "ticks": ""
             }
            },
            "type": "scattercarpet"
           }
          ],
          "scattergeo": [
           {
            "marker": {
             "colorbar": {
              "outlinewidth": 0,
              "ticks": ""
             }
            },
            "type": "scattergeo"
           }
          ],
          "scattergl": [
           {
            "marker": {
             "colorbar": {
              "outlinewidth": 0,
              "ticks": ""
             }
            },
            "type": "scattergl"
           }
          ],
          "scattermapbox": [
           {
            "marker": {
             "colorbar": {
              "outlinewidth": 0,
              "ticks": ""
             }
            },
            "type": "scattermapbox"
           }
          ],
          "scatterpolar": [
           {
            "marker": {
             "colorbar": {
              "outlinewidth": 0,
              "ticks": ""
             }
            },
            "type": "scatterpolar"
           }
          ],
          "scatterpolargl": [
           {
            "marker": {
             "colorbar": {
              "outlinewidth": 0,
              "ticks": ""
             }
            },
            "type": "scatterpolargl"
           }
          ],
          "scatterternary": [
           {
            "marker": {
             "colorbar": {
              "outlinewidth": 0,
              "ticks": ""
             }
            },
            "type": "scatterternary"
           }
          ],
          "surface": [
           {
            "colorbar": {
             "outlinewidth": 0,
             "ticks": ""
            },
            "colorscale": [
             [
              0,
              "#0d0887"
             ],
             [
              0.1111111111111111,
              "#46039f"
             ],
             [
              0.2222222222222222,
              "#7201a8"
             ],
             [
              0.3333333333333333,
              "#9c179e"
             ],
             [
              0.4444444444444444,
              "#bd3786"
             ],
             [
              0.5555555555555556,
              "#d8576b"
             ],
             [
              0.6666666666666666,
              "#ed7953"
             ],
             [
              0.7777777777777778,
              "#fb9f3a"
             ],
             [
              0.8888888888888888,
              "#fdca26"
             ],
             [
              1,
              "#f0f921"
             ]
            ],
            "type": "surface"
           }
          ],
          "table": [
           {
            "cells": {
             "fill": {
              "color": "#EBF0F8"
             },
             "line": {
              "color": "white"
             }
            },
            "header": {
             "fill": {
              "color": "#C8D4E3"
             },
             "line": {
              "color": "white"
             }
            },
            "type": "table"
           }
          ]
         },
         "layout": {
          "annotationdefaults": {
           "arrowcolor": "#2a3f5f",
           "arrowhead": 0,
           "arrowwidth": 1
          },
          "coloraxis": {
           "colorbar": {
            "outlinewidth": 0,
            "ticks": ""
           }
          },
          "colorscale": {
           "diverging": [
            [
             0,
             "#8e0152"
            ],
            [
             0.1,
             "#c51b7d"
            ],
            [
             0.2,
             "#de77ae"
            ],
            [
             0.3,
             "#f1b6da"
            ],
            [
             0.4,
             "#fde0ef"
            ],
            [
             0.5,
             "#f7f7f7"
            ],
            [
             0.6,
             "#e6f5d0"
            ],
            [
             0.7,
             "#b8e186"
            ],
            [
             0.8,
             "#7fbc41"
            ],
            [
             0.9,
             "#4d9221"
            ],
            [
             1,
             "#276419"
            ]
           ],
           "sequential": [
            [
             0,
             "#0d0887"
            ],
            [
             0.1111111111111111,
             "#46039f"
            ],
            [
             0.2222222222222222,
             "#7201a8"
            ],
            [
             0.3333333333333333,
             "#9c179e"
            ],
            [
             0.4444444444444444,
             "#bd3786"
            ],
            [
             0.5555555555555556,
             "#d8576b"
            ],
            [
             0.6666666666666666,
             "#ed7953"
            ],
            [
             0.7777777777777778,
             "#fb9f3a"
            ],
            [
             0.8888888888888888,
             "#fdca26"
            ],
            [
             1,
             "#f0f921"
            ]
           ],
           "sequentialminus": [
            [
             0,
             "#0d0887"
            ],
            [
             0.1111111111111111,
             "#46039f"
            ],
            [
             0.2222222222222222,
             "#7201a8"
            ],
            [
             0.3333333333333333,
             "#9c179e"
            ],
            [
             0.4444444444444444,
             "#bd3786"
            ],
            [
             0.5555555555555556,
             "#d8576b"
            ],
            [
             0.6666666666666666,
             "#ed7953"
            ],
            [
             0.7777777777777778,
             "#fb9f3a"
            ],
            [
             0.8888888888888888,
             "#fdca26"
            ],
            [
             1,
             "#f0f921"
            ]
           ]
          },
          "colorway": [
           "#636efa",
           "#EF553B",
           "#00cc96",
           "#ab63fa",
           "#FFA15A",
           "#19d3f3",
           "#FF6692",
           "#B6E880",
           "#FF97FF",
           "#FECB52"
          ],
          "font": {
           "color": "#2a3f5f"
          },
          "geo": {
           "bgcolor": "white",
           "lakecolor": "white",
           "landcolor": "#E5ECF6",
           "showlakes": true,
           "showland": true,
           "subunitcolor": "white"
          },
          "hoverlabel": {
           "align": "left"
          },
          "hovermode": "closest",
          "mapbox": {
           "style": "light"
          },
          "paper_bgcolor": "white",
          "plot_bgcolor": "#E5ECF6",
          "polar": {
           "angularaxis": {
            "gridcolor": "white",
            "linecolor": "white",
            "ticks": ""
           },
           "bgcolor": "#E5ECF6",
           "radialaxis": {
            "gridcolor": "white",
            "linecolor": "white",
            "ticks": ""
           }
          },
          "scene": {
           "xaxis": {
            "backgroundcolor": "#E5ECF6",
            "gridcolor": "white",
            "gridwidth": 2,
            "linecolor": "white",
            "showbackground": true,
            "ticks": "",
            "zerolinecolor": "white"
           },
           "yaxis": {
            "backgroundcolor": "#E5ECF6",
            "gridcolor": "white",
            "gridwidth": 2,
            "linecolor": "white",
            "showbackground": true,
            "ticks": "",
            "zerolinecolor": "white"
           },
           "zaxis": {
            "backgroundcolor": "#E5ECF6",
            "gridcolor": "white",
            "gridwidth": 2,
            "linecolor": "white",
            "showbackground": true,
            "ticks": "",
            "zerolinecolor": "white"
           }
          },
          "shapedefaults": {
           "line": {
            "color": "#2a3f5f"
           }
          },
          "ternary": {
           "aaxis": {
            "gridcolor": "white",
            "linecolor": "white",
            "ticks": ""
           },
           "baxis": {
            "gridcolor": "white",
            "linecolor": "white",
            "ticks": ""
           },
           "bgcolor": "#E5ECF6",
           "caxis": {
            "gridcolor": "white",
            "linecolor": "white",
            "ticks": ""
           }
          },
          "title": {
           "x": 0.05
          },
          "xaxis": {
           "automargin": true,
           "gridcolor": "white",
           "linecolor": "white",
           "ticks": "",
           "title": {
            "standoff": 15
           },
           "zerolinecolor": "white",
           "zerolinewidth": 2
          },
          "yaxis": {
           "automargin": true,
           "gridcolor": "white",
           "linecolor": "white",
           "ticks": "",
           "title": {
            "standoff": 15
           },
           "zerolinecolor": "white",
           "zerolinewidth": 2
          }
         }
        },
        "title": {
         "text": "Produtos vendidos"
        },
        "width": 1000
       }
      },
      "text/html": [
       "<div>\n",
       "        \n",
       "        \n",
       "            <div id=\"ef146498-b65e-461b-ad6a-b1924b8ce491\" class=\"plotly-graph-div\" style=\"height:500px; width:1000px;\"></div>\n",
       "            <script type=\"text/javascript\">\n",
       "                require([\"plotly\"], function(Plotly) {\n",
       "                    window.PLOTLYENV=window.PLOTLYENV || {};\n",
       "                    \n",
       "                if (document.getElementById(\"ef146498-b65e-461b-ad6a-b1924b8ce491\")) {\n",
       "                    Plotly.newPlot(\n",
       "                        'ef146498-b65e-461b-ad6a-b1924b8ce491',\n",
       "                        [{\"type\": \"scatter\", \"x\": [\"2020-03-01T00:00:00\", \"2020-03-02T00:00:00\", \"2020-03-03T00:00:00\", \"2020-03-04T00:00:00\", \"2020-03-05T00:00:00\", \"2020-03-06T00:00:00\", \"2020-03-07T00:00:00\", \"2020-03-08T00:00:00\", \"2020-03-09T00:00:00\", \"2020-03-10T00:00:00\", \"2020-03-11T00:00:00\", \"2020-03-12T00:00:00\", \"2020-03-13T00:00:00\", \"2020-03-14T00:00:00\", \"2020-03-15T00:00:00\", \"2020-03-16T00:00:00\", \"2020-03-17T00:00:00\", \"2020-03-18T00:00:00\", \"2020-03-19T00:00:00\", \"2020-03-20T00:00:00\", \"2020-03-21T00:00:00\", \"2020-03-22T00:00:00\", \"2020-03-23T00:00:00\", \"2020-03-24T00:00:00\", \"2020-03-25T00:00:00\", \"2020-03-26T00:00:00\", \"2020-03-27T00:00:00\", \"2020-03-28T00:00:00\", \"2020-03-29T00:00:00\", \"2020-03-30T00:00:00\", \"2020-03-31T00:00:00\", \"2020-04-01T00:00:00\", \"2020-04-02T00:00:00\", \"2020-04-03T00:00:00\", \"2020-04-04T00:00:00\", \"2020-04-05T00:00:00\", \"2020-04-06T00:00:00\", \"2020-04-07T00:00:00\", \"2020-04-08T00:00:00\", \"2020-04-09T00:00:00\", \"2020-04-10T00:00:00\", \"2020-04-11T00:00:00\", \"2020-04-12T00:00:00\", \"2020-04-13T00:00:00\", \"2020-04-14T00:00:00\", \"2020-04-15T00:00:00\", \"2020-04-16T00:00:00\", \"2020-04-17T00:00:00\", \"2020-04-18T00:00:00\", \"2020-04-19T00:00:00\", \"2020-04-20T00:00:00\", \"2020-04-21T00:00:00\", \"2020-04-22T00:00:00\", \"2020-04-23T00:00:00\", \"2020-04-24T00:00:00\", \"2020-04-25T00:00:00\", \"2020-04-26T00:00:00\", \"2020-04-27T00:00:00\", \"2020-04-28T00:00:00\", \"2020-04-29T00:00:00\", \"2020-04-30T00:00:00\", \"2020-05-01T00:00:00\", \"2020-05-02T00:00:00\", \"2020-05-03T00:00:00\", \"2020-05-04T00:00:00\", \"2020-05-05T00:00:00\", \"2020-05-06T00:00:00\", \"2020-05-07T00:00:00\", \"2020-05-08T00:00:00\", \"2020-05-09T00:00:00\", \"2020-05-10T00:00:00\", \"2020-05-11T00:00:00\", \"2020-05-12T00:00:00\", \"2020-05-13T00:00:00\", \"2020-05-14T00:00:00\", \"2020-05-15T00:00:00\", \"2020-05-16T00:00:00\", \"2020-05-17T00:00:00\", \"2020-05-18T00:00:00\", \"2020-05-19T00:00:00\", \"2020-05-20T00:00:00\", \"2020-05-21T00:00:00\", \"2020-05-22T00:00:00\", \"2020-05-23T00:00:00\", \"2020-05-24T00:00:00\", \"2020-05-25T00:00:00\", \"2020-05-26T00:00:00\", \"2020-05-27T00:00:00\", \"2020-05-28T00:00:00\", \"2020-05-29T00:00:00\", \"2020-05-30T00:00:00\", \"2020-05-31T00:00:00\"], \"y\": [7942, 7974, 9237, 6825, 10643, 11357, 11944, 7896, 8993, 9768, 6303, 15689, 17150, 17632, 12973, 17289, 17868, 13822, 16790, 14437, 11494, 8125, 6674, 6525, 5364, 6318, 7430, 8318, 5290, 5965, 6713, 5528, 8023, 8620, 8912, 6468, 6310, 8299, 6183, 10344, 7121, 8281, 5047, 5545, 8024, 6065, 9070, 9078, 10129, 7458, 6234, 6088, 5349, 9189, 9281, 10200, 7324, 5688, 7014, 6647, 9531, 9910, 10803, 5716, 6421, 7324, 5588, 8413, 9800, 10950, 5031, 5374, 7331, 5234, 7488, 9479, 9733, 6649, 6066, 7618, 6227, 8442, 7658, 9034, 6093, 6124, 6866, 3523, 8526, 8274, 10118, 5704]}],\n",
       "                        {\"height\": 500, \"template\": {\"data\": {\"bar\": [{\"error_x\": {\"color\": \"#2a3f5f\"}, \"error_y\": {\"color\": \"#2a3f5f\"}, \"marker\": {\"line\": {\"color\": \"#E5ECF6\", \"width\": 0.5}}, \"type\": \"bar\"}], \"barpolar\": [{\"marker\": {\"line\": {\"color\": \"#E5ECF6\", \"width\": 0.5}}, \"type\": \"barpolar\"}], \"carpet\": [{\"aaxis\": {\"endlinecolor\": \"#2a3f5f\", \"gridcolor\": \"white\", \"linecolor\": \"white\", \"minorgridcolor\": \"white\", \"startlinecolor\": \"#2a3f5f\"}, \"baxis\": {\"endlinecolor\": \"#2a3f5f\", \"gridcolor\": \"white\", \"linecolor\": \"white\", \"minorgridcolor\": \"white\", \"startlinecolor\": \"#2a3f5f\"}, \"type\": \"carpet\"}], \"choropleth\": [{\"colorbar\": {\"outlinewidth\": 0, \"ticks\": \"\"}, \"type\": \"choropleth\"}], \"contour\": [{\"colorbar\": {\"outlinewidth\": 0, \"ticks\": \"\"}, \"colorscale\": [[0.0, \"#0d0887\"], [0.1111111111111111, \"#46039f\"], [0.2222222222222222, \"#7201a8\"], [0.3333333333333333, \"#9c179e\"], [0.4444444444444444, \"#bd3786\"], [0.5555555555555556, \"#d8576b\"], [0.6666666666666666, \"#ed7953\"], [0.7777777777777778, \"#fb9f3a\"], [0.8888888888888888, \"#fdca26\"], [1.0, \"#f0f921\"]], \"type\": \"contour\"}], \"contourcarpet\": [{\"colorbar\": {\"outlinewidth\": 0, \"ticks\": \"\"}, \"type\": \"contourcarpet\"}], \"heatmap\": [{\"colorbar\": {\"outlinewidth\": 0, \"ticks\": \"\"}, \"colorscale\": [[0.0, \"#0d0887\"], [0.1111111111111111, \"#46039f\"], [0.2222222222222222, \"#7201a8\"], [0.3333333333333333, \"#9c179e\"], [0.4444444444444444, \"#bd3786\"], [0.5555555555555556, \"#d8576b\"], [0.6666666666666666, \"#ed7953\"], [0.7777777777777778, \"#fb9f3a\"], [0.8888888888888888, \"#fdca26\"], [1.0, \"#f0f921\"]], \"type\": \"heatmap\"}], \"heatmapgl\": [{\"colorbar\": {\"outlinewidth\": 0, \"ticks\": \"\"}, \"colorscale\": [[0.0, \"#0d0887\"], [0.1111111111111111, \"#46039f\"], [0.2222222222222222, \"#7201a8\"], [0.3333333333333333, \"#9c179e\"], [0.4444444444444444, \"#bd3786\"], [0.5555555555555556, \"#d8576b\"], [0.6666666666666666, \"#ed7953\"], [0.7777777777777778, \"#fb9f3a\"], [0.8888888888888888, \"#fdca26\"], [1.0, \"#f0f921\"]], \"type\": \"heatmapgl\"}], \"histogram\": [{\"marker\": {\"colorbar\": {\"outlinewidth\": 0, \"ticks\": \"\"}}, \"type\": \"histogram\"}], \"histogram2d\": [{\"colorbar\": {\"outlinewidth\": 0, \"ticks\": \"\"}, \"colorscale\": [[0.0, \"#0d0887\"], [0.1111111111111111, \"#46039f\"], [0.2222222222222222, \"#7201a8\"], [0.3333333333333333, \"#9c179e\"], [0.4444444444444444, \"#bd3786\"], [0.5555555555555556, \"#d8576b\"], [0.6666666666666666, \"#ed7953\"], [0.7777777777777778, \"#fb9f3a\"], [0.8888888888888888, \"#fdca26\"], [1.0, \"#f0f921\"]], \"type\": \"histogram2d\"}], \"histogram2dcontour\": [{\"colorbar\": {\"outlinewidth\": 0, \"ticks\": \"\"}, \"colorscale\": [[0.0, \"#0d0887\"], [0.1111111111111111, \"#46039f\"], [0.2222222222222222, \"#7201a8\"], [0.3333333333333333, \"#9c179e\"], [0.4444444444444444, \"#bd3786\"], [0.5555555555555556, \"#d8576b\"], [0.6666666666666666, \"#ed7953\"], [0.7777777777777778, \"#fb9f3a\"], [0.8888888888888888, \"#fdca26\"], [1.0, \"#f0f921\"]], \"type\": \"histogram2dcontour\"}], \"mesh3d\": [{\"colorbar\": {\"outlinewidth\": 0, \"ticks\": \"\"}, \"type\": \"mesh3d\"}], \"parcoords\": [{\"line\": {\"colorbar\": {\"outlinewidth\": 0, \"ticks\": \"\"}}, \"type\": \"parcoords\"}], \"pie\": [{\"automargin\": true, \"type\": \"pie\"}], \"scatter\": [{\"marker\": {\"colorbar\": {\"outlinewidth\": 0, \"ticks\": \"\"}}, \"type\": \"scatter\"}], \"scatter3d\": [{\"line\": {\"colorbar\": {\"outlinewidth\": 0, \"ticks\": \"\"}}, \"marker\": {\"colorbar\": {\"outlinewidth\": 0, \"ticks\": \"\"}}, \"type\": \"scatter3d\"}], \"scattercarpet\": [{\"marker\": {\"colorbar\": {\"outlinewidth\": 0, \"ticks\": \"\"}}, \"type\": \"scattercarpet\"}], \"scattergeo\": [{\"marker\": {\"colorbar\": {\"outlinewidth\": 0, \"ticks\": \"\"}}, \"type\": \"scattergeo\"}], \"scattergl\": [{\"marker\": {\"colorbar\": {\"outlinewidth\": 0, \"ticks\": \"\"}}, \"type\": \"scattergl\"}], \"scattermapbox\": [{\"marker\": {\"colorbar\": {\"outlinewidth\": 0, \"ticks\": \"\"}}, \"type\": \"scattermapbox\"}], \"scatterpolar\": [{\"marker\": {\"colorbar\": {\"outlinewidth\": 0, \"ticks\": \"\"}}, \"type\": \"scatterpolar\"}], \"scatterpolargl\": [{\"marker\": {\"colorbar\": {\"outlinewidth\": 0, \"ticks\": \"\"}}, \"type\": \"scatterpolargl\"}], \"scatterternary\": [{\"marker\": {\"colorbar\": {\"outlinewidth\": 0, \"ticks\": \"\"}}, \"type\": \"scatterternary\"}], \"surface\": [{\"colorbar\": {\"outlinewidth\": 0, \"ticks\": \"\"}, \"colorscale\": [[0.0, \"#0d0887\"], [0.1111111111111111, \"#46039f\"], [0.2222222222222222, \"#7201a8\"], [0.3333333333333333, \"#9c179e\"], [0.4444444444444444, \"#bd3786\"], [0.5555555555555556, \"#d8576b\"], [0.6666666666666666, \"#ed7953\"], [0.7777777777777778, \"#fb9f3a\"], [0.8888888888888888, \"#fdca26\"], [1.0, \"#f0f921\"]], \"type\": \"surface\"}], \"table\": [{\"cells\": {\"fill\": {\"color\": \"#EBF0F8\"}, \"line\": {\"color\": \"white\"}}, \"header\": {\"fill\": {\"color\": \"#C8D4E3\"}, \"line\": {\"color\": \"white\"}}, \"type\": \"table\"}]}, \"layout\": {\"annotationdefaults\": {\"arrowcolor\": \"#2a3f5f\", \"arrowhead\": 0, \"arrowwidth\": 1}, \"coloraxis\": {\"colorbar\": {\"outlinewidth\": 0, \"ticks\": \"\"}}, \"colorscale\": {\"diverging\": [[0, \"#8e0152\"], [0.1, \"#c51b7d\"], [0.2, \"#de77ae\"], [0.3, \"#f1b6da\"], [0.4, \"#fde0ef\"], [0.5, \"#f7f7f7\"], [0.6, \"#e6f5d0\"], [0.7, \"#b8e186\"], [0.8, \"#7fbc41\"], [0.9, \"#4d9221\"], [1, \"#276419\"]], \"sequential\": [[0.0, \"#0d0887\"], [0.1111111111111111, \"#46039f\"], [0.2222222222222222, \"#7201a8\"], [0.3333333333333333, \"#9c179e\"], [0.4444444444444444, \"#bd3786\"], [0.5555555555555556, \"#d8576b\"], [0.6666666666666666, \"#ed7953\"], [0.7777777777777778, \"#fb9f3a\"], [0.8888888888888888, \"#fdca26\"], [1.0, \"#f0f921\"]], \"sequentialminus\": [[0.0, \"#0d0887\"], [0.1111111111111111, \"#46039f\"], [0.2222222222222222, \"#7201a8\"], [0.3333333333333333, \"#9c179e\"], [0.4444444444444444, \"#bd3786\"], [0.5555555555555556, \"#d8576b\"], [0.6666666666666666, \"#ed7953\"], [0.7777777777777778, \"#fb9f3a\"], [0.8888888888888888, \"#fdca26\"], [1.0, \"#f0f921\"]]}, \"colorway\": [\"#636efa\", \"#EF553B\", \"#00cc96\", \"#ab63fa\", \"#FFA15A\", \"#19d3f3\", \"#FF6692\", \"#B6E880\", \"#FF97FF\", \"#FECB52\"], \"font\": {\"color\": \"#2a3f5f\"}, \"geo\": {\"bgcolor\": \"white\", \"lakecolor\": \"white\", \"landcolor\": \"#E5ECF6\", \"showlakes\": true, \"showland\": true, \"subunitcolor\": \"white\"}, \"hoverlabel\": {\"align\": \"left\"}, \"hovermode\": \"closest\", \"mapbox\": {\"style\": \"light\"}, \"paper_bgcolor\": \"white\", \"plot_bgcolor\": \"#E5ECF6\", \"polar\": {\"angularaxis\": {\"gridcolor\": \"white\", \"linecolor\": \"white\", \"ticks\": \"\"}, \"bgcolor\": \"#E5ECF6\", \"radialaxis\": {\"gridcolor\": \"white\", \"linecolor\": \"white\", \"ticks\": \"\"}}, \"scene\": {\"xaxis\": {\"backgroundcolor\": \"#E5ECF6\", \"gridcolor\": \"white\", \"gridwidth\": 2, \"linecolor\": \"white\", \"showbackground\": true, \"ticks\": \"\", \"zerolinecolor\": \"white\"}, \"yaxis\": {\"backgroundcolor\": \"#E5ECF6\", \"gridcolor\": \"white\", \"gridwidth\": 2, \"linecolor\": \"white\", \"showbackground\": true, \"ticks\": \"\", \"zerolinecolor\": \"white\"}, \"zaxis\": {\"backgroundcolor\": \"#E5ECF6\", \"gridcolor\": \"white\", \"gridwidth\": 2, \"linecolor\": \"white\", \"showbackground\": true, \"ticks\": \"\", \"zerolinecolor\": \"white\"}}, \"shapedefaults\": {\"line\": {\"color\": \"#2a3f5f\"}}, \"ternary\": {\"aaxis\": {\"gridcolor\": \"white\", \"linecolor\": \"white\", \"ticks\": \"\"}, \"baxis\": {\"gridcolor\": \"white\", \"linecolor\": \"white\", \"ticks\": \"\"}, \"bgcolor\": \"#E5ECF6\", \"caxis\": {\"gridcolor\": \"white\", \"linecolor\": \"white\", \"ticks\": \"\"}}, \"title\": {\"x\": 0.05}, \"xaxis\": {\"automargin\": true, \"gridcolor\": \"white\", \"linecolor\": \"white\", \"ticks\": \"\", \"title\": {\"standoff\": 15}, \"zerolinecolor\": \"white\", \"zerolinewidth\": 2}, \"yaxis\": {\"automargin\": true, \"gridcolor\": \"white\", \"linecolor\": \"white\", \"ticks\": \"\", \"title\": {\"standoff\": 15}, \"zerolinecolor\": \"white\", \"zerolinewidth\": 2}}}, \"title\": {\"text\": \"Produtos vendidos\"}, \"width\": 1000},\n",
       "                        {\"responsive\": true}\n",
       "                    ).then(function(){\n",
       "                            \n",
       "var gd = document.getElementById('ef146498-b65e-461b-ad6a-b1924b8ce491');\n",
       "var x = new MutationObserver(function (mutations, observer) {{\n",
       "        var display = window.getComputedStyle(gd).display;\n",
       "        if (!display || display === 'none') {{\n",
       "            console.log([gd, 'removed!']);\n",
       "            Plotly.purge(gd);\n",
       "            observer.disconnect();\n",
       "        }}\n",
       "}});\n",
       "\n",
       "// Listen for the removal of the full notebook cells\n",
       "var notebookContainer = gd.closest('#notebook-container');\n",
       "if (notebookContainer) {{\n",
       "    x.observe(notebookContainer, {childList: true});\n",
       "}}\n",
       "\n",
       "// Listen for the clearing of the current output cell\n",
       "var outputEl = gd.closest('.output');\n",
       "if (outputEl) {{\n",
       "    x.observe(outputEl, {childList: true});\n",
       "}}\n",
       "\n",
       "                        })\n",
       "                };\n",
       "                });\n",
       "            </script>\n",
       "        </div>"
      ]
     },
     "metadata": {},
     "output_type": "display_data"
    }
   ],
   "source": [
    "iplot(dtview.plot_scatter(df_274_sale,title='Produtos vendidos'))"
   ]
  },
  {
   "cell_type": "code",
   "execution_count": null,
   "metadata": {
    "pycharm": {
     "name": "#%%\n"
    }
   },
   "outputs": [],
   "source": [
    "df_274_sale.describe()\n"
   ]
  },
  {
   "cell_type": "code",
   "execution_count": null,
   "metadata": {
    "pycharm": {
     "name": "#%%\n"
    }
   },
   "outputs": [],
   "source": [
    "model = Prophet(interval_width=0.95)\n",
    "model.fit(df_274_sale)\n",
    "forecast = model.predict(df_274_sale)\n",
    "model.plot(forecast)"
   ]
  },
  {
   "cell_type": "code",
   "execution_count": null,
   "metadata": {
    "pycharm": {
     "name": "#%%\n"
    }
   },
   "outputs": [],
   "source": [
    "print(\"Valor real: {};\\nValor previsto: {};\\nPrevisão inferior: {};\\nPrevisão superior: {}\"\n",
    "      .format(\n",
    "    df_274_sale.y.sum(),\n",
    "    forecast.yhat.sum(),\n",
    "    forecast.yhat_lower.sum(),\n",
    "    forecast.yhat_upper.sum()))"
   ]
  },
  {
   "cell_type": "markdown",
   "metadata": {},
   "source": [
    "# Análise dos Dados"
   ]
  },
  {
   "cell_type": "code",
   "execution_count": null,
   "metadata": {
    "pycharm": {
     "name": "#%%\n"
    }
   },
   "outputs": [],
   "source": [
    "iplot(dtview.plot_scatter(df_274_sale,title='Vendas/dia (março-maio de 2020)'))"
   ]
  },
  {
   "cell_type": "code",
   "execution_count": null,
   "metadata": {
    "pycharm": {
     "name": "#%%\n"
    }
   },
   "outputs": [],
   "source": [
    "df_new = dtexp.date_features(df_274_sale)\n",
    "iplot(dtview.plot_df_features_as_table(df_new))"
   ]
  },
  {
   "cell_type": "code",
   "execution_count": null,
   "metadata": {
    "pycharm": {
     "name": "#%%\n"
    }
   },
   "outputs": [],
   "source": [
    "fig, ax = plt.subplots(figsize=(14,5))\n",
    "dtview.plot_df_features(df_new,fig, ax).show()\n",
    "#plt.show()"
   ]
  },
  {
   "cell_type": "code",
   "execution_count": null,
   "metadata": {
    "pycharm": {
     "name": "#%%\n"
    }
   },
   "outputs": [],
   "source": [
    "fig,(ax1,ax2)= plt.subplots(nrows=2)\n",
    "fig.set_size_inches(20,30)\n",
    "\n",
    "mesAgregado = pd.DataFrame(df_new.groupby(\"semana\")[\"y\"].sum()).reset_index().sort_values('y')\n",
    "sns.barplot(data=mesAgregado,x=\"semana\",y=\"y\",ax=ax1)\n",
    "ax1.set(xlabel='Vendas', ylabel='Total Produtos vendidos')\n",
    "ax1.set_title(\"Total Vendas Mês\",fontsize=15)\n",
    "\n",
    "semanaAgregada = pd.DataFrame(df_new.groupby(\"num\")[\"y\"].sum()).reset_index().sort_values('num')\n",
    "sns.barplot(data=semanaAgregada,x=\"num\",y=\"y\",ax=ax2)\n",
    "ax2.set(xlabel='diasemana', ylabel='Total Vendas')\n",
    "ax2.set_title(\"Total Vendas Por Dia da Semana\",fontsize=15)"
   ]
  },
  {
   "cell_type": "code",
   "execution_count": null,
   "metadata": {
    "pycharm": {
     "name": "#%%\n"
    }
   },
   "outputs": [],
   "source": [
    "semanaAgregada.sort_values('y')"
   ]
  },
  {
   "cell_type": "code",
   "execution_count": null,
   "metadata": {
    "pycharm": {
     "name": "#%%\n"
    }
   },
   "outputs": [],
   "source": [
    "df_274_sale_treino_diario, df_274_sale_teste_diario = dtexp.configura_dataframe_treino_teste(df_274_sale)\n",
    "print('-'*60)\n",
    "print('Shape dataframe de treino --> {}'.format(df_274_sale_treino_diario.shape))\n",
    "print('Shape dataframe de teste --> {}'.format(df_274_sale_teste_diario.shape))\n",
    "print('-'*60)"
   ]
  },
  {
   "cell_type": "code",
   "execution_count": null,
   "metadata": {
    "pycharm": {
     "name": "#%%\n"
    }
   },
   "outputs": [],
   "source": [
    "# Visualizando o montante de dados para os datasets de treino e de teste"
   ]
  },
  {
   "cell_type": "code",
   "execution_count": null,
   "metadata": {
    "pycharm": {
     "name": "#%%\n"
    }
   },
   "outputs": [],
   "source": [
    "iplot(dtview.compare_dataframes_with_scatter(df_274_sale_treino_diario,\n",
    "                                   df_274_sale_teste_diario,\n",
    "                                   title='Montante de dados de vendas de Treinamento e Teste',\n",
    "                                    mode='lines',\n",
    "                                   name1='Treinamento',\n",
    "                                   name2='Teste'))"
   ]
  },
  {
   "cell_type": "code",
   "execution_count": null,
   "metadata": {
    "pycharm": {
     "name": "#%%\n"
    }
   },
   "outputs": [],
   "source": [
    "prophet = Prophet()\n",
    "prophet.fit(df_274_sale_treino_diario)\n",
    "future_vendas = prophet.make_future_dataframe(periods=7, freq='D')\n",
    "# Removendo valores fora do range de atendimento da loja (22:30 - 05:59)\n",
    "future_vendas['ds'] = pd.to_datetime(future_vendas['ds'])\n",
    "future_vendas = future_vendas.set_index(pd.DatetimeIndex(future_vendas['ds']))\n",
    "future_vendas = future_vendas.between_time('08:00','21:00')\n",
    "\n",
    "forecast_vendas = prophet.predict(future_vendas)\n",
    "\n",
    "iplot(dtview.plot_forecast_as_table(forecast_vendas))"
   ]
  },
  {
   "cell_type": "code",
   "execution_count": null,
   "metadata": {
    "pycharm": {
     "name": "#%%\n"
    }
   },
   "outputs": [],
   "source": [
    "# componentes\n",
    "\n",
    "fig = prophet.plot_components(forecast_vendas, figsize=(12,8))"
   ]
  },
  {
   "cell_type": "code",
   "execution_count": null,
   "metadata": {
    "pycharm": {
     "name": "#%%\n"
    }
   },
   "outputs": [],
   "source": [
    "# Plot the forecast\n",
    "f, ax = plt.subplots(1)\n",
    "f.set_figheight(5)\n",
    "f.set_figwidth(15)\n",
    "fig = prophet.plot(forecast_vendas,ax=ax)\n",
    "plt.show()"
   ]
  },
  {
   "cell_type": "code",
   "execution_count": null,
   "metadata": {
    "pycharm": {
     "name": "#%%\n"
    }
   },
   "outputs": [],
   "source": [
    "df_274_sale_teste_diario_forecast = prophet.predict(df_274_sale_teste_diario)\n",
    "iplot(dtview.plot_forecast_as_table(df_274_sale_teste_diario_forecast))"
   ]
  },
  {
   "cell_type": "code",
   "execution_count": null,
   "metadata": {
    "pycharm": {
     "name": "#%%\n"
    }
   },
   "outputs": [],
   "source": [
    "# Plot the forecast\n",
    "f, ax = plt.subplots(1)\n",
    "f.set_figheight(5)\n",
    "f.set_figwidth(15)\n",
    "ax.scatter(df_274_sale_teste_diario.ds,df_274_sale_teste_diario['y'], color='r')\n",
    "fig = prophet.plot(df_274_sale_teste_diario_forecast,ax=ax)\n",
    "plt.show()\n"
   ]
  },
  {
   "cell_type": "code",
   "execution_count": null,
   "metadata": {
    "pycharm": {
     "name": "#%%\n"
    }
   },
   "outputs": [],
   "source": [
    "# Comparação entre as vendas previstas e realizadas\n"
   ]
  },
  {
   "cell_type": "code",
   "execution_count": null,
   "metadata": {
    "pycharm": {
     "name": "#%%\n"
    }
   },
   "outputs": [],
   "source": [
    "iplot(dtview.compare_dataframes_with_scatter(df_274_sale_teste_diario,\n",
    "                                   df_274_sale_teste_diario_forecast,\n",
    "                                   title='Previsão de vendas vs Vendas originais realizadas',\n",
    "                                    mode='lines',\n",
    "                                   name1='Teste',\n",
    "                                   name2='Previsto',\n",
    "                                  is_forecast=True))"
   ]
  },
  {
   "cell_type": "code",
   "execution_count": null,
   "metadata": {
    "pycharm": {
     "name": "#%%\n"
    }
   },
   "outputs": [],
   "source": [
    "# Plot the forecast with the actuals\n",
    "f, ax = plt.subplots(1)\n",
    "f.set_figheight(5)\n",
    "f.set_figwidth(15)\n",
    "ax.scatter(df_274_sale_teste_diario.ds, df_274_sale_teste_diario['y'], color='r')\n",
    "fig = prophet.plot(df_274_sale_teste_diario_forecast, ax=ax)\n",
    "ax.set_xbound(lower='2020-03-01', upper='2020-03-08')\n",
    "ax.set_ylim(0, 1000)\n",
    "plot = plt.suptitle('Primeira semana de Março - Previsão vs Original')"
   ]
  },
  {
   "cell_type": "code",
   "execution_count": null,
   "metadata": {
    "pycharm": {
     "name": "#%%\n"
    }
   },
   "outputs": [],
   "source": [
    "mape_sem_feriados = dtexp.mean_absolute_percentage_error(df_274_sale_teste_diario['y'],df_274_sale_teste_diario_forecast['yhat'])\n",
    "print(\"MAPE -------------> \",round(mape_sem_feriados,4))\n",
    "print(\"MAPE para validar ------> {}\".format(fm.mape(np.array(df_274_sale_teste_diario['y']), np.array(df_274_sale_teste_diario_forecast['yhat']))))"
   ]
  },
  {
   "cell_type": "code",
   "execution_count": null,
   "metadata": {
    "pycharm": {
     "name": "#%%\n"
    }
   },
   "outputs": [],
   "source": [
    "print(\"Valor real: {};\\nValor previsto: {};\\nPrevisão inferior: {};\\nPrevisão superior: {}\"\n",
    "      .format(\n",
    "    df_274_sale_teste_diario.y.sum(),\n",
    "    df_274_sale_teste_diario_forecast.yhat.sum(),\n",
    "    df_274_sale_teste_diario_forecast.yhat_lower.sum(),\n",
    "    df_274_sale_teste_diario_forecast.yhat_upper.sum()))"
   ]
  },
  {
   "cell_type": "code",
   "execution_count": null,
   "metadata": {
    "pycharm": {
     "name": "#%%\n"
    }
   },
   "outputs": [],
   "source": [
    "iplot(dtview.compare_dataframes_with_bar(\n",
    "    df_274_sale_teste_diario,\n",
    "    df_274_sale_teste_diario_forecast,\n",
    "    nametrace1='Valor Real',\n",
    "    nametrace2='Valor Previsto',\n",
    "    idx_end=28))"
   ]
  },
  {
   "cell_type": "code",
   "execution_count": null,
   "metadata": {
    "pycharm": {
     "name": "#%%\n"
    }
   },
   "outputs": [],
   "source": [
    "# Criando novo modelo com os feriados"
   ]
  },
  {
   "cell_type": "code",
   "execution_count": null,
   "metadata": {
    "pycharm": {
     "name": "#%%\n"
    }
   },
   "outputs": [],
   "source": [
    "# definindo o cap (carrying capacity)\n",
    "#df_274_sale_treino_diario['cap'] = 1362*2\n",
    "#df_274_sale_treino_diario['floor'] = 1\n",
    "#df_274_sale_treino_diario.reset_index(drop=True)\n",
    "prophet_feriados = Prophet(holidays=dtclean.get_Holiday())\n",
    "prophet_feriados.add_country_holidays('BR')\n",
    "prophet_feriados.fit(df_274_sale_treino_diario)\n",
    "# Criando as datas futuras previstas pelo prophet\n",
    "# A frequência especificada em dias (os dados estão em dias)\n",
    "future_feriados = prophet_feriados.make_future_dataframe(freq='D', periods=8)\n",
    "# Prevendo os valores\n",
    "forecast_feriados = prophet_feriados.predict(future_feriados)\n",
    "# Removendo valores fora do range de atendimento da loja (22:30 - 05:59)\n",
    "future_feriados['ds'] = pd.to_datetime(future_feriados['ds'])\n",
    "future_feriados = future_feriados.set_index(pd.DatetimeIndex(future_feriados['ds']))\n",
    "future_feriados = future_feriados.between_time('08:00','21:00')\n",
    "# Previsão optimizada dos valores\n",
    "forecast_feriados = prophet_feriados.predict(future_feriados)\n",
    "iplot(dtview.plot_forecast_as_table(forecast_feriados))"
   ]
  },
  {
   "cell_type": "code",
   "execution_count": null,
   "metadata": {
    "pycharm": {
     "name": "#%%\n"
    }
   },
   "outputs": [],
   "source": [
    "plt,fig_forecast_feriado = dtview.plot_forecast(forecast_feriados,prophet_feriados,f,ax)\n",
    "plt.show()"
   ]
  },
  {
   "cell_type": "code",
   "execution_count": null,
   "metadata": {
    "pycharm": {
     "name": "#%%\n"
    }
   },
   "outputs": [],
   "source": [
    "# Visualizando os componentes do modelo"
   ]
  },
  {
   "cell_type": "code",
   "execution_count": null,
   "metadata": {
    "pycharm": {
     "name": "#%%\n"
    }
   },
   "outputs": [],
   "source": [
    "fig_forecast_feriado = prophet_feriados.plot_components(forecast_feriados, figsize=(12,8))"
   ]
  },
  {
   "cell_type": "markdown",
   "metadata": {},
   "source": [
    "## Visualizar tabela de previsão de teste"
   ]
  },
  {
   "cell_type": "code",
   "execution_count": null,
   "metadata": {
    "pycharm": {
     "name": "#%%\n"
    }
   },
   "outputs": [],
   "source": [
    "forecast_teste_feriados = prophet_feriados.predict(df_274_sale_teste_diario)\n",
    "iplot(dtview.plot_forecast_as_table(forecast_teste_feriados))"
   ]
  },
  {
   "cell_type": "markdown",
   "metadata": {},
   "source": [
    "## Visualizar dataframe de teste previsto e original com feriados"
   ]
  },
  {
   "cell_type": "code",
   "execution_count": null,
   "metadata": {
    "pycharm": {
     "name": "#%%\n"
    }
   },
   "outputs": [],
   "source": [
    "iplot(dtview.compare_dataframes_with_scatter(\n",
    "    df_274_sale_teste_diario,\n",
    "    forecast_teste_feriados,\n",
    "    title='Dados Previsto vs Original última semana de maio/2020',\n",
    "    mode='lines',\n",
    "    name1='Original',\n",
    "    name2='Previsão com feriados',\n",
    "    is_forecast=True))"
   ]
  },
  {
   "cell_type": "code",
   "execution_count": null,
   "metadata": {
    "pycharm": {
     "name": "#%%\n"
    }
   },
   "outputs": [],
   "source": [
    "mape_com_feriados = dtexp.mean_absolute_percentage_error(df_274_sale_teste_diario.y,forecast_teste_feriados.yhat)\n",
    "print(\"MAPE\",round(mape_com_feriados,4))"
   ]
  },
  {
   "cell_type": "code",
   "execution_count": null,
   "metadata": {
    "pycharm": {
     "name": "#%%\n"
    }
   },
   "outputs": [],
   "source": [
    "print(\"Valor real: {};\\nValor previsto: {};\\nPrevisão inferior: {};\\nPrevisão superior: {}\"\n",
    "      .format(\n",
    "    df_274_sale_teste_diario.y.sum(),\n",
    "    forecast_teste_feriados.yhat.sum(),\n",
    "    forecast_teste_feriados.yhat_lower.sum(),\n",
    "    forecast_teste_feriados.yhat_upper.sum()))"
   ]
  },
  {
   "cell_type": "code",
   "execution_count": null,
   "metadata": {
    "pycharm": {
     "name": "#%%\n"
    }
   },
   "outputs": [],
   "source": [
    "'''Utilizar apenas quando prever melhor conjunto de parâmetros. Acessar o arquivo model_parameters_274_vendas.csv'''\n",
    "# dtexp.tuning_model(df_274_sale_treino_diario,df_274_sale,periodo=226,frequencia='D',loja='274',tipo='vendas')"
   ]
  },
  {
   "cell_type": "code",
   "execution_count": null,
   "metadata": {
    "pycharm": {
     "name": "#%%\n"
    }
   },
   "outputs": [],
   "source": [
    "parameters_df = pd.read_csv('model_parameters_274_vendas.csv',sep='\\t')\n",
    "parameters_df = parameters_df.sort_values(by=['MAPE'])\n",
    "parameters_df = parameters_df.reset_index(drop=True)\n",
    "parameters_df.drop(['Unnamed: 0'],axis=1,inplace=True)\n",
    "trace_df_parameters=go.Table(header=dict(values=list(parameters_df[['MAPE','Parameters']])),\n",
    "                            cells=dict(values=[parameters_df.MAPE,\n",
    "                                               parameters_df.Parameters]))\n",
    "data=[trace_df_parameters]\n",
    "fig_df_parameters=go.Figure(data=data)\n",
    "iplot(fig_df_parameters)\n"
   ]
  },
  {
   "cell_type": "code",
   "execution_count": null,
   "metadata": {
    "pycharm": {
     "name": "#%%\n"
    }
   },
   "outputs": [],
   "source": [
    "## Treinando o modelo com os melhores parâmetros identificados\n",
    "\n",
    "+ changepoint_prior_scale= 15\n",
    "+ holidays_prior_scale = 15\n",
    "+ n_changepoints = 200\n",
    "+ seasonality_mode = 'multiplicative'\n",
    "+ seasonality_prior_scale = 25"
   ]
  },
  {
   "cell_type": "code",
   "execution_count": null,
   "metadata": {
    "pycharm": {
     "name": "#%%\n"
    }
   },
   "outputs": [],
   "source": [
    "# Configurando e treinando o modelo com feriados e parâmetros otimizados\n",
    "final_prophet = Prophet(holidays=dtclean.get_Holiday(),\n",
    "                      changepoint_prior_scale= 15,\n",
    "                      holidays_prior_scale = 15,\n",
    "                      n_changepoints = 200,\n",
    "                      seasonality_mode = 'multiplicative',\n",
    "                      seasonality_prior_scale = 25,\n",
    "                      weekly_seasonality=True,\n",
    "                      daily_seasonality = True,\n",
    "                      yearly_seasonality = True,\n",
    "                      interval_width=0.95)\n",
    "final_prophet.add_country_holidays(country_name='BR')\n",
    "final_prophet.fit(df_274_sale_treino_diario)"
   ]
  },
  {
   "cell_type": "code",
   "execution_count": null,
   "metadata": {
    "pycharm": {
     "name": "#%%\n"
    }
   },
   "outputs": [],
   "source": [
    "future_final = final_prophet.make_future_dataframe(periods=12, freq='D')\n",
    "forecast_final = final_prophet.predict(future_final)\n",
    "iplot(dtview.plot_forecast_as_table(forecast_final))"
   ]
  },
  {
   "cell_type": "code",
   "execution_count": null,
   "metadata": {
    "pycharm": {
     "name": "#%%\n"
    }
   },
   "outputs": [],
   "source": [
    "# Plot the components of the model\n",
    "fig = final_prophet.plot_components(forecast_final, figsize=(12,10))"
   ]
  },
  {
   "cell_type": "code",
   "execution_count": null,
   "metadata": {
    "pycharm": {
     "name": "#%%\n"
    }
   },
   "outputs": [],
   "source": [
    "from fbprophet.plot import plot_weekly,plot_yearly, plot_seasonality,plot_seasonality_plotly\n",
    "\n",
    "fig_y = plot_yearly(final_prophet)\n"
   ]
  },
  {
   "cell_type": "code",
   "execution_count": null,
   "metadata": {
    "pycharm": {
     "name": "#%%\n"
    }
   },
   "outputs": [],
   "source": [
    "fig_w = plot_weekly(final_prophet)"
   ]
  },
  {
   "cell_type": "code",
   "execution_count": null,
   "metadata": {
    "pycharm": {
     "name": "#%%\n"
    }
   },
   "outputs": [],
   "source": [
    "from fbprophet.diagnostics import performance_metrics, cross_validation\n",
    "df_cv = cross_validation(final_prophet, initial='20 days', period = '10 days', horizon='12 days')\n",
    "df_p = performance_metrics(df_cv)\n",
    "df_p.head()"
   ]
  },
  {
   "cell_type": "code",
   "execution_count": null,
   "metadata": {
    "pycharm": {
     "name": "#%%\n"
    }
   },
   "outputs": [],
   "source": [
    "# Plot the forecast\n",
    "f, ax = plt.subplots(1)\n",
    "f.set_figheight(5)\n",
    "f.set_figwidth(15)\n",
    "fig = final_prophet.plot(forecast_final,ax=ax)\n",
    "plt.show()"
   ]
  },
  {
   "cell_type": "code",
   "execution_count": null,
   "metadata": {
    "pycharm": {
     "name": "#%%\n"
    }
   },
   "outputs": [],
   "source": [
    "df_teste_final= final_prophet.predict(df_274_sale_teste_diario)\n",
    "iplot(dtview.plot_forecast_as_table(df_teste_final))"
   ]
  },
  {
   "cell_type": "code",
   "execution_count": null,
   "metadata": {
    "pycharm": {
     "name": "#%%\n"
    }
   },
   "outputs": [],
   "source": [
    "iplot(dtview.compare_dataframes_with_scatter(df_274_sale_teste_diario,\n",
    "                                   df_teste_final,\n",
    "                                   title='Previsão de vendas vs Vendas originais realizadas',\n",
    "                                    mode='lines',\n",
    "                                   name1='Teste',\n",
    "                                   name2='Previsto',\n",
    "                                  is_forecast=True))"
   ]
  },
  {
   "cell_type": "markdown",
   "metadata": {},
   "source": [
    "# Comparando os dataframes de teste e previsto em escala diária"
   ]
  },
  {
   "cell_type": "code",
   "execution_count": null,
   "metadata": {
    "pycharm": {
     "name": "#%%\n"
    }
   },
   "outputs": [],
   "source": [
    "iplot(dtview.compare_dataframes_with_bar(\n",
    "    df_274_sale_teste_diario,\n",
    "    df_teste_final,\n",
    "    nametrace1='Teste',\n",
    "    nametrace2='Previsto'))"
   ]
  },
  {
   "cell_type": "code",
   "execution_count": null,
   "metadata": {
    "pycharm": {
     "name": "#%%\n"
    }
   },
   "outputs": [],
   "source": [
    "mape_final = dtexp.mean_absolute_percentage_error(df_274_sale_teste_diario['y'],df_teste_final['yhat'])\n",
    "print(\"MAPE -------------> \",round(mape_final,4))\n",
    "print(\"MAPE (validação) ---> {}\".format(fm.mape(np.array(df_274_sale_teste_diario['y']), np.array(df_teste_final['yhat']))))"
   ]
  },
  {
   "cell_type": "code",
   "execution_count": null,
   "metadata": {
    "pycharm": {
     "name": "#%%\n"
    }
   },
   "outputs": [],
   "source": [
    "print(\"Valor real: {};\\nValor previsto: {};\\nPrevisão inferior: {};\\nPrevisão superior: {}\"\n",
    "      .format(\n",
    "    df_274_sale_teste_diario.y.sum(),\n",
    "    df_teste_final.yhat.sum(),\n",
    "    df_teste_final.yhat_lower.sum(),\n",
    "    df_teste_final.yhat_upper.sum()))"
   ]
  },
  {
   "cell_type": "markdown",
   "metadata": {},
   "source": [
    "# Identificando os outliers"
   ]
  },
  {
   "cell_type": "code",
   "execution_count": null,
   "metadata": {
    "pycharm": {
     "name": "#%%\n"
    }
   },
   "outputs": [],
   "source": [
    "outliers = dtexp.detect_outlier(df_274_sale['y'])\n",
    "sorted(outliers)\n",
    "lim_inf, lim_sup = dtexp.calculate_iqr_score(outliers)\n",
    "print('Outlier inferior {}, outlier superior {}'.format(lim_inf,lim_sup))"
   ]
  },
  {
   "cell_type": "code",
   "execution_count": null,
   "metadata": {
    "pycharm": {
     "name": "#%%\n"
    }
   },
   "outputs": [],
   "source": [
    "df_sem_outliers = df_274_sale[df_274_sale['y'] < 670]\n",
    "df_sem_outliers.info"
   ]
  },
  {
   "cell_type": "markdown",
   "metadata": {},
   "source": [
    "###### Outlier são pontos de dados se desviam de forma acentuada dos outros pontos de dados em uma mesma amostra, é chamado de outlier. Qualquer outra observação esperada é rotulada como um inlier\"Outliers são os valores em uma série, que se afastam de forma imprevista, dos valores esperados. Isso pode ocorrer em função de características particulares que afetam a variável analisada, erro na transcrição/registo dos valores da variável, etc. A visualização gráfica desses valores em boxplot auxilia a compreender o quanto eles estão distante do valor esperado. A caixa de cor sólida, representa os valores esperados, isto é, o maior conjunto de valores que se repete na série, enquanto os pontos fora da caixa representam os outliers.\n",
    "`Conforme esclarece Montgomery, os outliers são pontos de dados incomuns que devem ser devidamente identificados para análise futura`"
   ]
  },
  {
   "cell_type": "code",
   "execution_count": null,
   "metadata": {
    "pycharm": {
     "name": "#%%\n"
    }
   },
   "outputs": [],
   "source": [
    "dtview.check_outliers_univariate(df_274_sale)"
   ]
  },
  {
   "cell_type": "code",
   "execution_count": null,
   "metadata": {
    "pycharm": {
     "name": "#%%\n"
    }
   },
   "outputs": [],
   "source": [
    "df_274_sem_outliers_treino, df_274_sem_outliers_teste = dtexp.configura_dataframe_treino_teste(df_sem_outliers)\n",
    "print('-'*60)\n",
    "print('Shape dataframe de treino --> {}'.format(df_274_sem_outliers_treino.shape))\n",
    "print('Shape dataframe de teste --> {}'.format(df_274_sem_outliers_teste.shape))\n",
    "print('-'*60)\n"
   ]
  },
  {
   "cell_type": "code",
   "execution_count": null,
   "metadata": {
    "pycharm": {
     "name": "#%%\n"
    }
   },
   "outputs": [],
   "source": [
    "iplot(dtview.compare_dataframes_with_scatter(df_274_sem_outliers_treino,\n",
    "                                   df_274_sem_outliers_teste,\n",
    "                                   title='Montante de dados de vendas de Treinamento e Teste (sem outliers)',\n",
    "                                    mode='lines',\n",
    "                                   name1='Treinamento',\n",
    "                                   name2='Teste'))"
   ]
  },
  {
   "cell_type": "code",
   "execution_count": null,
   "metadata": {
    "pycharm": {
     "name": "#%%\n"
    }
   },
   "outputs": [],
   "source": [
    "prophet_no_outliers = Prophet()\n",
    "prophet_no_outliers.fit(df_274_sem_outliers_treino)\n",
    "future_no_outliers = prophet_no_outliers.make_future_dataframe(periods=7, freq='D')\n",
    "# Removendo valores fora do range de atendimento da loja (22:30 - 05:59)\n",
    "future_no_outliers['ds'] = pd.to_datetime(future_no_outliers['ds'])\n",
    "future_no_outliers = future_no_outliers.set_index(pd.DatetimeIndex(future_no_outliers['ds']))\n",
    "future_no_outliers = future_no_outliers.between_time('08:00','21:00')\n",
    "\n",
    "forecast_no_outliers = prophet_no_outliers.predict(future_no_outliers)\n",
    "\n",
    "iplot(dtview.plot_forecast_as_table(forecast_no_outliers))"
   ]
  },
  {
   "cell_type": "code",
   "execution_count": null,
   "metadata": {
    "pycharm": {
     "name": "#%%\n"
    }
   },
   "outputs": [],
   "source": [
    "# componentes\n",
    "\n",
    "fig = prophet_no_outliers.plot_components(forecast_no_outliers, figsize=(12,8))\n"
   ]
  },
  {
   "cell_type": "code",
   "execution_count": null,
   "metadata": {
    "pycharm": {
     "name": "#%%\n"
    }
   },
   "outputs": [],
   "source": [
    "# Plot the forecast\n",
    "f, ax = plt.subplots(1)\n",
    "f.set_figheight(5)\n",
    "f.set_figwidth(15)\n",
    "fig = prophet_no_outliers.plot(forecast_no_outliers,ax=ax)\n",
    "plt.show()"
   ]
  },
  {
   "cell_type": "code",
   "execution_count": null,
   "metadata": {
    "pycharm": {
     "name": "#%%\n"
    }
   },
   "outputs": [],
   "source": [
    "df_274_no_outliers_teste_forecast = prophet_no_outliers.predict(df_274_sem_outliers_teste)\n",
    "iplot(dtview.plot_forecast_as_table(df_274_no_outliers_teste_forecast))"
   ]
  },
  {
   "cell_type": "code",
   "execution_count": null,
   "metadata": {
    "pycharm": {
     "name": "#%%\n"
    }
   },
   "outputs": [],
   "source": [
    "iplot(dtview.compare_dataframes_with_scatter(df_274_sem_outliers_teste,\n",
    "                                   df_274_no_outliers_teste_forecast,\n",
    "                                   title='Previsão de vendas vs Vendas originais realizadas',\n",
    "                                    mode='lines',\n",
    "                                   name1='Teste',\n",
    "                                   name2='Previsto',\n",
    "                                  is_forecast=True))"
   ]
  },
  {
   "cell_type": "code",
   "execution_count": null,
   "metadata": {
    "pycharm": {
     "name": "#%%\n"
    }
   },
   "outputs": [],
   "source": [
    "# Plot the forecast\n",
    "f, ax = plt.subplots(1)\n",
    "f.set_figheight(5)\n",
    "f.set_figwidth(15)\n",
    "ax.scatter(df_274_sem_outliers_teste.ds,df_274_sem_outliers_teste['y'], color='r')\n",
    "fig = prophet_no_outliers.plot(df_274_no_outliers_teste_forecast,ax=ax)\n",
    "plt.show()"
   ]
  },
  {
   "cell_type": "code",
   "execution_count": null,
   "metadata": {
    "pycharm": {
     "name": "#%%\n"
    }
   },
   "outputs": [],
   "source": [
    "# Plot the forecast with the actuals\n",
    "f, ax = plt.subplots(1)\n",
    "f.set_figheight(5)\n",
    "f.set_figwidth(15)\n",
    "ax.scatter(df_274_sem_outliers_teste.ds, df_274_sem_outliers_teste['y'], color='r')\n",
    "fig = prophet_no_outliers.plot(df_274_no_outliers_teste_forecast, ax=ax)\n",
    "ax.set_xbound(lower='2020-03-01', upper='2020-03-08')\n",
    "ax.set_ylim(0, 1000)\n",
    "plot = plt.suptitle('Primeira semana de Março - Previsão vs Original')"
   ]
  },
  {
   "cell_type": "code",
   "execution_count": null,
   "metadata": {
    "pycharm": {
     "name": "#%%\n"
    }
   },
   "outputs": [],
   "source": [
    "mape_sem_feriados = dtexp.mean_absolute_percentage_error(df_274_sem_outliers_teste['y'],df_274_no_outliers_teste_forecast['yhat'])\n",
    "print(\"MAPE -------------> \",round(mape_sem_feriados,4))\n",
    "print(\"MAPE (validação) ---> {}\".format(\n",
    "    fm.mape(np.array(df_274_sem_outliers_teste['y']),\n",
    "            np.array(df_274_no_outliers_teste_forecast['yhat']))))"
   ]
  },
  {
   "cell_type": "code",
   "execution_count": null,
   "metadata": {
    "pycharm": {
     "name": "#%%\n"
    }
   },
   "outputs": [],
   "source": [
    "iplot(dtview.compare_dataframes_with_bar(\n",
    "        df_274_sem_outliers_teste,\n",
    "        df_274_no_outliers_teste_forecast,\n",
    "        nametrace1='Valor Real (sem outliers)',\n",
    "        nametrace2='Valor Previsto (sem outliers)',\n",
    "        idx_end=28))"
   ]
  },
  {
   "cell_type": "code",
   "execution_count": null,
   "metadata": {
    "pycharm": {
     "name": "#%%\n"
    }
   },
   "outputs": [],
   "source": [
    "prophet_feriados_s_outliers = Prophet(holidays=dtclean.get_Holiday())\n",
    "\n",
    "prophet_feriados_s_outliers.add_country_holidays('BR')\n",
    "prophet_feriados_s_outliers.fit(df_274_sem_outliers_treino)\n",
    "# Criando as datas futuras previstas pelo prophet\n",
    "# A frequência especificada em dias (os dados estão em dias)\n",
    "future_feriados_s_outliers = prophet_feriados_s_outliers.make_future_dataframe(freq='D', periods=8)\n",
    "# Prevendo os valores\n",
    "forecast_feriados_s_outliers = prophet_feriados_s_outliers.predict(future_feriados_s_outliers)\n",
    "# Removendo valores fora do range de atendimento da loja (22:30 - 05:59)\n",
    "future_feriados_s_outliers['ds'] = pd.to_datetime(future_feriados_s_outliers['ds'])\n",
    "future_feriados_s_outliers = future_feriados_s_outliers.set_index(pd.DatetimeIndex(future_feriados_s_outliers['ds']))\n",
    "future_feriados_s_outliers = future_feriados_s_outliers.between_time('08:00','21:00')\n",
    "# Previsão optimizada dos valores\n",
    "future_feriados_s_outliers = prophet_feriados_s_outliers.predict(future_feriados_s_outliers)"
   ]
  },
  {
   "cell_type": "code",
   "execution_count": null,
   "metadata": {
    "pycharm": {
     "name": "#%%\n"
    }
   },
   "outputs": [],
   "source": [
    "plt,fig_forecast_feriado_s_outliers = dtview.plot_forecast(future_feriados_s_outliers,prophet_feriados_s_outliers,f,ax)\n",
    "plt.show()"
   ]
  },
  {
   "cell_type": "markdown",
   "metadata": {},
   "source": [
    "# Visualizando os componentes do modelo"
   ]
  },
  {
   "cell_type": "code",
   "execution_count": null,
   "metadata": {
    "pycharm": {
     "name": "#%%\n"
    }
   },
   "outputs": [],
   "source": [
    "fig_forecast_feriado_s_outliers = prophet_feriados_s_outliers.plot_components(forecast_feriados_s_outliers,figsize=(12,8))"
   ]
  },
  {
   "cell_type": "code",
   "execution_count": null,
   "metadata": {
    "pycharm": {
     "name": "#%%\n"
    }
   },
   "outputs": [],
   "source": [
    "forecast_teste_feriados_s_outliers = prophet_feriados_s_outliers.predict(df_274_sem_outliers_teste)\n",
    "iplot(dtview.plot_forecast_as_table(forecast_teste_feriados_s_outliers))"
   ]
  },
  {
   "cell_type": "markdown",
   "metadata": {},
   "source": [
    "# Visualizar dataframe de teste previsto e original com feriados"
   ]
  },
  {
   "cell_type": "code",
   "execution_count": null,
   "metadata": {
    "pycharm": {
     "name": "#%%\n"
    }
   },
   "outputs": [],
   "source": [
    "iplot(dtview.compare_dataframes_with_scatter(\n",
    "    df_274_sem_outliers_teste,\n",
    "    forecast_teste_feriados_s_outliers,\n",
    "    title='Dados Previsto vs Original última semana de maio/2020',\n",
    "    mode='lines',\n",
    "    name1='Original',\n",
    "    name2='Previsão com feriados',\n",
    "    is_forecast=True))"
   ]
  },
  {
   "cell_type": "code",
   "execution_count": null,
   "metadata": {
    "pycharm": {
     "name": "#%%\n"
    }
   },
   "outputs": [],
   "source": [
    "iplot(dtview.compare_dataframes_with_bar(\n",
    "        df_274_sem_outliers_teste,\n",
    "        forecast_teste_feriados_s_outliers,\n",
    "        nametrace1='Original',\n",
    "        nametrace2='Previsão com feriados',\n",
    "        idx_end=28))"
   ]
  },
  {
   "cell_type": "code",
   "execution_count": null,
   "metadata": {
    "pycharm": {
     "name": "#%%\n"
    }
   },
   "outputs": [],
   "source": [
    "mape_com_feriados = dtexp.mean_absolute_percentage_error(df_274_sem_outliers_teste.y,forecast_teste_feriados_s_outliers.yhat)\n",
    "print(\"MAPE -------------> \",round(mape_com_feriados,4))\n",
    "print(\"MAPE (validação) ---> {}\".format(\n",
    "    fm.mape(np.array(df_274_sem_outliers_teste['y']),\n",
    "    np.array(forecast_teste_feriados_s_outliers['yhat']))))"
   ]
  },
  {
   "cell_type": "code",
   "execution_count": null,
   "metadata": {
    "pycharm": {
     "name": "#%%\n"
    }
   },
   "outputs": [],
   "source": [
    "# Somente utilizar para gerar novo conjunto otimizado de parâmetros atualmente esse conjunto está registado no arquivo:\n",
    "# 'model_parameters_274_vendas_s_outliers.csv'\n",
    "# dtexp.tuning_model(df_274_sem_outliers_treino,df_sem_outliers,periodo=219,frequencia='D',loja='274',tipo='vendas_s_outliers')"
   ]
  },
  {
   "cell_type": "code",
   "execution_count": null,
   "metadata": {
    "pycharm": {
     "name": "#%%\n"
    }
   },
   "outputs": [],
   "source": [
    "parameters_df_s_outliers = pd.read_csv('model_parameters_274_vendas_s_outliers.csv',sep='\\t')\n",
    "parameters_df_s_outliers = parameters_df_s_outliers.sort_values(by=['MAPE'])\n",
    "parameters_df_s_outliers = parameters_df_s_outliers.reset_index(drop=True)\n",
    "parameters_df_s_outliers.drop(['Unnamed: 0'],axis=1,inplace=True)\n",
    "trace_df_parameters_s_outliers=go.Table(header=dict(values=list(parameters_df_s_outliers[['MAPE','Parameters']])),\n",
    "                            cells=dict(values=[parameters_df_s_outliers.MAPE,\n",
    "                                               parameters_df_s_outliers.Parameters]))\n",
    "data=[trace_df_parameters_s_outliers]\n",
    "fig_df_parameters_s_outliers=go.Figure(data=data)\n",
    "iplot(fig_df_parameters_s_outliers)"
   ]
  },
  {
   "cell_type": "code",
   "execution_count": null,
   "metadata": {
    "pycharm": {
     "name": "#%%\n"
    }
   },
   "outputs": [],
   "source": [
    "# Configurando e treinando o modelo com feriados e parâmetros otimizados\n",
    "final_prophet_s_outliers = Prophet(holidays=dtclean.get_Holiday(),\n",
    "                      changepoint_prior_scale= 15,\n",
    "                      holidays_prior_scale = 15,\n",
    "                      n_changepoints = 200,\n",
    "                      seasonality_mode = 'multiplicative',\n",
    "                      seasonality_prior_scale = 25,\n",
    "                      weekly_seasonality=True,\n",
    "                      daily_seasonality = True,\n",
    "                      yearly_seasonality = True,\n",
    "                      interval_width=0.95)\n",
    "final_prophet_s_outliers.add_country_holidays(country_name='BR')\n",
    "final_prophet_s_outliers.fit(df_274_sem_outliers_treino)"
   ]
  },
  {
   "cell_type": "code",
   "execution_count": null,
   "metadata": {
    "pycharm": {
     "name": "#%%\n"
    }
   },
   "outputs": [],
   "source": [
    "future_final_s_outliers = final_prophet_s_outliers.make_future_dataframe(periods=122, freq='D')\n",
    "forecast_final_s_outliers = final_prophet_s_outliers.predict(future_final_s_outliers)\n",
    "iplot(dtview.plot_forecast_as_table(forecast_final_s_outliers))"
   ]
  },
  {
   "cell_type": "code",
   "execution_count": null,
   "metadata": {
    "pycharm": {
     "name": "#%%\n"
    }
   },
   "outputs": [],
   "source": [
    "iplot(dtview.plot_forecast_as_table(forecast_final_s_outliers))"
   ]
  },
  {
   "cell_type": "code",
   "execution_count": null,
   "metadata": {
    "pycharm": {
     "name": "#%%\n"
    }
   },
   "outputs": [],
   "source": [
    "# Plot the components of the model\n",
    "fig = final_prophet_s_outliers.plot_components(forecast_final_s_outliers)"
   ]
  },
  {
   "cell_type": "code",
   "execution_count": null,
   "metadata": {
    "pycharm": {
     "name": "#%%\n"
    }
   },
   "outputs": [],
   "source": [
    "# Plot the forecast\n",
    "f, ax = plt.subplots(1)\n",
    "f.set_figheight(5)\n",
    "f.set_figwidth(15)\n",
    "fig = final_prophet_s_outliers.plot(forecast_final_s_outliers,ax=ax)\n",
    "plt.show()"
   ]
  },
  {
   "cell_type": "code",
   "execution_count": null,
   "metadata": {
    "pycharm": {
     "name": "#%%\n"
    }
   },
   "outputs": [],
   "source": [
    "# Visualizando a tabela prevista\n",
    "\n",
    "df_teste_final_s_outliers= final_prophet_s_outliers.predict(df_274_sem_outliers_teste)\n",
    "iplot(dtview.plot_forecast_as_table(df_teste_final_s_outliers))"
   ]
  },
  {
   "cell_type": "code",
   "execution_count": null,
   "metadata": {
    "pycharm": {
     "name": "#%%\n"
    }
   },
   "outputs": [],
   "source": [
    "# Comparando os dataframes em gráfico scatter\n",
    "\n",
    "iplot(dtview.compare_dataframes_with_scatter(df_274_sem_outliers_teste,\n",
    "                                   df_teste_final_s_outliers,\n",
    "                                   title='Previsão de vendas vs Vendas originais realizadas',\n",
    "                                    mode='lines',\n",
    "                                   name1='Teste',\n",
    "                                   name2='Previsto',\n",
    "                                  is_forecast=True))"
   ]
  },
  {
   "cell_type": "code",
   "execution_count": null,
   "metadata": {
    "pycharm": {
     "name": "#%%\n"
    }
   },
   "outputs": [],
   "source": [
    "# Comparando os dataframes em gráfico de barras\n",
    "\n",
    "iplot(dtview.compare_dataframes_with_bar(\n",
    "    df_274_sem_outliers_teste,\n",
    "    df_teste_final_s_outliers,\n",
    "    nametrace1='Teste',\n",
    "    nametrace2='Previsto'))"
   ]
  },
  {
   "cell_type": "code",
   "execution_count": null,
   "metadata": {
    "pycharm": {
     "name": "#%%\n"
    }
   },
   "outputs": [],
   "source": [
    "# Calculando o mape\n",
    "\n",
    "mape_final = dtexp.mean_absolute_percentage_error(df_274_sem_outliers_teste['y'],df_teste_final_s_outliers['yhat'])\n",
    "print(\"MAPE -------------> \",round(mape_final,4))\n",
    "print(\"MAPE (validação) ---> {}\".format(\n",
    "    fm.mape(np.array(df_274_sem_outliers_teste['y']),\n",
    "    np.array(df_teste_final_s_outliers['yhat']))))"
   ]
  },
  {
   "cell_type": "code",
   "execution_count": null,
   "metadata": {
    "pycharm": {
     "name": "#%%\n"
    }
   },
   "outputs": [],
   "source": [
    "print(\"Valor real: {};\\nValor previsto: {};\\nPrevisão inferior: {};\\nPrevisão superior: {}\"\n",
    "      .format(\n",
    "    df_274_sem_outliers_teste.y.sum(),\n",
    "    df_teste_final_s_outliers.yhat.sum(),\n",
    "    df_teste_final_s_outliers.yhat_lower.sum(),\n",
    "    df_teste_final_s_outliers.yhat_upper.sum()))\n"
   ]
  }
 ],
 "metadata": {
  "kernelspec": {
   "display_name": "Python 3",
   "language": "python",
   "name": "python3"
  },
  "language_info": {
   "codemirror_mode": {
    "name": "ipython",
    "version": 3
   },
   "file_extension": ".py",
   "mimetype": "text/x-python",
   "name": "python",
   "nbconvert_exporter": "python",
   "pygments_lexer": "ipython3",
   "version": "3.8.5"
  }
 },
 "nbformat": 4,
 "nbformat_minor": 1
}
