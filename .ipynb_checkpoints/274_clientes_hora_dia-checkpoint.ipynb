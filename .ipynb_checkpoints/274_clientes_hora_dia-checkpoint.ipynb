{
 "cells": [
  {
   "cell_type": "code",
   "execution_count": 1,
   "metadata": {
    "pycharm": {
     "name": "#%%\n"
    }
   },
   "outputs": [
    {
     "data": {
      "text/html": [
       "        <script type=\"text/javascript\">\n",
       "        window.PlotlyConfig = {MathJaxConfig: 'local'};\n",
       "        if (window.MathJax) {MathJax.Hub.Config({SVG: {font: \"STIX-Web\"}});}\n",
       "        if (typeof require !== 'undefined') {\n",
       "        require.undef(\"plotly\");\n",
       "        requirejs.config({\n",
       "            paths: {\n",
       "                'plotly': ['https://cdn.plot.ly/plotly-latest.min']\n",
       "            }\n",
       "        });\n",
       "        require(['plotly'], function(Plotly) {\n",
       "            window._Plotly = Plotly;\n",
       "        });\n",
       "        }\n",
       "        </script>\n",
       "        "
      ]
     },
     "metadata": {},
     "output_type": "display_data"
    }
   ],
   "source": [
    "from tools import datacleaner as dtclean\n",
    "from tools import dataexplore as dtexp\n",
    "from view import data_visualization as dtview\n",
    "import pandas as pd\n",
    "import numpy as np\n",
    "from fbprophet import Prophet\n",
    "from evaluation import forecast_metrics as fm\n",
    "import seaborn as sns\n",
    "import plotly.graph_objs as go\n",
    "import plotly.tools\n",
    "import matplotlib.pyplot as plt\n",
    "# Offline mode\n",
    "import plotly.offline as py\n",
    "from plotly.offline import init_notebook_mode, iplot\n",
    "import warnings\n",
    "\n",
    "warnings.filterwarnings('ignore')\n",
    "# \"high resolution\"\n",
    "%config InlineBackend.figure_format = 'retina'\n",
    "init_notebook_mode(connected=True)"
   ]
  },
  {
   "cell_type": "markdown",
   "metadata": {},
   "source": [
    "# Obtendo o dataframe"
   ]
  },
  {
   "cell_type": "code",
   "execution_count": null,
   "metadata": {
    "pycharm": {
     "name": "#%%\n"
    }
   },
   "outputs": [],
   "source": [
    "df_274_time_clients = dtclean.get_Dataframes_time(274,'c')\n",
    "df_274_time_clients.reset_index(inplace=True)\n",
    "df_274_clients = dtclean.get_Dataframes(274,'c')\n",
    "df_274_clients.reset_index(inplace=True)\n",
    "\n",
    "sns.set(style=\"darkgrid\")\n",
    "sns.set_context(\"notebook\", font_scale=1.5, rc={\"lines.linewidth\": 2.5})\n"
   ]
  },
  {
   "cell_type": "code",
   "execution_count": null,
   "metadata": {
    "pycharm": {
     "name": "#%%\n"
    }
   },
   "outputs": [],
   "source": [
    "iplot(dtview.plot_scatter(df_274_time_clients,title='Quantidade de clientes/hora'))"
   ]
  },
  {
   "cell_type": "markdown",
   "metadata": {},
   "source": [
    "<div class=\"alert alert-block alert-info\">\n",
    "<b>Obs:</b> Notamos nesse gráfico que há um pico de clientes no mês de março e uma queda significativa no fim\n",
    "do mês de maio. Na celula abaixo criamos um modelo sem promover afinamentos para efeitos de comparação.\n",
    "</div>"
   ]
  },
  {
   "cell_type": "code",
   "execution_count": null,
   "metadata": {
    "pycharm": {
     "name": "#%%\n"
    }
   },
   "outputs": [],
   "source": [
    "model = Prophet(interval_width=0.95)\n",
    "model.fit(df_274_time_clients)\n",
    "forecast = model.predict(df_274_time_clients)\n",
    "model.plot(forecast)\n"
   ]
  },
  {
   "cell_type": "markdown",
   "metadata": {},
   "source": [
    "# Análise dos Dados\n",
    "\n",
    "<div class=\"alert alert-block alert-warning\">\n",
    "<b>Obs:</b> Na análise dos dados identificamos incosistências que podem comprometer a performance dos modelos\n",
    "gerados nesse trabalho. Para mitigar esse impacto foram feitas análises sobre os dados agregados ao dia e por hora.\n",
    "Esse notebook inicia a apresentação dos dados agregados por hora.\n",
    "</div>"
   ]
  },
  {
   "cell_type": "code",
   "execution_count": null,
   "metadata": {
    "pycharm": {
     "name": "#%%\n"
    }
   },
   "outputs": [],
   "source": [
    "iplot(dtview.plot_scatter(df_274_time_clients,title='Vendas/hora (março-maio de 2020)'))"
   ]
  },
  {
   "cell_type": "code",
   "execution_count": null,
   "metadata": {
    "pycharm": {
     "name": "#%%\n"
    }
   },
   "outputs": [],
   "source": [
    "df_new = dtexp.date_features(df_274_time_clients)\n",
    "mesAgregado = pd.DataFrame(df_new.groupby(\"semana\")[\"y\"].sum()).reset_index().sort_values('y')\n",
    "semanaAgregada = pd.DataFrame(df_new.groupby(\"num\")[\"y\"].sum()).reset_index().sort_values('num')\n",
    "iplot(dtview.plot_dados_agregados_semana_mes(mesAgregado,tipo_agregacao='m',xaxes_title='Nº da semana',yaxis_title='Total de clientes',\n",
    "                                      title='Clientes por Semana', hover='31/05'))\n",
    "iplot(dtview.plot_dados_agregados_semana_mes(semanaAgregada,xaxes_title='Nº do dia (0 = Domingo, 1 = Segunda ...)',yaxis_title='Total de clientes',\n",
    "                                      title='Clientes por dia'))"
   ]
  },
  {
   "cell_type": "markdown",
   "metadata": {},
   "source": [
    "<div class=\"alert alert-block alert-info\">\n",
    "<b>Clientes por Semana:</b> Mensalmente há, conforme já observado, um pico de clientes entre a 9ª e a 11ª semana de 2020,\n",
    "que corresponde ao período de 24 de fevereiro à 15 de março, contudo nossos dados começam em 01 de março.\n",
    "Destaca-se a última semana (22ª) como a de menor volume de clientes.\n",
    "<p><b>Vendas por Dia:</b> Na quantidade diária de clientes nota-se que a quarta-feira é o dia de menor quantidade de clientes, e,\n",
    "a partir da quinta-feira há um salto na quantidade de clientes com o pico ocorrendo no sábado.</p>\n",
    "</div>"
   ]
  },
  {
   "cell_type": "code",
   "execution_count": null,
   "metadata": {
    "pycharm": {
     "name": "#%%\n"
    }
   },
   "outputs": [],
   "source": [
    "df_274_clients_treino, df_274_clients_teste = dtexp.configura_dataframe_treino_teste(df_274_time_clients)\n",
    "periods=df_274_clients_teste.shape[0]"
   ]
  },
  {
   "cell_type": "markdown",
   "metadata": {},
   "source": [
    "# Visualizando o montante de dados para os datasets de treino e de teste"
   ]
  },
  {
   "cell_type": "code",
   "execution_count": null,
   "metadata": {
    "pycharm": {
     "name": "#%%\n"
    }
   },
   "outputs": [],
   "source": [
    "iplot(dtview.compare_dataframes_with_scatter(df_274_clients_treino,\n",
    "                                   df_274_clients_teste,\n",
    "                                   title='Montante de dados de clientes de Treinamento e Teste',\n",
    "                                    mode='lines',\n",
    "                                   name1='Treinamento',\n",
    "                                   name2='Teste'))"
   ]
  },
  {
   "cell_type": "code",
   "execution_count": null,
   "metadata": {
    "pycharm": {
     "name": "#%%\n"
    }
   },
   "outputs": [],
   "source": [
    "prophet = Prophet()\n",
    "prophet.fit(df_274_clients_treino)\n",
    "future_clientes = prophet.make_future_dataframe(periods=periods, freq='30min')\n",
    "# Removendo valores fora do range de atendimento da loja (22:30 - 05:59)\n",
    "future_clientes['ds'] = pd.to_datetime(future_clientes['ds'])\n",
    "future_clientes = future_clientes.set_index(pd.DatetimeIndex(future_clientes['ds']))\n",
    "future_clientes = future_clientes.between_time('08:00','21:00')\n",
    "forecast_clientes = prophet.predict(future_clientes)\n",
    "forecast_clientes = dtclean.remove_negative_values(forecast_clientes)\n",
    "forecast_clientes.to_cvs('forecast_clientes.cvs')\n",
    "iplot(dtview.plot_forecast_as_table(forecast_clientes))"
   ]
  },
  {
   "cell_type": "markdown",
   "metadata": {},
   "source": [
    "# Visualizando os componentes da série temporal"
   ]
  },
  {
   "cell_type": "code",
   "execution_count": null,
   "metadata": {
    "pycharm": {
     "name": "#%%\n"
    }
   },
   "outputs": [],
   "source": [
    "fig = prophet.plot_components(forecast_clientes, figsize=(12,8))\n",
    "\n",
    "f, ax = plt.subplots(1)\n",
    "f.set_figheight(5)\n",
    "f.set_figwidth(15)\n",
    "fig = prophet.plot(forecast_clientes,ax=ax)\n",
    "plt.show()"
   ]
  },
  {
   "cell_type": "code",
   "execution_count": null,
   "metadata": {
    "pycharm": {
     "name": "#%%\n"
    }
   },
   "outputs": [],
   "source": [
    "df_274_clients_teste_forecast = prophet.predict(df_274_clients_teste)\n",
    "df_274_clients_teste_forecast=dtclean.remove_negative_values(df_274_clients_teste_forecast)"
   ]
  },
  {
   "cell_type": "markdown",
   "metadata": {},
   "source": [
    "# Visualizando a previsão"
   ]
  },
  {
   "cell_type": "code",
   "execution_count": null,
   "metadata": {
    "pycharm": {
     "name": "#%%\n"
    }
   },
   "outputs": [],
   "source": [
    "f, ax = plt.subplots(1)\n",
    "f.set_figheight(5)\n",
    "f.set_figwidth(15)\n",
    "ax.scatter(df_274_clients_teste.ds,df_274_clients_teste['y'], color='r')\n",
    "fig = prophet.plot(df_274_clients_teste_forecast,ax=ax)\n",
    "plt.show()\n"
   ]
  },
  {
   "cell_type": "markdown",
   "metadata": {},
   "source": [
    "# Comparação entre a quantidade de clientes previstos e realizadas"
   ]
  },
  {
   "cell_type": "code",
   "execution_count": null,
   "metadata": {
    "pycharm": {
     "name": "#%%\n"
    }
   },
   "outputs": [],
   "source": [
    "iplot(dtview.compare_dataframes_with_scatter(df_274_clients_teste,\n",
    "                                   df_274_clients_teste_forecast,\n",
    "                                   title='Previsão de clientes vs Vendas originais realizadas',\n",
    "                                    mode='lines',\n",
    "                                   name1='Teste',\n",
    "                                   name2='Previsto',\n",
    "                                  is_forecast=True))"
   ]
  },
  {
   "cell_type": "code",
   "execution_count": null,
   "metadata": {
    "pycharm": {
     "name": "#%%\n"
    }
   },
   "outputs": [],
   "source": [
    "# Visualizando a previsão e os dados originais\n",
    "f, ax = plt.subplots(1)\n",
    "f.set_figheight(5)\n",
    "f.set_figwidth(15)\n",
    "ax.scatter(df_274_clients_teste.ds, df_274_clients_teste['y'], color='r')\n",
    "fig = prophet.plot(df_274_clients_teste_forecast, ax=ax)\n",
    "ax.set_xbound(lower='2020-05-24', upper='2020-05-31')\n",
    "ax.set_ylim(0, 2000)\n",
    "plot = plt.suptitle('Última semana de Maio - Previsão vs Original')"
   ]
  },
  {
   "cell_type": "code",
   "execution_count": null,
   "metadata": {
    "pycharm": {
     "name": "#%%\n"
    }
   },
   "outputs": [],
   "source": [
    "print(\"MAPE ------> {}\".format(fm.mape(np.array(df_274_clients_teste['y']),\n",
    "                                                    np.array(df_274_clients_teste_forecast['yhat']))))\n"
   ]
  },
  {
   "cell_type": "code",
   "execution_count": null,
   "metadata": {
    "pycharm": {
     "name": "#%%\n"
    }
   },
   "outputs": [],
   "source": [
    "iplot(dtview.compare_dataframes_with_bar(\n",
    "    df_274_clients_teste,\n",
    "    df_274_clients_teste_forecast,\n",
    "    nametrace1='Valor Real',\n",
    "    nametrace2='Valor Previsto',\n",
    "    idx_end=28))"
   ]
  },
  {
   "cell_type": "markdown",
   "metadata": {},
   "source": [
    "# Criando novo modelo com os feriados"
   ]
  },
  {
   "cell_type": "code",
   "execution_count": null,
   "metadata": {
    "pycharm": {
     "name": "#%%\n"
    }
   },
   "outputs": [],
   "source": [
    "prophet_feriados = Prophet(holidays=dtclean.get_Holiday())\n",
    "prophet_feriados.add_country_holidays('BR')\n",
    "prophet_feriados.fit(df_274_clients_treino)\n",
    "# Criando as datas futuras previstas pelo prophet\n",
    "# A frequência especificada em horas (os dados estão em horas)\n",
    "future_feriados = prophet_feriados.make_future_dataframe(freq='30min', periods=periods)\n",
    "# Prevendo os valores\n",
    "forecast_feriados = prophet_feriados.predict(future_feriados)\n",
    "# Removendo valores fora do range de atendimento da loja (22:30 - 05:59)\n",
    "future_feriados['ds'] = pd.to_datetime(future_feriados['ds'])\n",
    "future_feriados = future_feriados.set_index(pd.DatetimeIndex(future_feriados['ds']))\n",
    "future_feriados = future_feriados.between_time('08:00','21:00')\n",
    "# Previsão optimizada dos valores\n",
    "forecast_feriados = prophet_feriados.predict(future_feriados)\n",
    "forecast_feriados = dtclean.remove_negative_values(forecast_feriados)\n",
    "iplot(dtview.plot_forecast_as_table(forecast_feriados))"
   ]
  },
  {
   "cell_type": "code",
   "execution_count": null,
   "metadata": {
    "pycharm": {
     "name": "#%%\n"
    }
   },
   "outputs": [],
   "source": [
    "plt,fig_forecast_feriado = dtview.plot_forecast(forecast_feriados,prophet_feriados,f,ax)\n",
    "plt.show()\n"
   ]
  },
  {
   "cell_type": "markdown",
   "metadata": {},
   "source": [
    "## Visualizar dataframe de teste previsto e original com feriados"
   ]
  },
  {
   "cell_type": "code",
   "execution_count": null,
   "metadata": {
    "pycharm": {
     "name": "#%%\n"
    }
   },
   "outputs": [],
   "source": [
    "forecast_teste_feriados = prophet_feriados.predict(df_274_clients_teste)\n",
    "forecast_teste_feriados = dtclean.remove_negative_values(forecast_teste_feriados)\n",
    "\n",
    "iplot(dtview.compare_dataframes_with_scatter(\n",
    "    df_274_clients_teste,\n",
    "    forecast_teste_feriados,\n",
    "    title='Dados Previsto vs Original última semana de maio/2020',\n",
    "    mode='lines',\n",
    "    name1='Original',\n",
    "    name2='Previsão com feriados',\n",
    "    is_forecast=True))"
   ]
  },
  {
   "cell_type": "code",
   "execution_count": null,
   "metadata": {
    "pycharm": {
     "name": "#%%\n"
    }
   },
   "outputs": [],
   "source": [
    "mape_com_feriados = fm.mape(np.array(df_274_clients_teste.y),np.array(forecast_teste_feriados.yhat))\n",
    "print(\"MAPE\",mape_com_feriados)"
   ]
  },
  {
   "cell_type": "markdown",
   "metadata": {},
   "source": [
    "# FIM ANALISE POR HORA"
   ]
  },
  {
   "cell_type": "markdown",
   "metadata": {},
   "source": [
    "# **Análise dos dados de clientes agupados ao dia (loja 274)**"
   ]
  },
  {
   "cell_type": "code",
   "execution_count": null,
   "metadata": {
    "pycharm": {
     "name": "#%%\n"
    }
   },
   "outputs": [],
   "source": [
    "# Análise de clientes agrupadas ao dia\n",
    "\n",
    "iplot(dtview.plot_scatter(df_274_clients,title='Produtos vendidos'))\n"
   ]
  },
  {
   "cell_type": "code",
   "execution_count": null,
   "metadata": {
    "pycharm": {
     "name": "#%%\n"
    }
   },
   "outputs": [],
   "source": [
    "model = Prophet()\n",
    "model.fit(df_274_clients)\n",
    "forecast = model.predict(df_274_clients)\n",
    "model.plot(forecast,figsize=(12,8))"
   ]
  },
  {
   "cell_type": "code",
   "execution_count": null,
   "metadata": {
    "pycharm": {
     "name": "#%%\n"
    }
   },
   "outputs": [],
   "source": [
    "df_274_clients_treino_diario, df_274_clients_teste_diario = dtexp.configura_dataframe_treino_teste(df_274_clients)"
   ]
  },
  {
   "cell_type": "markdown",
   "metadata": {},
   "source": [
    "## Visualizando a representação dos datasets de treino e de teste sobre o montante total."
   ]
  },
  {
   "cell_type": "code",
   "execution_count": null,
   "metadata": {
    "pycharm": {
     "name": "#%%\n"
    }
   },
   "outputs": [],
   "source": [
    "iplot(dtview.compare_dataframes_with_scatter(df_274_clients_treino_diario,\n",
    "                                   df_274_clients_teste_diario,\n",
    "                                   title='Montante de dados de clientes de Treinamento e Teste',\n",
    "                                    mode='lines',\n",
    "                                   name1='Treinamento',\n",
    "                                   name2='Teste'))"
   ]
  },
  {
   "cell_type": "code",
   "execution_count": null,
   "metadata": {
    "pycharm": {
     "name": "#%%\n"
    }
   },
   "outputs": [],
   "source": [
    "prophet = Prophet()\n",
    "prophet.fit(df_274_clients_treino_diario)\n",
    "future_clientes = prophet.make_future_dataframe(periods=7, freq='D')\n",
    "forecast_clientes = prophet.predict(future_clientes)"
   ]
  },
  {
   "cell_type": "code",
   "execution_count": null,
   "metadata": {
    "pycharm": {
     "name": "#%%\n"
    }
   },
   "outputs": [],
   "source": [
    "fig = prophet.plot_components(forecast_clientes, figsize=(12,8))\n"
   ]
  },
  {
   "cell_type": "markdown",
   "metadata": {},
   "source": [
    "# Modelo Baseado na Decomposição dos Componentes\n",
    "\n",
    "<div class=\"alert alert-block alert-info\">\n",
    "<b>Tendência:</b> Os dados apresentam uma tendência de queda da quantidade de clientes.\n",
    "<p><b>Componente Semanal:</b> Nesse componente observamos um volume negativo de clientes entre domingo e quarta.\n",
    "Isso ocorre em função da sazonalidade semanal e diária que ainda não foi identificada corretamente e as grandes\n",
    "variações nas quantidades de clientes entre os meses de março e os seguintes. Esses fatores podem ser os que\n",
    "apresentam maior influência nesses resultados. Notamos que a quarta-feira, no modelo previsto, mantém o comportamento\n",
    "identificado anteriormente nos dados reais.</p>\n",
    "</div>"
   ]
  },
  {
   "cell_type": "code",
   "execution_count": null,
   "metadata": {
    "pycharm": {
     "name": "#%%\n"
    }
   },
   "outputs": [],
   "source": [
    "# Visualizando a previsão\n",
    "f, ax = plt.subplots(1)\n",
    "f.set_figheight(5)\n",
    "f.set_figwidth(15)\n",
    "fig = prophet.plot(forecast_clientes,ax=ax)\n",
    "plt.show()"
   ]
  },
  {
   "cell_type": "markdown",
   "metadata": {},
   "source": [
    "<div class=\"alert alert-block alert-info\">\n",
    "<b>Gráfico do modelo previsto:</b> Os pontos escuros no gráfico representam os dados reais e na altura da segunda semana\n",
    "de março, observamos dados que escapam do modelo previsto indicando possíveis outliers. As linhas azuis mais escura,\n",
    "representam a previsão de quantidade de clientes enquanto as linhas mais claras representam o intervalo de\n",
    "confiança em torno da previsão.\n",
    "</div>"
   ]
  },
  {
   "cell_type": "code",
   "execution_count": null,
   "metadata": {
    "pycharm": {
     "name": "#%%\n"
    }
   },
   "outputs": [],
   "source": [
    "df_274_clients_teste_diario_forecast = prophet.predict(df_274_clients_teste_diario)"
   ]
  },
  {
   "cell_type": "code",
   "execution_count": null,
   "metadata": {
    "pycharm": {
     "name": "#%%\n"
    }
   },
   "outputs": [],
   "source": [
    "# Visualizando a previsão\n",
    "f, ax = plt.subplots(1)\n",
    "f.set_figheight(5)\n",
    "f.set_figwidth(15)\n",
    "ax.scatter(df_274_clients_teste_diario.ds,df_274_clients_teste_diario['y'], color='r')\n",
    "fig = prophet.plot(df_274_clients_teste_diario_forecast,ax=ax)\n",
    "plt.show()\n"
   ]
  },
  {
   "cell_type": "markdown",
   "metadata": {},
   "source": [
    "# Comparação entre as clientes do dataset previsto e as clientes do dataset de teste (quantidade real de clientes)"
   ]
  },
  {
   "cell_type": "code",
   "execution_count": null,
   "metadata": {
    "pycharm": {
     "name": "#%%\n"
    }
   },
   "outputs": [],
   "source": [
    "iplot(dtview.compare_dataframes_with_scatter(df_274_clients_teste_diario,\n",
    "                                   df_274_clients_teste_diario_forecast,\n",
    "                                   title='Previsão do número de clientes vs quantidade real de clientes',\n",
    "                                    mode='lines',\n",
    "                                   name1='Teste',\n",
    "                                   name2='Previsto',\n",
    "                                  is_forecast=True))"
   ]
  },
  {
   "cell_type": "code",
   "execution_count": null,
   "metadata": {
    "pycharm": {
     "name": "#%%\n"
    }
   },
   "outputs": [],
   "source": [
    "f, ax = plt.subplots(1)\n",
    "f.set_figheight(5)\n",
    "f.set_figwidth(15)\n",
    "ax.scatter(df_274_clients_teste_diario.ds, df_274_clients_teste_diario['y'], color='r')\n",
    "fig = prophet.plot(df_274_clients_teste_diario_forecast, ax=ax)\n",
    "ax.set_xbound(lower='2020-05-24', upper='2020-05-31')\n",
    "ax.set_ylim(0, 11000)\n",
    "plot = plt.suptitle('Última semana de Maio - Previsão vs Original')"
   ]
  },
  {
   "cell_type": "code",
   "execution_count": null,
   "metadata": {
    "pycharm": {
     "name": "#%%\n"
    }
   },
   "outputs": [],
   "source": [
    "mape_analysis = []\n",
    "mape_analysis.append(fm.mape(np.array(df_274_clients_teste_diario['y']),\n",
    "                                       np.array(df_274_clients_teste_diario_forecast['yhat'])))\n",
    "print(\"MAPE ------> {}\".format(mape_analysis[0]))\n"
   ]
  },
  {
   "cell_type": "code",
   "execution_count": null,
   "metadata": {
    "pycharm": {
     "name": "#%%\n"
    }
   },
   "outputs": [],
   "source": [
    "iplot(dtview.compare_dataframes_with_bar(\n",
    "    df_274_clients_teste_diario,\n",
    "    df_274_clients_teste_diario_forecast,\n",
    "    nametrace1='Valor Real',\n",
    "    nametrace2='Valor Previsto',\n",
    "    idx_end=28))"
   ]
  },
  {
   "cell_type": "markdown",
   "metadata": {},
   "source": [
    "# Criando novo modelo com os feriados\n",
    "\n",
    "<div class=\"alert alert-block alert-info\">\n",
    "<b>Adicionando feriados ao modelo:</b> Vamos verificar se há melhora no MAPE com os feriados adicionados ao novo modelo.\n",
    "</div>"
   ]
  },
  {
   "cell_type": "code",
   "execution_count": null,
   "metadata": {
    "pycharm": {
     "name": "#%%\n"
    }
   },
   "outputs": [],
   "source": [
    "prophet_feriados = Prophet(holidays=dtclean.get_Holiday())\n",
    "prophet_feriados.add_country_holidays('BR')\n",
    "prophet_feriados.fit(df_274_clients_treino_diario)\n",
    "# Criando as datas futuras previstas pelo prophet\n",
    "# A frequência especificada em dias (os dados estão em dias)\n",
    "future_feriados = prophet_feriados.make_future_dataframe(freq='D', periods=7)\n",
    "# Prevendo os valores\n",
    "forecast_feriados = prophet_feriados.predict(future_feriados)\n",
    "# Previsão optimizada dos valores\n",
    "forecast_feriados = prophet_feriados.predict(future_feriados)"
   ]
  },
  {
   "cell_type": "code",
   "execution_count": null,
   "metadata": {
    "pycharm": {
     "name": "#%%\n"
    }
   },
   "outputs": [],
   "source": [
    "plt,fig_forecast_feriado = dtview.plot_forecast(forecast_feriados,prophet_feriados,f,ax)\n",
    "plt.show()"
   ]
  },
  {
   "cell_type": "markdown",
   "metadata": {},
   "source": [
    "<div class=\"alert alert-block alert-info\">\n",
    "Visualmente não notamos grandes diferenças no gráfico previsto para o novo modelo gerado com feriados. Cabe destacar\n",
    "que não sabemos os feriados específicos da cidade e sequer eventos que possam impactar na variável em análise, como\n",
    "dias de jogos de futebol, eventos festivos e etc.\n",
    "</div>\n",
    "\n",
    "# Visualizando os componentes do modelo"
   ]
  },
  {
   "cell_type": "code",
   "execution_count": null,
   "metadata": {
    "pycharm": {
     "name": "#%%\n"
    }
   },
   "outputs": [],
   "source": [
    "fig_forecast_feriado = prophet_feriados.plot_components(forecast_feriados, figsize=(12,8))"
   ]
  },
  {
   "cell_type": "markdown",
   "metadata": {},
   "source": [
    "<div class=\"alert alert-block alert-info\">\n",
    "<b>Componentes:</b> Também não há diferenças nos gráficos de componentes de tendência e semanal, apenas há um novo\n",
    "componente que representa o feriado onde se espera que não haja clientes nesses dias, contudo, isso pode representar\n",
    "exatamente o oposto, isto é, a loja funciona nos feriados e há um volume de clientes razoável nos dias que antecedem\n",
    "o feriado, é preciso saber essas informações para adaptar o modelo.\n",
    "</div>"
   ]
  },
  {
   "cell_type": "code",
   "execution_count": null,
   "metadata": {
    "pycharm": {
     "name": "#%%\n"
    }
   },
   "outputs": [],
   "source": [
    "forecast_teste_feriados = prophet_feriados.predict(df_274_clients_teste_diario)"
   ]
  },
  {
   "cell_type": "markdown",
   "metadata": {},
   "source": [
    "## Visualizar dataframe de teste previsto e original com feriados"
   ]
  },
  {
   "cell_type": "code",
   "execution_count": null,
   "metadata": {
    "pycharm": {
     "name": "#%%\n"
    }
   },
   "outputs": [],
   "source": [
    "iplot(dtview.compare_dataframes_with_scatter(\n",
    "    df_274_clients_teste_diario,\n",
    "    forecast_teste_feriados,\n",
    "    title='Dados Previsto vs Original última semana de maio/2020',\n",
    "    mode='lines',\n",
    "    name1='Original',\n",
    "    name2='Previsão com feriados',\n",
    "    is_forecast=True))"
   ]
  },
  {
   "cell_type": "code",
   "execution_count": null,
   "metadata": {
    "pycharm": {
     "name": "#%%\n"
    }
   },
   "outputs": [],
   "source": [
    "mape_analysis.append(fm.mape(np.array(df_274_clients_teste_diario.y), np.array(forecast_teste_feriados.yhat)))\n",
    "print(\"MAPE ------> {}\".format(mape_analysis[1]))"
   ]
  },
  {
   "cell_type": "markdown",
   "metadata": {},
   "source": [
    "<div class=\"alert alert-block alert-info\">\n",
    "Conforme podemos verificar pelo resultado do MAPE, a adição dos feriados não ocasionou impactos dignos de nota.\n",
    "</div>"
   ]
  },
  {
   "cell_type": "markdown",
   "metadata": {},
   "source": [
    "## Treinando o modelo com os melhores parâmetros identificados\n",
    "\n",
    "+ changepoint_prior_scale= 10\n",
    "+ holidays_prior_scale = 0.3\n",
    "+ n_changepoints = 30\n",
    "+ seasonality_mode = 'multiplicative'\n",
    "+ seasonality_prior_scale = 15,20,25"
   ]
  },
  {
   "cell_type": "code",
   "execution_count": null,
   "metadata": {
    "pycharm": {
     "name": "#%%\n"
    }
   },
   "outputs": [],
   "source": [
    "# Configurando e treinando o modelo com feriados e parâmetros otimizados\n",
    "final_prophet = Prophet(holidays=dtclean.get_Holiday(),\n",
    "                      changepoint_prior_scale= 10,\n",
    "                      holidays_prior_scale = 0.3,\n",
    "                      n_changepoints = 30,\n",
    "                      seasonality_mode = 'multiplicative',\n",
    "                      seasonality_prior_scale = 15,\n",
    "                      weekly_seasonality=True,\n",
    "                      daily_seasonality = True,\n",
    "                      yearly_seasonality = True,\n",
    "                      interval_width=0.95)\n",
    "final_prophet.add_country_holidays(country_name='BR')\n",
    "final_prophet.fit(df_274_clients_treino_diario)"
   ]
  },
  {
   "cell_type": "code",
   "execution_count": null,
   "metadata": {
    "pycharm": {
     "name": "#%%\n"
    }
   },
   "outputs": [],
   "source": [
    "future_final = final_prophet.make_future_dataframe(periods=7, freq='D')\n",
    "forecast_final = final_prophet.predict(future_final)"
   ]
  },
  {
   "cell_type": "code",
   "execution_count": null,
   "metadata": {
    "pycharm": {
     "name": "#%%\n"
    }
   },
   "outputs": [],
   "source": [
    "# Visualizando os componentes do modelo\n",
    "fig = final_prophet.plot_components(forecast_final, figsize=(12,10))"
   ]
  },
  {
   "cell_type": "markdown",
   "metadata": {},
   "source": [
    "<div class=\"alert alert-block alert-info\">\n",
    "Na plotagem dos componentes, observamos que o eixo y teve uma redução. Esse eixo representa o quanto o dia da semana\n",
    "afeta ou impacta na previsão, antes dos parâmetros tunados e sem adição dos feriados, era superior a 2000 % e agora\n",
    "reduziu para 250%. Entre domingo e quinta-feira há uma variação que supera 250% para a sazonalidade semanal e\n",
    "na sazonalidade anual, há uma variação superior a 5000% entre fevereiro e março, essas variações são as responsáveis\n",
    "por verificarmos valores negativos na previsão. Um teste para tratar essa situação poderá ser separar o dataset em semana\n",
    "útil e fins de semana, para verificar se há melhora na acurácia e remoção dos valores negativos.\n",
    "</div>"
   ]
  },
  {
   "cell_type": "code",
   "execution_count": null,
   "metadata": {
    "pycharm": {
     "name": "#%%\n"
    }
   },
   "outputs": [],
   "source": [
    "from fbprophet.plot import plot_weekly\n",
    "\n",
    "fig_w = plot_weekly(final_prophet)"
   ]
  },
  {
   "cell_type": "code",
   "execution_count": null,
   "metadata": {
    "pycharm": {
     "name": "#%%\n"
    }
   },
   "outputs": [],
   "source": [
    "# Visualizando a previsão\n",
    "f, ax = plt.subplots(1)\n",
    "f.set_figheight(5)\n",
    "f.set_figwidth(15)\n",
    "fig = final_prophet.plot(forecast_final,ax=ax)\n",
    "plt.show()"
   ]
  },
  {
   "cell_type": "code",
   "execution_count": null,
   "metadata": {
    "pycharm": {
     "name": "#%%\n"
    }
   },
   "outputs": [],
   "source": [
    "df_teste_final= final_prophet.predict(df_274_clients_teste_diario)"
   ]
  },
  {
   "cell_type": "code",
   "execution_count": null,
   "metadata": {
    "pycharm": {
     "name": "#%%\n"
    }
   },
   "outputs": [],
   "source": [
    "iplot(dtview.compare_dataframes_with_scatter(df_274_clients_teste_diario,\n",
    "                                   df_teste_final,\n",
    "                                   title='Previsão da quantiade de clientes vs quantidade real de clientes',\n",
    "                                    mode='lines',\n",
    "                                   name1='Teste',\n",
    "                                   name2='Previsto',\n",
    "                                  is_forecast=True))"
   ]
  },
  {
   "cell_type": "code",
   "execution_count": null,
   "metadata": {
    "pycharm": {
     "name": "#%%\n"
    }
   },
   "outputs": [],
   "source": [
    "iplot(dtview.compare_dataframes_with_bar(\n",
    "    df_274_clients_teste_diario,\n",
    "    df_teste_final,\n",
    "    nametrace1='Teste',\n",
    "    nametrace2='Previsto'))"
   ]
  },
  {
   "cell_type": "code",
   "execution_count": null,
   "metadata": {
    "pycharm": {
     "name": "#%%\n"
    }
   },
   "outputs": [],
   "source": [
    "mape_analysis.append(fm.mape(np.array(df_274_clients_teste_diario.y), np.array(df_teste_final.yhat)))\n",
    "print(\"MAPE -----> {}\".format(mape_analysis[2]))"
   ]
  },
  {
   "cell_type": "markdown",
   "metadata": {},
   "source": [
    "# Identificando os outliers"
   ]
  },
  {
   "cell_type": "code",
   "execution_count": null,
   "metadata": {
    "pycharm": {
     "name": "#%%\n"
    }
   },
   "outputs": [],
   "source": [
    "dtview.check_outliers_univariate(df_274_clients)"
   ]
  },
  {
   "cell_type": "code",
   "execution_count": null,
   "metadata": {
    "pycharm": {
     "name": "#%%\n"
    }
   },
   "outputs": [],
   "source": [
    "df_sem_outliers = df_274_clients[df_274_clients['y'] < 15689]"
   ]
  },
  {
   "cell_type": "code",
   "execution_count": null,
   "metadata": {
    "pycharm": {
     "name": "#%%\n"
    }
   },
   "outputs": [],
   "source": [
    "df_274_sem_outliers_treino, df_274_sem_outliers_teste = dtexp.configura_dataframe_treino_teste(df_sem_outliers)"
   ]
  },
  {
   "cell_type": "code",
   "execution_count": null,
   "metadata": {
    "pycharm": {
     "name": "#%%\n"
    }
   },
   "outputs": [],
   "source": [
    "iplot(dtview.compare_dataframes_with_scatter(df_274_sem_outliers_treino,\n",
    "                                   df_274_sem_outliers_teste,\n",
    "                                   title='Montante de dados de clientes de Treinamento e Teste (sem outliers)',\n",
    "                                    mode='lines',\n",
    "                                   name1='Treinamento',\n",
    "                                   name2='Teste'))"
   ]
  },
  {
   "cell_type": "code",
   "execution_count": null,
   "metadata": {
    "pycharm": {
     "name": "#%%\n"
    }
   },
   "outputs": [],
   "source": [
    "prophet_no_outliers = Prophet()\n",
    "prophet_no_outliers.fit(df_274_sem_outliers_treino)\n",
    "future_no_outliers = prophet_no_outliers.make_future_dataframe(periods=7, freq='D')\n",
    "forecast_no_outliers = prophet_no_outliers.predict(future_no_outliers)\n",
    "\n",
    "iplot(dtview.plot_forecast_as_table(forecast_no_outliers))"
   ]
  },
  {
   "cell_type": "code",
   "execution_count": null,
   "metadata": {
    "pycharm": {
     "name": "#%%\n"
    }
   },
   "outputs": [],
   "source": [
    "# Visualizando os componentes\n",
    "\n",
    "fig = prophet_no_outliers.plot_components(forecast_no_outliers, figsize=(12,8))\n"
   ]
  },
  {
   "cell_type": "code",
   "execution_count": null,
   "metadata": {
    "pycharm": {
     "name": "#%%\n"
    }
   },
   "outputs": [],
   "source": [
    "# Visualizando a previsão\n",
    "f, ax = plt.subplots(1)\n",
    "f.set_figheight(5)\n",
    "f.set_figwidth(15)\n",
    "fig = prophet_no_outliers.plot(forecast_no_outliers,ax=ax)\n",
    "plt.show()"
   ]
  },
  {
   "cell_type": "code",
   "execution_count": null,
   "metadata": {
    "pycharm": {
     "name": "#%%\n"
    }
   },
   "outputs": [],
   "source": [
    "df_274_no_outliers_teste_forecast = prophet_no_outliers.predict(df_274_sem_outliers_teste)"
   ]
  },
  {
   "cell_type": "code",
   "execution_count": null,
   "metadata": {
    "pycharm": {
     "name": "#%%\n"
    }
   },
   "outputs": [],
   "source": [
    "iplot(dtview.compare_dataframes_with_scatter(df_274_sem_outliers_teste,\n",
    "                                   df_274_no_outliers_teste_forecast,\n",
    "                                   title='Previsão da quantiade de clientes vs quantidade real de clientes',\n",
    "                                    mode='lines',\n",
    "                                   name1='Teste',\n",
    "                                   name2='Previsto',\n",
    "                                  is_forecast=True))"
   ]
  },
  {
   "cell_type": "code",
   "execution_count": null,
   "metadata": {
    "pycharm": {
     "name": "#%%\n"
    }
   },
   "outputs": [],
   "source": [
    "# Visualizando a previsão\n",
    "f, ax = plt.subplots(1)\n",
    "f.set_figheight(5)\n",
    "f.set_figwidth(15)\n",
    "ax.scatter(df_274_sem_outliers_teste.ds,df_274_sem_outliers_teste['y'], color='r')\n",
    "fig = prophet_no_outliers.plot(df_274_no_outliers_teste_forecast,ax=ax)\n",
    "plt.show()"
   ]
  },
  {
   "cell_type": "markdown",
   "metadata": {},
   "source": [
    "## Comparando os dados previsto com os realizados"
   ]
  },
  {
   "cell_type": "code",
   "execution_count": null,
   "metadata": {
    "pycharm": {
     "name": "#%%\n"
    }
   },
   "outputs": [],
   "source": [
    "f, ax = plt.subplots(1)\n",
    "f.set_figheight(5)\n",
    "f.set_figwidth(15)\n",
    "ax.scatter(df_274_sem_outliers_teste.ds, df_274_sem_outliers_teste['y'], color='r')\n",
    "fig = prophet_no_outliers.plot(df_274_no_outliers_teste_forecast, ax=ax)\n",
    "ax.set_xbound(lower='2020-05-24', upper='2020-05-31')\n",
    "ax.set_ylim(0, 15000)\n",
    "plot = plt.suptitle('Primeira semana de Maio - Previsão vs Original')"
   ]
  },
  {
   "cell_type": "code",
   "execution_count": null,
   "metadata": {
    "pycharm": {
     "name": "#%%\n"
    }
   },
   "outputs": [],
   "source": [
    "iplot(dtview.compare_dataframes_with_bar(\n",
    "        df_274_sem_outliers_teste,\n",
    "        df_274_no_outliers_teste_forecast,\n",
    "        nametrace1='Valor Real (sem outliers)',\n",
    "        nametrace2='Valor Previsto (sem outliers)',\n",
    "        idx_end=28))"
   ]
  },
  {
   "cell_type": "code",
   "execution_count": null,
   "metadata": {
    "pycharm": {
     "name": "#%%\n"
    }
   },
   "outputs": [],
   "source": [
    "mape_analysis.append(fm.mape(np.array(df_274_sem_outliers_teste.y),\n",
    "                               np.array(df_274_no_outliers_teste_forecast.yhat)))\n",
    "print(\"MAPE -----> {}\".format(mape_analysis[3]))\n"
   ]
  },
  {
   "cell_type": "code",
   "execution_count": null,
   "metadata": {
    "pycharm": {
     "name": "#%%\n"
    }
   },
   "outputs": [],
   "source": [
    "prophet_feriados_s_outliers = Prophet(holidays=dtclean.get_Holiday())\n",
    "\n",
    "prophet_feriados_s_outliers.add_country_holidays('BR')\n",
    "prophet_feriados_s_outliers.fit(df_274_sem_outliers_treino)\n",
    "# Criando as datas futuras previstas pelo prophet\n",
    "# A frequência especificada em dias (os dados estão em dias)\n",
    "future_feriados_s_outliers = prophet_feriados_s_outliers.make_future_dataframe(freq='D', periods=7)\n",
    "# Prevendo os valores\n",
    "forecast_feriados_s_outliers = prophet_feriados_s_outliers.predict(future_feriados_s_outliers)\n",
    "# Previsão optimizada dos valores\n",
    "future_feriados_s_outliers = prophet_feriados_s_outliers.predict(future_feriados_s_outliers)"
   ]
  },
  {
   "cell_type": "code",
   "execution_count": null,
   "metadata": {
    "pycharm": {
     "name": "#%%\n"
    }
   },
   "outputs": [],
   "source": [
    "plt,fig_forecast_feriado_s_outliers = dtview.plot_forecast(future_feriados_s_outliers,prophet_feriados_s_outliers,f,ax)\n",
    "plt.show()"
   ]
  },
  {
   "cell_type": "markdown",
   "metadata": {},
   "source": [
    "# Visualizando os componentes do modelo"
   ]
  },
  {
   "cell_type": "code",
   "execution_count": null,
   "metadata": {
    "pycharm": {
     "name": "#%%\n"
    }
   },
   "outputs": [],
   "source": [
    "fig_forecast_feriado_s_outliers = prophet_feriados_s_outliers.plot_components(forecast_feriados_s_outliers,figsize=(12,8))"
   ]
  },
  {
   "cell_type": "code",
   "execution_count": null,
   "metadata": {
    "pycharm": {
     "name": "#%%\n"
    }
   },
   "outputs": [],
   "source": [
    "forecast_teste_feriados_s_outliers = prophet_feriados_s_outliers.predict(df_274_sem_outliers_teste)\n",
    "iplot(dtview.plot_forecast_as_table(forecast_teste_feriados_s_outliers))"
   ]
  },
  {
   "cell_type": "markdown",
   "metadata": {},
   "source": [
    "# Visualizar dataframe de teste previsto e original com feriados"
   ]
  },
  {
   "cell_type": "code",
   "execution_count": null,
   "metadata": {
    "pycharm": {
     "name": "#%%\n"
    }
   },
   "outputs": [],
   "source": [
    "iplot(dtview.compare_dataframes_with_scatter(\n",
    "    df_274_sem_outliers_teste,\n",
    "    forecast_teste_feriados_s_outliers,\n",
    "    title='Dados Previsto vs Original última semana de maio/2020',\n",
    "    mode='lines',\n",
    "    name1='Original',\n",
    "    name2='Previsão com feriados',\n",
    "    is_forecast=True))"
   ]
  },
  {
   "cell_type": "code",
   "execution_count": null,
   "metadata": {
    "pycharm": {
     "name": "#%%\n"
    }
   },
   "outputs": [],
   "source": [
    "iplot(dtview.compare_dataframes_with_bar(\n",
    "        df_274_sem_outliers_teste,\n",
    "        forecast_teste_feriados_s_outliers,\n",
    "        nametrace1='Original',\n",
    "        nametrace2='Previsão com feriados',\n",
    "        idx_end=28))"
   ]
  },
  {
   "cell_type": "code",
   "execution_count": null,
   "metadata": {
    "pycharm": {
     "name": "#%%\n"
    }
   },
   "outputs": [],
   "source": [
    "mape_analysis.append(fm.mape(np.array(df_274_sem_outliers_teste['y']),\n",
    "                     np.array(forecast_teste_feriados_s_outliers['yhat'])))\n",
    "print(\"MAPE -----> {}\".format(mape_analysis[4]))\n"
   ]
  },
  {
   "cell_type": "markdown",
   "metadata": {},
   "source": [
    "# Configurando e treinando o modelo com feriados e parâmetros otimizados"
   ]
  },
  {
   "cell_type": "code",
   "execution_count": null,
   "metadata": {
    "pycharm": {
     "name": "#%%\n"
    }
   },
   "outputs": [],
   "source": [
    "final_prophet_s_outliers = Prophet(holidays=dtclean.get_Holiday(),\n",
    "                      changepoint_prior_scale= 10,\n",
    "                      holidays_prior_scale = 0.3,\n",
    "                      n_changepoints = 30,\n",
    "                      seasonality_mode = 'multiplicative',\n",
    "                      seasonality_prior_scale = 25,\n",
    "                      weekly_seasonality=True,\n",
    "                      daily_seasonality = True,\n",
    "                      yearly_seasonality = True,\n",
    "                      interval_width=0.95)\n",
    "final_prophet_s_outliers.add_country_holidays(country_name='BR')\n",
    "final_prophet_s_outliers.fit(df_274_sem_outliers_treino)"
   ]
  },
  {
   "cell_type": "code",
   "execution_count": null,
   "metadata": {
    "pycharm": {
     "name": "#%%\n"
    }
   },
   "outputs": [],
   "source": [
    "future_final_s_outliers = final_prophet_s_outliers.make_future_dataframe(periods=7, freq='D')\n",
    "forecast_final_s_outliers = final_prophet_s_outliers.predict(future_final_s_outliers)\n",
    "iplot(dtview.plot_forecast_as_table(forecast_final_s_outliers))"
   ]
  },
  {
   "cell_type": "code",
   "execution_count": null,
   "metadata": {
    "pycharm": {
     "name": "#%%\n"
    }
   },
   "outputs": [],
   "source": [
    "# Visualizando os componentes do modelo\n",
    "fig = final_prophet_s_outliers.plot_components(forecast_final_s_outliers, figsize=(12,10))"
   ]
  },
  {
   "cell_type": "code",
   "execution_count": null,
   "metadata": {
    "pycharm": {
     "name": "#%%\n"
    }
   },
   "outputs": [],
   "source": [
    "# Visualizando a previsão\n",
    "f, ax = plt.subplots(1)\n",
    "f.set_figheight(5)\n",
    "f.set_figwidth(15)\n",
    "fig = final_prophet_s_outliers.plot(forecast_final_s_outliers,ax=ax)\n",
    "plt.show()"
   ]
  },
  {
   "cell_type": "code",
   "execution_count": null,
   "metadata": {
    "pycharm": {
     "name": "#%%\n"
    }
   },
   "outputs": [],
   "source": [
    "df_teste_final_s_outliers= final_prophet_s_outliers.predict(df_274_sem_outliers_teste)\n"
   ]
  },
  {
   "cell_type": "markdown",
   "metadata": {},
   "source": [
    "## Comparando os dados previstos com os realizados"
   ]
  },
  {
   "cell_type": "code",
   "execution_count": null,
   "metadata": {
    "pycharm": {
     "name": "#%%\n"
    }
   },
   "outputs": [],
   "source": [
    "iplot(dtview.compare_dataframes_with_scatter(df_274_sem_outliers_teste,\n",
    "                                   df_teste_final_s_outliers,\n",
    "                                   title='Previsão de clientes vs Vendas originais realizadas',\n",
    "                                    mode='lines',\n",
    "                                   name1='Teste',\n",
    "                                   name2='Previsto',\n",
    "                                  is_forecast=True))"
   ]
  },
  {
   "cell_type": "code",
   "execution_count": null,
   "metadata": {
    "pycharm": {
     "name": "#%%\n"
    }
   },
   "outputs": [],
   "source": [
    "iplot(dtview.compare_dataframes_with_bar(\n",
    "    df_274_sem_outliers_teste,\n",
    "    df_teste_final_s_outliers,\n",
    "    nametrace1='Teste',\n",
    "    nametrace2='Previsto'))"
   ]
  },
  {
   "cell_type": "code",
   "execution_count": null,
   "metadata": {
    "pycharm": {
     "name": "#%%\n"
    }
   },
   "outputs": [],
   "source": [
    "mape_analysis.append(fm.mape(np.array(df_274_sem_outliers_teste['y']),\n",
    "                     np.array(df_teste_final_s_outliers['yhat'])))\n",
    "\n",
    "print(\"MAPE -----> {}\".format(mape_analysis[5]))"
   ]
  },
  {
   "cell_type": "code",
   "execution_count": null,
   "metadata": {
    "pycharm": {
     "name": "#%%\n"
    }
   },
   "outputs": [],
   "source": [
    "mape_keys = ['inicial','feriados','parametros','outliers','outliers feriados','outliers params']\n",
    "mape_clientes_diarias = dict(zip(mape_keys,mape_analysis))\n",
    "iplot(dtview.plot_results(\n",
    "    list(mape_clientes_diarias.keys()),\n",
    "    list(mape_clientes_diarias.values()),\n",
    "    title='Evolução da métrica MAPE'))"
   ]
  }
 ],
 "metadata": {
  "kernelspec": {
   "display_name": "Python 3",
   "language": "python",
   "name": "python3"
  },
  "language_info": {
   "codemirror_mode": {
    "name": "ipython",
    "version": 3
   },
   "file_extension": ".py",
   "mimetype": "text/x-python",
   "name": "python",
   "nbconvert_exporter": "python",
   "pygments_lexer": "ipython3",
   "version": "3.8.5"
  }
 },
 "nbformat": 4,
 "nbformat_minor": 1
}
