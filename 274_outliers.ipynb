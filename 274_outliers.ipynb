{
 "cells": [
  {
   "cell_type": "code",
   "execution_count": null,
   "outputs": [],
   "source": [],
   "metadata": {
    "collapsed": false,
    "pycharm": {
     "name": "#%%\n"
    }
   }
  },
  {
   "cell_type": "markdown",
   "source": [
    "# Identificando os outliers\n"
   ],
   "metadata": {
    "collapsed": false
   }
  },
  {
   "cell_type": "markdown",
   "source": [
    "###### Outliers são pontos de dados se desviam de forma acentuada dos outros pontos de dados em uma mesma amostra. Isso pode ocorrer em função de características particulares que afetam a variável analisada, erro na transcrição/registo dos valores da variável, etc. A visualização gráfica desses valores em boxplot auxilia a compreender o quanto eles estão distante do valor esperado.\n"
   ],
   "metadata": {
    "collapsed": false
   }
  },
  {
   "cell_type": "code",
   "execution_count": null,
   "outputs": [],
   "source": [
    "dtview.check_outliers_univariate(df_274_time_sale)"
   ],
   "metadata": {
    "collapsed": false,
    "pycharm": {
     "name": "#%%\n"
    }
   }
  },
  {
   "cell_type": "code",
   "execution_count": null,
   "outputs": [],
   "source": [
    "df_sem_outliers = df_274_time_sale[df_274_time_sale['y'] < 500]\n",
    "df_sem_outliers.info"
   ],
   "metadata": {
    "collapsed": false,
    "pycharm": {
     "name": "#%%\n"
    }
   }
  },
  {
   "cell_type": "code",
   "execution_count": null,
   "outputs": [],
   "source": [
    "df_274_sem_outliers_treino, df_274_sem_outliers_teste = dtexp.configura_dataframe_treino_teste(df_sem_outliers)\n",
    "periods_outliers = df_274_sem_outliers_teste.shape[0]\n"
   ],
   "metadata": {
    "collapsed": false,
    "pycharm": {
     "name": "#%%\n"
    }
   }
  },
  {
   "cell_type": "code",
   "execution_count": null,
   "outputs": [],
   "source": [
    "iplot(dtview.compare_dataframes_with_scatter(df_274_sem_outliers_treino,\n",
    "                                   df_274_sem_outliers_teste,\n",
    "                                   title='Montante de dados de vendas de Treinamento e Teste (sem outliers)',\n",
    "                                    mode='lines',\n",
    "                                   name1='Treinamento',\n",
    "                                   name2='Teste'))"
   ],
   "metadata": {
    "collapsed": false,
    "pycharm": {
     "name": "#%%\n"
    }
   }
  },
  {
   "cell_type": "code",
   "execution_count": null,
   "outputs": [],
   "source": [
    "prophet_no_outliers = Prophet()\n",
    "prophet_no_outliers.fit(df_274_sem_outliers_treino)\n",
    "future_no_outliers = prophet_no_outliers.make_future_dataframe(periods=periods_outliers, freq='30min')\n",
    "# Removendo valores fora do range de atendimento da loja (22:30 - 05:59)\n",
    "future_no_outliers['ds'] = pd.to_datetime(future_no_outliers['ds'])\n",
    "future_no_outliers = future_no_outliers.set_index(pd.DatetimeIndex(future_no_outliers['ds']))\n",
    "future_no_outliers = future_no_outliers.between_time('08:00','21:00')\n",
    "\n",
    "forecast_no_outliers = prophet_no_outliers.predict(future_no_outliers)\n",
    "forecast_no_outliers = dtclean.remove_negative_values(forecast_no_outliers)\n",
    "iplot(dtview.plot_forecast_as_table(forecast_no_outliers))"
   ],
   "metadata": {
    "collapsed": false,
    "pycharm": {
     "name": "#%%\n"
    }
   }
  },
  {
   "cell_type": "code",
   "execution_count": null,
   "outputs": [],
   "source": [
    "# componentes\n",
    "\n",
    "fig = prophet_no_outliers.plot_components(forecast_no_outliers, figsize=(12,8))\n"
   ],
   "metadata": {
    "collapsed": false,
    "pycharm": {
     "name": "#%%\n"
    }
   }
  },
  {
   "cell_type": "markdown",
   "source": [
    "# Visualizando a previsão"
   ],
   "metadata": {
    "collapsed": false
   }
  },
  {
   "cell_type": "code",
   "execution_count": null,
   "outputs": [],
   "source": [
    "f, ax = plt.subplots(1)\n",
    "f.set_figheight(5)\n",
    "f.set_figwidth(15)\n",
    "fig = prophet_no_outliers.plot(forecast_no_outliers,ax=ax)\n",
    "plt.show()"
   ],
   "metadata": {
    "collapsed": false,
    "pycharm": {
     "name": "#%%\n"
    }
   }
  },
  {
   "cell_type": "code",
   "execution_count": null,
   "outputs": [],
   "source": [
    "df_274_no_outliers_teste_forecast = prophet_no_outliers.predict(df_274_sem_outliers_teste)\n",
    "df_274_no_outliers_teste_forecast = dtclean.remove_negative_values(df_274_no_outliers_teste_forecast)"
   ],
   "metadata": {
    "collapsed": false,
    "pycharm": {
     "name": "#%%\n"
    }
   }
  },
  {
   "cell_type": "code",
   "execution_count": null,
   "outputs": [],
   "source": [
    "f, ax = plt.subplots(1)\n",
    "f.set_figheight(5)\n",
    "f.set_figwidth(15)\n",
    "ax.scatter(df_274_sem_outliers_teste.ds,df_274_sem_outliers_teste['y'], color='r')\n",
    "fig = prophet_no_outliers.plot(df_274_no_outliers_teste_forecast,ax=ax)\n",
    "plt.show()"
   ],
   "metadata": {
    "collapsed": false,
    "pycharm": {
     "name": "#%%\n"
    }
   }
  },
  {
   "cell_type": "markdown",
   "source": [
    "# Comparando os dados previstos com os atuais"
   ],
   "metadata": {
    "collapsed": false
   }
  },
  {
   "cell_type": "code",
   "execution_count": null,
   "outputs": [],
   "source": [
    "f, ax = plt.subplots(1)\n",
    "f.set_figheight(5)\n",
    "f.set_figwidth(15)\n",
    "ax.scatter(df_274_sem_outliers_teste.ds, df_274_sem_outliers_teste['y'], color='r')\n",
    "fig = prophet_no_outliers.plot(df_274_no_outliers_teste_forecast, ax=ax)\n",
    "ax.set_xbound(lower='2020-05-24', upper='2020-05-31')\n",
    "ax.set_ylim(0, 1000)\n",
    "plot = plt.suptitle('Última semana de Maio - Previsão vs Original')"
   ],
   "metadata": {
    "collapsed": false,
    "pycharm": {
     "name": "#%%\n"
    }
   }
  },
  {
   "cell_type": "code",
   "execution_count": null,
   "outputs": [],
   "source": [
    "iplot(dtview.compare_dataframes_with_scatter(df_274_sem_outliers_teste,\n",
    "                                   df_274_no_outliers_teste_forecast,\n",
    "                                   title='Previsão de vendas vs Vendas originais realizadas',\n",
    "                                    mode='lines',\n",
    "                                   name1='Teste',\n",
    "                                   name2='Previsto',\n",
    "                                  is_forecast=True))"
   ],
   "metadata": {
    "collapsed": false,
    "pycharm": {
     "name": "#%%\n"
    }
   }
  },
  {
   "cell_type": "code",
   "execution_count": null,
   "outputs": [],
   "source": [
    "iplot(dtview.compare_dataframes_with_bar(\n",
    "        df_274_sem_outliers_teste,\n",
    "        df_274_no_outliers_teste_forecast,\n",
    "        nametrace1='Valor Real (sem outliers)',\n",
    "        nametrace2='Valor Previsto (sem outliers)',\n",
    "        idx_end=28))"
   ],
   "metadata": {
    "collapsed": false,
    "pycharm": {
     "name": "#%%\n"
    }
   }
  },
  {
   "cell_type": "code",
   "execution_count": null,
   "outputs": [],
   "source": [
    "print(\"MAPE ---> {}\".format(\n",
    "    fm.mape(np.array(df_274_sem_outliers_teste['y']),\n",
    "            np.array(df_274_no_outliers_teste_forecast['yhat']))))"
   ],
   "metadata": {
    "collapsed": false,
    "pycharm": {
     "name": "#%%\n"
    }
   }
  },
  {
   "cell_type": "markdown",
   "source": [
    "## Adicionando feriados ao modelo"
   ],
   "metadata": {
    "collapsed": false
   }
  },
  {
   "cell_type": "code",
   "execution_count": null,
   "outputs": [],
   "source": [
    "prophet_feriados_s_outliers = Prophet(holidays=dtclean.get_Holiday())\n",
    "\n",
    "prophet_feriados_s_outliers.add_country_holidays('BR')\n",
    "prophet_feriados_s_outliers.fit(df_274_sem_outliers_treino)\n",
    "# Criando as datas futuras previstas pelo prophet\n",
    "# A frequência especificada em horas (os dados estão em horas)\n",
    "future_feriados_s_outliers = prophet_feriados_s_outliers.make_future_dataframe(freq='30min', periods=periods_outliers)\n",
    "# Prevendo os valores\n",
    "forecast_feriados_s_outliers = prophet_feriados_s_outliers.predict(future_feriados_s_outliers)\n",
    "# Removendo valores fora do range de atendimento da loja (22:30 - 05:59)\n",
    "future_feriados_s_outliers['ds'] = pd.to_datetime(future_feriados_s_outliers['ds'])\n",
    "future_feriados_s_outliers = future_feriados_s_outliers.set_index(pd.DatetimeIndex(future_feriados_s_outliers['ds']))\n",
    "future_feriados_s_outliers = future_feriados_s_outliers.between_time('08:00','21:00')\n",
    "# Previsão optimizada dos valores\n",
    "future_feriados_s_outliers = prophet_feriados_s_outliers.predict(future_feriados_s_outliers)\n",
    "future_feriados_s_outliers = dtclean.remove_negative_values(future_feriados_s_outliers)"
   ],
   "metadata": {
    "collapsed": false,
    "pycharm": {
     "name": "#%%\n"
    }
   }
  },
  {
   "cell_type": "code",
   "execution_count": null,
   "outputs": [],
   "source": [
    "plt,fig_forecast_feriado_s_outliers = dtview.plot_forecast(future_feriados_s_outliers,prophet_feriados_s_outliers,f,ax)\n",
    "plt.show()"
   ],
   "metadata": {
    "collapsed": false,
    "pycharm": {
     "name": "#%%\n"
    }
   }
  },
  {
   "cell_type": "markdown",
   "source": [
    "# Visualizando os componentes do modelo"
   ],
   "metadata": {
    "collapsed": false
   }
  },
  {
   "cell_type": "code",
   "execution_count": null,
   "outputs": [],
   "source": [
    "fig_forecast_feriado_s_outliers = prophet_feriados_s_outliers.plot_components(forecast_feriados_s_outliers,figsize=(12,8))"
   ],
   "metadata": {
    "collapsed": false,
    "pycharm": {
     "name": "#%%\n"
    }
   }
  },
  {
   "cell_type": "code",
   "execution_count": null,
   "outputs": [],
   "source": [
    "forecast_teste_feriados_s_outliers = prophet_feriados_s_outliers.predict(df_274_sem_outliers_teste)\n",
    "forecast_teste_feriados_s_outliers = dtclean.remove_negative_values(forecast_teste_feriados_s_outliers)"
   ],
   "metadata": {
    "collapsed": false,
    "pycharm": {
     "name": "#%%\n"
    }
   }
  },
  {
   "cell_type": "markdown",
   "source": [
    "# Comparando os dados previsto e original com feriados"
   ],
   "metadata": {
    "collapsed": false
   }
  },
  {
   "cell_type": "code",
   "execution_count": null,
   "outputs": [],
   "source": [
    "f, ax = plt.subplots(1)\n",
    "f.set_figheight(5)\n",
    "f.set_figwidth(15)\n",
    "ax.scatter(df_274_sem_outliers_teste.ds, df_274_sem_outliers_teste['y'], color='r')\n",
    "fig = prophet_feriados_s_outliers.plot(forecast_teste_feriados_s_outliers, ax=ax)\n",
    "ax.set_xbound(lower='2020-05-24', upper='2020-05-31')\n",
    "ax.set_ylim(0, 1000)\n",
    "plot = plt.suptitle('Última semana de Maio - Previsão vs Original (com feriados)')"
   ],
   "metadata": {
    "collapsed": false,
    "pycharm": {
     "name": "#%%\n"
    }
   }
  },
  {
   "cell_type": "code",
   "execution_count": null,
   "outputs": [],
   "source": [
    "iplot(dtview.compare_dataframes_with_scatter(\n",
    "    df_274_sem_outliers_teste,\n",
    "    forecast_teste_feriados_s_outliers,\n",
    "    title='Dados Previsto vs Original última semana de maio/2020',\n",
    "    mode='lines',\n",
    "    name1='Original',\n",
    "    name2='Previsão com feriados',\n",
    "    is_forecast=True))"
   ],
   "metadata": {
    "collapsed": false,
    "pycharm": {
     "name": "#%%\n"
    }
   }
  },
  {
   "cell_type": "code",
   "execution_count": null,
   "outputs": [],
   "source": [
    "iplot(dtview.compare_dataframes_with_bar(\n",
    "        df_274_sem_outliers_teste,\n",
    "        forecast_teste_feriados_s_outliers,\n",
    "        nametrace1='Original',\n",
    "        nametrace2='Previsão com feriados',\n",
    "        idx_end=28))"
   ],
   "metadata": {
    "collapsed": false,
    "pycharm": {
     "name": "#%%\n"
    }
   }
  },
  {
   "cell_type": "code",
   "execution_count": null,
   "outputs": [],
   "source": [
    "print(\"MAPE ---> {}\".format(\n",
    "    fm.mape(np.array(df_274_sem_outliers_teste['y']),\n",
    "    np.array(forecast_teste_feriados_s_outliers['yhat']))))\n"
   ],
   "metadata": {
    "collapsed": false,
    "pycharm": {
     "name": "#%%\n"
    }
   }
  },
  {
   "cell_type": "markdown",
   "source": [
    "# Configurando e treinando o modelo com feriados e parâmetros otimizados\n"
   ],
   "metadata": {
    "collapsed": false
   }
  },
  {
   "cell_type": "code",
   "execution_count": null,
   "outputs": [],
   "source": [
    "final_prophet_s_outliers = Prophet(holidays=dtclean.get_Holiday(),\n",
    "                      changepoint_prior_scale= 15,\n",
    "                      holidays_prior_scale = 15,\n",
    "                      n_changepoints = 200,\n",
    "                      seasonality_mode = 'multiplicative',\n",
    "                      seasonality_prior_scale = 25,\n",
    "                      weekly_seasonality=True,\n",
    "                      daily_seasonality = True,\n",
    "                      yearly_seasonality = False,\n",
    "                      interval_width=0.95)\n",
    "final_prophet_s_outliers.add_country_holidays(country_name='BR')\n",
    "final_prophet_s_outliers.fit(df_274_sem_outliers_treino)"
   ],
   "metadata": {
    "collapsed": false,
    "pycharm": {
     "name": "#%%\n"
    }
   }
  },
  {
   "cell_type": "code",
   "execution_count": null,
   "outputs": [],
   "source": [
    "future_final_s_outliers = final_prophet_s_outliers.make_future_dataframe(periods=periods_outliers, freq='30min')\n",
    "# Removendo valores fora do range de atendimento da loja (22:30 - 05:59)\n",
    "future_final_s_outliers['ds'] = pd.to_datetime(future_final_s_outliers['ds'])\n",
    "future_final_s_outliers = future_final_s_outliers.set_index(pd.DatetimeIndex(future_final_s_outliers['ds']))\n",
    "future_final_s_outliers = future_final_s_outliers.between_time('08:00','21:00')\n",
    "forecast_final_s_outliers = final_prophet_s_outliers.predict(future_final_s_outliers)\n",
    "forecast_final_s_outliers = dtclean.remove_negative_values(forecast_final_s_outliers)\n",
    "iplot(dtview.plot_forecast_as_table(forecast_final_s_outliers))\n"
   ],
   "metadata": {
    "collapsed": false,
    "pycharm": {
     "name": "#%%\n"
    }
   }
  },
  {
   "cell_type": "code",
   "execution_count": null,
   "outputs": [],
   "source": [
    "# Visualizando os componentes do modelo\n",
    "fig = final_prophet_s_outliers.plot_components(forecast_final_s_outliers,figsize=(12,8))"
   ],
   "metadata": {
    "collapsed": false,
    "pycharm": {
     "name": "#%%\n"
    }
   }
  },
  {
   "cell_type": "code",
   "execution_count": null,
   "outputs": [],
   "source": [
    "# Visualizando a previsão\n",
    "\n",
    "f, ax = plt.subplots(1)\n",
    "f.set_figheight(5)\n",
    "f.set_figwidth(15)\n",
    "fig = final_prophet_s_outliers.plot(forecast_final_s_outliers,ax=ax)\n",
    "plt.show()"
   ],
   "metadata": {
    "collapsed": false,
    "pycharm": {
     "name": "#%%\n"
    }
   }
  },
  {
   "cell_type": "code",
   "execution_count": null,
   "outputs": [],
   "source": [
    "df_teste_final_s_outliers= final_prophet_s_outliers.predict(df_274_sem_outliers_teste)\n",
    "df_teste_final_s_outliers = dtclean.remove_negative_values(df_teste_final_s_outliers)\n",
    "\n"
   ],
   "metadata": {
    "collapsed": false,
    "pycharm": {
     "name": "#%%\n"
    }
   }
  },
  {
   "cell_type": "markdown",
   "source": [
    "# Comparando os dados reais com os dados previstos"
   ],
   "metadata": {
    "collapsed": false
   }
  },
  {
   "cell_type": "code",
   "execution_count": null,
   "outputs": [],
   "source": [
    "f, ax = plt.subplots(1)\n",
    "f.set_figheight(5)\n",
    "f.set_figwidth(15)\n",
    "ax.scatter(df_274_sem_outliers_teste.ds, df_274_sem_outliers_teste['y'], color='r')\n",
    "fig = final_prophet_s_outliers.plot(df_teste_final_s_outliers, ax=ax)\n",
    "ax.set_xbound(lower='2020-05-24', upper='2020-05-31')\n",
    "ax.set_ylim(0, 1000)\n",
    "plot = plt.suptitle('Última semana de Maio - Previsão vs Original (com parametros)')\n"
   ],
   "metadata": {
    "collapsed": false,
    "pycharm": {
     "name": "#%%\n"
    }
   }
  },
  {
   "cell_type": "code",
   "execution_count": null,
   "outputs": [],
   "source": [
    "iplot(dtview.compare_dataframes_with_scatter(df_274_sem_outliers_teste,\n",
    "                                   df_teste_final_s_outliers,\n",
    "                                   title='Previsão de vendas vs Vendas originais realizadas',\n",
    "                                    mode='lines',\n",
    "                                   name1='Teste',\n",
    "                                   name2='Previsto',\n",
    "                                  is_forecast=True))"
   ],
   "metadata": {
    "collapsed": false,
    "pycharm": {
     "name": "#%%\n"
    }
   }
  },
  {
   "cell_type": "code",
   "execution_count": null,
   "outputs": [],
   "source": [
    "iplot(dtview.compare_dataframes_with_bar(\n",
    "    df_274_sem_outliers_teste,\n",
    "    df_teste_final_s_outliers,\n",
    "    nametrace1='Teste',\n",
    "    nametrace2='Previsto'))"
   ],
   "metadata": {
    "collapsed": false,
    "pycharm": {
     "name": "#%%\n"
    }
   }
  },
  {
   "cell_type": "code",
   "execution_count": null,
   "outputs": [],
   "source": [
    "print(\"MAPE (validação) ---> {}\".format(\n",
    "    fm.mape(np.array(df_274_sem_outliers_teste['y']),\n",
    "    np.array(df_teste_final_s_outliers['yhat']))))"
   ],
   "metadata": {
    "collapsed": false,
    "pycharm": {
     "name": "#%%\n"
    }
   }
  }
 ],
 "metadata": {
  "kernelspec": {
   "display_name": "Python 3",
   "language": "python",
   "name": "python3"
  },
  "language_info": {
   "codemirror_mode": {
    "name": "ipython",
    "version": 2
   },
   "file_extension": ".py",
   "mimetype": "text/x-python",
   "name": "python",
   "nbconvert_exporter": "python",
   "pygments_lexer": "ipython2",
   "version": "2.7.6"
  }
 },
 "nbformat": 4,
 "nbformat_minor": 0
}