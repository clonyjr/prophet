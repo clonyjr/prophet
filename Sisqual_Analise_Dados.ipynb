{
 "cells": [
  {
   "cell_type": "code",
   "execution_count": null,
   "outputs": [],
   "source": [
    "from tools import datacleaner\n",
    "import config\n",
    "import os\n",
    "import sys\n",
    "import pandas as pd\n",
    "import numpy as np\n",
    "from fbprophet import Prophet\n",
    "from fbprophet.plot import add_changepoints_to_plot\n",
    "import matplotlib.pyplot as plt\n",
    "import seaborn as sns\n",
    "import plotly.graph_objs as go\n",
    "# Offline mode\n",
    "from plotly.offline import init_notebook_mode, iplot\n",
    "from scipy.stats import boxcox\n",
    "from scipy.special import inv_boxcox\n",
    "from statsmodels.tsa.seasonal import seasonal_decompose\n",
    "from datetime import datetime\n",
    "\n",
    "# \"high resolution\"\n",
    "%config InlineBackend.figure_format = 'retina'\n",
    "init_notebook_mode(connected=True)"
   ],
   "metadata": {
    "collapsed": false,
    "pycharm": {
     "name": "#%%\n"
    }
   }
  },
  {
   "cell_type": "code",
   "execution_count": null,
   "outputs": [],
   "source": [
    "## Cria 3 dataframes:\n",
    "## df_274_time_sale = quantidade de produtos vendidos na loja por hora\n",
    "## df_274_time_cli = quantidade de clientes na loja por hora\n",
    "\n",
    "#df_complete = datacleaner.get_Dataframes(None,None,full_dataframe=True)\n",
    "#df_complete.reset_index(inplace=True)\n",
    "\n",
    "df_274_time_sale = datacleaner.get_Dataframes_time(274,'s')\n",
    "df_274_time_cli = datacleaner.get_Dataframes_time(274,'c')\n",
    "df_274_time_sale.reset_index(inplace=True)\n",
    "df_274_time_cli.reset_index(inplace=True)\n",
    "\n",
    "## Cria dois dataframes:\n",
    "## df_274_sale = quantidade de produtos vendidos na loja por data\n",
    "## df_274_cli  = quantidade de clientes na loja por data\n",
    "\n",
    "df_274_sale = datacleaner.get_Dataframes(274,'s')\n",
    "df_274_sale.reset_index(inplace=True)\n",
    "\n",
    "sns.set(style=\"darkgrid\")\n",
    "sns.set_context(\"notebook\", font_scale=1.5, rc={\"lines.linewidth\": 2.5})"
   ],
   "metadata": {
    "collapsed": false,
    "pycharm": {
     "name": "#%%\n"
    }
   }
  },
  {
   "cell_type": "markdown",
   "source": [
    "# Quantidade de produtos vendidos/hora (loja 274)"
   ],
   "metadata": {
    "collapsed": false
   }
  },
  {
   "cell_type": "code",
   "execution_count": null,
   "outputs": [],
   "source": [
    "sales_data_l274 = go.Scatter(x=df_274_time_sale.ds,y=df_274_time_sale.y)\n",
    "layout = go.Layout(height=800,\n",
    "                   width=1000,\n",
    "                   title='Vendas/hora (março-maio de 2020)')\n",
    "fig_sales_hour = go.Figure(data=[sales_data_l274],layout=layout)\n",
    "iplot(fig_sales_hour)"
   ],
   "metadata": {
    "collapsed": false,
    "pycharm": {
     "name": "#%%\n"
    }
   }
  },
  {
   "cell_type": "markdown",
   "source": [
    "`Analisando o gráfico acima, observamos visualmente uma sazonalidade pelos picos de alto e baixo no gráfico.`\n"
   ],
   "metadata": {
    "collapsed": false
   }
  },
  {
   "cell_type": "markdown",
   "source": [
    "# Quantidade de clientes/hora (loja 274)"
   ],
   "metadata": {
    "collapsed": false
   }
  },
  {
   "cell_type": "code",
   "execution_count": null,
   "outputs": [],
   "source": [
    "cli_data_l274 = go.Scatter(x=df_274_time_cli.ds,y=df_274_time_cli.y)\n",
    "layout = go.Layout(height=800,\n",
    "                   width=1000,\n",
    "                   title='Vendas ao dia (Loja 274, de março à maio de 2020)')\n",
    "fig_cli = go.Figure(data=[cli_data_l274],layout=layout)\n",
    "iplot(fig_cli)"
   ],
   "metadata": {
    "collapsed": false,
    "pycharm": {
     "name": "#%%\n"
    }
   }
  },
  {
   "cell_type": "markdown",
   "source": [
    "`O gráfico de quantidade de clientes por hora na loja 274 apresenta semelhanças com o gráfico de quantidade de produtos por hora na mesma loja`\n",
    "`logo, inferimos que o comportamento da série é sazonal como a série anterior.`"
   ],
   "metadata": {
    "collapsed": false
   }
  },
  {
   "cell_type": "markdown",
   "source": [
    "# Loja 432"
   ],
   "metadata": {
    "collapsed": false
   }
  },
  {
   "cell_type": "code",
   "execution_count": null,
   "outputs": [],
   "source": [
    "df_432_time_sale = datacleaner.get_Dataframes_time(432,'s')\n",
    "df_432_time_cli = datacleaner.get_Dataframes_time(432,'c')\n",
    "df_432_time_sale.reset_index(inplace=True)\n",
    "df_432_time_cli.reset_index(inplace=True)\n"
   ],
   "metadata": {
    "collapsed": false,
    "pycharm": {
     "name": "#%%\n"
    }
   }
  },
  {
   "cell_type": "code",
   "execution_count": null,
   "outputs": [],
   "source": [
    "sales_data_l432 = go.Scatter(x=df_432_time_sale.ds,y=df_432_time_sale.y)\n",
    "layout = go.Layout(height=800,\n",
    "                   width=1000,\n",
    "                   title='Vendas/hora (março-maio de 2020)')\n",
    "fig_sales_hour_432 = go.Figure(data=[sales_data_l432],layout=layout)\n",
    "iplot(fig_sales_hour_432)"
   ],
   "metadata": {
    "collapsed": false,
    "pycharm": {
     "name": "#%%\n"
    }
   }
  },
  {
   "cell_type": "markdown",
   "source": [
    "`Analisando o gráfico acima, também observamos visualmente o mesmo tipo de sazonalidade que os gráficos anteriores.`\n",
    "`Além da sazonalidade também observamos alguns dados negativos.`"
   ],
   "metadata": {
    "collapsed": false
   }
  },
  {
   "cell_type": "code",
   "execution_count": null,
   "outputs": [],
   "source": [
    "df_432_time_sale.loc[df_432_time_sale['y'] < 0]"
   ],
   "metadata": {
    "collapsed": false,
    "pycharm": {
     "name": "#%%\n"
    }
   }
  },
  {
   "cell_type": "markdown",
   "source": [
    "1. Em 20-03 houve -24 produtos vendidos e -1 cliente na loja\n",
    "2. Em 02-04 houve -8 produtos vendidos e -1 cliente na loja\n",
    "3. Em 23-04 houve -2 produtos vendidos e 0 cliente na loja\n",
    "4. Em 20-05 houve -3 produtos vendidos e -1 cliente na loja\n",
    "5. Em 21-05 houve -6 produtos vendidos e -1 cliente na loja\n",
    "6. Em 26-05 houve -16 produtos vendidos e 1 cliente na loja\n",
    "\n",
    "`Nesse caso notamos que esse comportamento ocorre sempre após as 21 horas, aparentemente próximo do horário de encerramento do atendimento. Resta a dúvida sobre qual motivo leva os dados a terem esses valores`\n",
    "`Verificamos que esse comportamento não se repete na loja 274.`"
   ],
   "metadata": {
    "collapsed": false
   }
  },
  {
   "cell_type": "code",
   "execution_count": null,
   "outputs": [],
   "source": [
    "df_274_time_sale.loc[df_274_time_sale['y'] < 0]\n"
   ],
   "metadata": {
    "collapsed": false,
    "pycharm": {
     "name": "#%%\n"
    }
   }
  },
  {
   "cell_type": "markdown",
   "source": [
    "`Removendo os valores negativos do dataframe de vendas da loja 432`"
   ],
   "metadata": {
    "collapsed": false
   }
  },
  {
   "cell_type": "code",
   "execution_count": null,
   "outputs": [],
   "source": [
    "df_432_time_sale_val_positivo = df_432_time_sale.copy()\n",
    "df_432_time_sale_val_positivo = df_432_time_sale_val_positivo.loc[df_432_time_sale_val_positivo['y'] > 0]\n",
    "df_432_time_sale_val_positivo\n"
   ],
   "metadata": {
    "collapsed": false,
    "pycharm": {
     "name": "#%%\n"
    }
   }
  },
  {
   "cell_type": "markdown",
   "source": [
    "# Quantidade de clientes/dia (loja 432)"
   ],
   "metadata": {
    "collapsed": false
   }
  },
  {
   "cell_type": "code",
   "execution_count": null,
   "outputs": [],
   "source": [
    "cli_data_l432 = go.Scatter(x=df_432_time_cli.ds,y=df_432_time_cli.y)\n",
    "layout = go.Layout(height=800,\n",
    "                   width=1000,\n",
    "                   title='Vendas/hora (Loja 432, de março à maio de 2020)')\n",
    "fig_cli_432 = go.Figure(data=[cli_data_l432],layout=layout)\n",
    "iplot(fig_cli_432)"
   ],
   "metadata": {
    "collapsed": false,
    "pycharm": {
     "name": "#%%\n"
    }
   }
  },
  {
   "cell_type": "markdown",
   "source": [
    "`O gráfico de quantidade de clientes por hora na loja 432 apresenta semelhanças com o gráfico de quantidade de produtos por hora na mesma loja. Também notamos nessa loja momentos em que o número de clientes foi negativo:`"
   ],
   "metadata": {
    "collapsed": false
   }
  },
  {
   "cell_type": "code",
   "execution_count": null,
   "outputs": [],
   "source": [
    "df_432_time_cli.loc[df_432_time_cli['y'] < 0]"
   ],
   "metadata": {
    "collapsed": false,
    "pycharm": {
     "name": "#%%\n"
    }
   }
  },
  {
   "cell_type": "code",
   "execution_count": null,
   "outputs": [],
   "source": [
    "df_432_time_cli_val_positivo = df_432_time_cli.copy()\n",
    "df_432_time_cli_val_positivo=df_432_time_cli_val_positivo.loc[df_432_time_cli_val_positivo['y'] > 0]\n"
   ],
   "metadata": {
    "collapsed": false,
    "pycharm": {
     "name": "#%%\n"
    }
   }
  },
  {
   "cell_type": "markdown",
   "source": [
    "<div class=\"alert alert-block alert-info\">\n",
    "<p> Na linha acima removemos os valores negativos do dataframe.</p>\n",
    "<b> Dúvida: </b> Os valores negativos verificados provocam as seguintes dúvidas:\n",
    " <p>- Há necessidade de normalizar os dados por esse motivo?</p>\n",
    " <p>- Não deveríamos questionar à Sisqual se sabem sobre essa situação e porque ocorre dessa forma? </p>\n",
    "</div>\n"
   ],
   "metadata": {
    "collapsed": false
   }
  },
  {
   "cell_type": "markdown",
   "source": [
    "# Seasonality"
   ],
   "metadata": {
    "collapsed": false
   }
  },
  {
   "cell_type": "markdown",
   "source": [
    "O Prophet, para realizar a previsão, utiliza dois modelos Aditivo e Multiplicativo e podem ser determinados pelos\n",
    "parâmetros.\n",
    "O modelo aditivo sugere que os componentes são adicionados conforme a equação abaixo:\n",
    "\n",
    "$ y(t) = Level + Trend + Seasonality + Noise $\n",
    "\n",
    "O modelo multiplicativo sugere que os componentes são multiplicados:\n",
    "\n",
    "$ y(t) = Level + Trend + Seasonality + Noise $\n",
    "\n",
    "Onde:\n",
    "\n",
    "+ **Level** = Valores médios da série.\n",
    "+ **Trend** = Aumento ou a redução dos valores da série.\n",
    "+ **Seasonality** = Ciclo de repetições da série.\n",
    "+ **Noise** = Variações randômicas da série.\n",
    "\n",
    "O Prophet decompõe o seu modelo em trend, seasonality (semanal, mensal, diário) e holidays (feriados)."
   ],
   "metadata": {
    "collapsed": false
   }
  },
  {
   "cell_type": "markdown",
   "source": [
    "`Para isso é preciso primeiro criar o modelo no Prophet. Fazemos isso preenchendo os seguintes parâmetros:`\n",
    "\n",
    "+ Parâmetro growth (saturação)\n",
    "> Quando a previsão cresce, alguns pontos atingem o valor máximo possível, como um teto,\n",
    "isso é chamado de carrying capacity. Por essa razão deve-se saturar o \"growth\" da previsão para que o modelo comporte essas\n",
    "variações.\n",
    "> É possível definir o carrying capacity (cap) adicionando esse valor como uma coluna do dataframe.\n",
    "\n",
    "`Por padrão o Prophet usa um modelo de saturação linear. Utilizaremos nesse caso o modelo logistico.`\n",
    "\n",
    "+ Parâmetro interval_width\n",
    "\n",
    "> O interval_width de confiança = 95%; isso define o intervalo de incerteza para produzir um intervalo\n",
    "de confiança em torno do valor previsto.\n",
    "\n",
    "+ Parâmetros Trend Changepoints\n",
    "\n",
    "> Para os dados que estamos a analisar, os *changepoints* representam a data, momento ou índice de tempo que define\n",
    "um ponto quando uma data começa a mudar sua direção, quer seja crescente ou decrescente, seria uma espécie de ponto de\n",
    "inflexão.\n",
    "> Prophet usa um entre dois métodos para definir a tendência de *changepoints*\n",
    "    > Especificar a flexibilidade das tendências dos *changepoints*\n",
    "    > Especificar o local dos *changepoints*, significa definir os *changepoints* no próprio dataframe como uma série\n",
    "    (quando a tendência começa a mudar).\n",
    "`No nosso caso vamos utilizar a flexibilidade de tendência, ou seja o modelo será flexível a tendência.`\n",
    "\n",
    "+ Parâmetro changepoint_prior_scale\n",
    "> Representa o quão flexível o modelo irá se comportar contra os *trend changepoints*"
   ],
   "metadata": {
    "collapsed": false
   }
  },
  {
   "cell_type": "markdown",
   "source": [
    "+ Parâmetros de sazonalidade\n",
    "\n",
    "> Definem o período de sazonalidade a ser obtido pelo prophet. Em nosso caso desejamos que o algoritmo considere\n",
    "sazonalidades (a frequência de repetição de um evento) anual e mensal.\n",
    "\n",
    "+ Parâmetro holiday\n",
    "> Os feriados e eventos influenciam no comportamento de compra e deslocamento das pessoas. Para esse estudo foram\n",
    "adicionados os feriados nacionais conhecidos, entretanto, cabe destacar que podem existir eventos ou feriados municipais\n",
    "que impactam o comércio local onde as lojas se encontram."
   ],
   "metadata": {
    "collapsed": false
   }
  },
  {
   "cell_type": "code",
   "execution_count": null,
   "outputs": [],
   "source": [
    "# definindo o cap (carrying capacity)\n",
    "df_274_time_sale['cap'] = 1362\n",
    "df_274_time_sale.reset_index(drop=True)"
   ],
   "metadata": {
    "collapsed": false,
    "pycharm": {
     "name": "#%%\n"
    }
   }
  },
  {
   "cell_type": "markdown",
   "source": [
    "`O valor cap gerado teve por base o máximo valor atingido no período da série`\n",
    "![Cap Vendas](img/cap_vendas.png)"
   ],
   "metadata": {
    "collapsed": false
   }
  },
  {
   "cell_type": "markdown",
   "source": [
    "## Criação do dataframe para futuro\n",
    "+ Identificando os valores criados fora do range de atendimento da loja\n",
    "+ Frequência horária\n",
    "+ Cada 30 minutos de cada hora\n",
    "+ Carry Capacity (teto) = 1362 (valor carece de validação)\n",
    "    - Carry Capacity (base) = Não utilizado"
   ],
   "metadata": {
    "collapsed": false
   }
  },
  {
   "cell_type": "code",
   "execution_count": null,
   "outputs": [],
   "source": [
    "m_274_time_sale = Prophet(growth='logistic',\n",
    "                          interval_width=0.95,\n",
    "                          changepoint_prior_scale=0.095,\n",
    "                          yearly_seasonality=True,\n",
    "                          weekly_seasonality=True,\n",
    "                          holidays=datacleaner.get_Holiday())\n",
    "m_274_time_sale.add_country_holidays(country_name='BR')\n",
    "m_274_time_sale.fit(df_274_time_sale)"
   ],
   "metadata": {
    "collapsed": false,
    "pycharm": {
     "name": "#%%\n"
    }
   }
  },
  {
   "cell_type": "code",
   "execution_count": null,
   "outputs": [],
   "source": [
    "m_274_time_sale_linear = Prophet(growth='linear',\n",
    "                          interval_width=0.95,\n",
    "                          changepoint_prior_scale=0.095,\n",
    "                          yearly_seasonality=True,\n",
    "                          weekly_seasonality=True,\n",
    "                          holidays=datacleaner.get_Holiday())\n",
    "m_274_time_sale_linear.add_country_holidays(country_name='BR')\n",
    "m_274_time_sale_linear.fit(df_274_time_sale)\n"
   ],
   "metadata": {
    "collapsed": false,
    "pycharm": {
     "name": "#%%\n"
    }
   }
  },
  {
   "cell_type": "markdown",
   "source": [
    "`Criar um modelo com saturação aditiva para posterior comparação.`"
   ],
   "metadata": {
    "collapsed": false
   }
  },
  {
   "cell_type": "code",
   "execution_count": null,
   "outputs": [],
   "source": [
    "m_274_time_sale.train_holiday_names"
   ],
   "metadata": {
    "collapsed": false,
    "pycharm": {
     "name": "#%%\n"
    }
   }
  },
  {
   "cell_type": "code",
   "execution_count": null,
   "outputs": [],
   "source": [
    "future_274_time_sale = m_274_time_sale.make_future_dataframe(periods=1800,freq='D')\n",
    "future_274_time_sale['cap'] = 1362\n",
    "teste_future_274_time_sale = future_274_time_sale.loc[future_274_time_sale.ds > '2020-06-01']\n",
    "teste_future_274_time_sale"
   ],
   "metadata": {
    "collapsed": false,
    "pycharm": {
     "name": "#%%\n"
    }
   }
  },
  {
   "cell_type": "markdown",
   "source": [
    "`Criando o dataframe de previsão futura para uma frequência diária e um período de 5 anos`"
   ],
   "metadata": {
    "collapsed": false
   }
  },
  {
   "cell_type": "code",
   "execution_count": null,
   "outputs": [],
   "source": [
    "#future_274_time_sale['ds'] = pd.to_datetime(future_274_time_sale['ds'])\n",
    "#future_274_time_sale=future_274_time_sale.set_index(pd.DatetimeIndex(future_274_time_sale['ds']))\n",
    "#future_274_time_sale.loc[future_274_time_sale['ds'].between_time('00:00','05:00')]"
   ],
   "metadata": {
    "collapsed": false,
    "pycharm": {
     "name": "#%%\n"
    }
   }
  },
  {
   "cell_type": "markdown",
   "source": [
    "`O prophet está projetando dados para horários em que a loja não possui dados, isto é, após 20:30 até 07:00, como não há dados o Prophet cria dados negativos que podem impactar nas análises. Dessa forma para evitar essa ocorrência foi necessário remover do dataframe, projetado no futuro, esses valores.`\n",
    "`Para fazer isso há um tratamento nos dados importante, pois constatamos que provavelmente, não existe um horário fixo para a abertura e encerramento da loja`\n",
    "`Existem dias em que a loja teve cliente e produtos vendidos a partir das 06:00 da manhã e dias em que o encerramento ocorreu as 20:30, 21:00, 21:30 e 22:00.`"
   ],
   "metadata": {
    "collapsed": false
   }
  },
  {
   "cell_type": "code",
   "execution_count": null,
   "outputs": [],
   "source": [
    "df_sale_test = df_274_time_sale.copy()\n",
    "df_sale_test['ds'] = pd.to_datetime(df_sale_test['ds'])\n",
    "df_sale_test = df_sale_test.set_index(pd.DatetimeIndex(df_sale_test['ds']))\n",
    "df_sale_test.loc[df_sale_test['ds'].between_time('06:00','07:00')]"
   ],
   "metadata": {
    "collapsed": false,
    "pycharm": {
     "name": "#%%\n"
    }
   }
  },
  {
   "cell_type": "code",
   "execution_count": null,
   "outputs": [],
   "source": [
    "df_sale_test.between_time('00:00','05:00')"
   ],
   "metadata": {
    "collapsed": false,
    "pycharm": {
     "name": "#%%\n"
    }
   }
  },
  {
   "cell_type": "code",
   "execution_count": null,
   "outputs": [],
   "source": [
    "future_274_time_sale_adjusted = future_274_time_sale.copy()\n",
    "future_274_time_sale_adjusted['ds'] = pd.to_datetime(future_274_time_sale_adjusted['ds'])\n",
    "future_274_time_sale_adjusted = future_274_time_sale_adjusted.set_index(pd.DatetimeIndex(future_274_time_sale_adjusted['ds']))\n",
    "#future_274_time_sale_adjusted = future_274_time_sale_adjusted.between_time('06:00','22:00')\n",
    "#future_274_time_sale_adjusted.reset_index(drop=True)\n",
    "future_274_time_sale_adjusted.between_time('00:00','05:00')"
   ],
   "metadata": {
    "collapsed": false,
    "pycharm": {
     "name": "#%%\n"
    }
   }
  },
  {
   "cell_type": "code",
   "execution_count": null,
   "outputs": [],
   "source": [
    "future_274_time_sale_adjusted = future_274_time_sale.copy()\n",
    "future_274_time_sale_adjusted['ds'] = pd.to_datetime(future_274_time_sale_adjusted['ds'])\n",
    "future_274_time_sale_adjusted = future_274_time_sale_adjusted.set_index(pd.DatetimeIndex(future_274_time_sale_adjusted['ds']))\n",
    "future_274_time_sale_adjusted = future_274_time_sale_adjusted.between_time('06:00','22:00')\n",
    "#future_274_time_sale_adjusted.reset_index(drop=True)\n",
    "future_274_time_sale_adjusted"
   ],
   "metadata": {
    "collapsed": false,
    "pycharm": {
     "name": "#%%\n"
    }
   }
  },
  {
   "cell_type": "markdown",
   "source": [
    "#### O dataframe projetado para 5 anos no futuro. O parâmetro uncertainty=True assume uma média da frequência e magnitude da tendência verificada no passado, que seja a mesma para o futuro."
   ],
   "metadata": {
    "collapsed": false
   }
  },
  {
   "cell_type": "code",
   "execution_count": null,
   "outputs": [],
   "source": [
    "forecast_time_sale = m_274_time_sale.predict(future_274_time_sale_adjusted)\n",
    "fig_time_sale = m_274_time_sale.plot(forecast_time_sale, uncertainty=True,xlabel='Meses do ano',ylabel='Qtd Artigos Vendidos',figsize=(10,6))\n",
    "plt.title('Previsão de Vendas Loja 274')"
   ],
   "metadata": {
    "collapsed": false,
    "pycharm": {
     "name": "#%%\n"
    }
   }
  },
  {
   "cell_type": "markdown",
   "source": [
    "#### Visualizando os trends changepoints anual de venda"
   ],
   "metadata": {
    "collapsed": false
   }
  },
  {
   "cell_type": "code",
   "execution_count": null,
   "outputs": [],
   "source": [
    "fig = m_274_time_sale.plot(forecast_time_sale)\n",
    "trend_change_points_anual = add_changepoints_to_plot(fig.gca(), m_274_time_sale, forecast_time_sale)"
   ],
   "metadata": {
    "collapsed": false,
    "pycharm": {
     "name": "#%%\n"
    }
   }
  },
  {
   "cell_type": "markdown",
   "source": [
    "#### Visualizando os componentes da série"
   ],
   "metadata": {
    "collapsed": false
   }
  },
  {
   "cell_type": "code",
   "execution_count": null,
   "outputs": [],
   "source": [
    "fig_comp_time_sale = m_274_time_sale.plot_components(forecast_time_sale, uncertainty=True)"
   ],
   "metadata": {
    "collapsed": false,
    "pycharm": {
     "name": "#%%\n"
    }
   }
  },
  {
   "cell_type": "markdown",
   "source": [
    "###### Visualizando os dados previstos para o futuro"
   ],
   "metadata": {
    "collapsed": false
   }
  },
  {
   "cell_type": "code",
   "execution_count": null,
   "outputs": [],
   "source": [
    "future_no_art_sales_pred = forecast_time_sale.loc[forecast_time_sale.ds > '2020-06-01']\n",
    "future_no_art_sales_pred = future_no_art_sales_pred[['ds', 'yhat', 'yhat_lower', 'yhat_upper']]\n",
    "future_no_art_sales_pred.sample(5)"
   ],
   "metadata": {
    "collapsed": false,
    "pycharm": {
     "name": "#%%\n"
    }
   }
  },
  {
   "cell_type": "markdown",
   "source": [
    "## Previsão de artigos vendidos por hora com intervalo de 30 minutos para cada hora"
   ],
   "metadata": {
    "collapsed": false
   }
  },
  {
   "cell_type": "code",
   "execution_count": null,
   "outputs": [],
   "source": [
    "future_274_time_sale = m_274_time_sale.make_future_dataframe(periods=1800,freq='H')\n",
    "future_274_time_sale['cap'] = 1362\n",
    "teste_future_274_time_sale = future_274_time_sale.loc[future_274_time_sale.ds > '2020-06-01']\n",
    "teste_future_274_time_sale"
   ],
   "metadata": {
    "collapsed": false,
    "pycharm": {
     "name": "#%%\n"
    }
   }
  },
  {
   "cell_type": "code",
   "execution_count": null,
   "outputs": [],
   "source": [
    "df_sale_test = df_274_time_sale.copy()\n",
    "df_sale_test['ds'] = pd.to_datetime(df_sale_test['ds'])\n",
    "df_sale_test = df_sale_test.set_index(pd.DatetimeIndex(df_sale_test['ds']))\n",
    "df_sale_test.loc[df_sale_test['ds'].between_time('06:00','07:00')]"
   ],
   "metadata": {
    "collapsed": false,
    "pycharm": {
     "name": "#%%\n"
    }
   }
  },
  {
   "cell_type": "code",
   "execution_count": null,
   "outputs": [],
   "source": [
    "df_sale_test.between_time('00:00','05:00')"
   ],
   "metadata": {
    "collapsed": false,
    "pycharm": {
     "name": "#%%\n"
    }
   }
  },
  {
   "cell_type": "code",
   "execution_count": null,
   "outputs": [],
   "source": [
    "future_274_time_sale_adjusted = future_274_time_sale.copy()\n",
    "future_274_time_sale_adjusted['ds'] = pd.to_datetime(future_274_time_sale_adjusted['ds'])\n",
    "future_274_time_sale_adjusted = future_274_time_sale_adjusted.set_index(pd.DatetimeIndex(future_274_time_sale_adjusted['ds']))\n",
    "#future_274_time_sale_adjusted = future_274_time_sale_adjusted.between_time('06:00','22:00')\n",
    "#future_274_time_sale_adjusted.reset_index(drop=True)\n",
    "future_274_time_sale_adjusted.between_time('00:00','05:00')"
   ],
   "metadata": {
    "collapsed": false,
    "pycharm": {
     "name": "#%%\n"
    }
   }
  },
  {
   "cell_type": "code",
   "execution_count": null,
   "outputs": [],
   "source": [
    "future_274_time_sale_adjusted = future_274_time_sale.copy()\n",
    "future_274_time_sale_adjusted['ds'] = pd.to_datetime(future_274_time_sale_adjusted['ds'])\n",
    "future_274_time_sale_adjusted = future_274_time_sale_adjusted.set_index(pd.DatetimeIndex(future_274_time_sale_adjusted['ds']))\n",
    "future_274_time_sale_adjusted = future_274_time_sale_adjusted.between_time('06:00','22:00')\n",
    "#future_274_time_sale_adjusted.reset_index(drop=True)\n",
    "future_274_time_sale_adjusted"
   ],
   "metadata": {
    "collapsed": false,
    "pycharm": {
     "name": "#%%\n"
    }
   }
  },
  {
   "cell_type": "code",
   "execution_count": null,
   "outputs": [],
   "source": [
    "forecast_time_sale = m_274_time_sale.predict(future_274_time_sale_adjusted)\n",
    "fig_time_sale = m_274_time_sale.plot(forecast_time_sale, uncertainty=True,xlabel='Meses do ano',ylabel='Qtd Artigos Vendidos',figsize=(10,6))\n",
    "plt.title('Previsão de Vendas Loja 274')"
   ],
   "metadata": {
    "collapsed": false,
    "pycharm": {
     "name": "#%%\n"
    }
   }
  },
  {
   "cell_type": "markdown",
   "source": [
    "#### Visualizando os trends changepoints de venda"
   ],
   "metadata": {
    "collapsed": false
   }
  },
  {
   "cell_type": "code",
   "execution_count": null,
   "outputs": [],
   "source": [
    "figtrend_changepoints = m_274_time_sale.plot(forecast_time_sale)\n",
    "trend_changepoints_diario = add_changepoints_to_plot(figtrend_changepoints.gca(), m_274_time_sale, forecast_time_sale)"
   ],
   "metadata": {
    "collapsed": false,
    "pycharm": {
     "name": "#%%\n"
    }
   }
  },
  {
   "cell_type": "markdown",
   "source": [
    "#### Visualizando os componentes da série"
   ],
   "metadata": {
    "collapsed": false
   }
  },
  {
   "cell_type": "code",
   "execution_count": null,
   "outputs": [],
   "source": [
    "fig_comp_time_sale = m_274_time_sale.plot_components(forecast_time_sale, uncertainty=True)"
   ],
   "metadata": {
    "collapsed": false,
    "pycharm": {
     "name": "#%%\n"
    }
   }
  },
  {
   "cell_type": "markdown",
   "source": [
    "###### Visualizando os dados previstos para o futuro"
   ],
   "metadata": {
    "collapsed": false
   }
  },
  {
   "cell_type": "code",
   "execution_count": null,
   "outputs": [],
   "source": [
    "future_no_art_sales_pred = forecast_time_sale.loc[forecast_time_sale.ds > '2020-06-01']\n",
    "future_no_art_sales_pred = future_no_art_sales_pred[['ds', 'yhat', 'yhat_lower', 'yhat_upper']]\n",
    "future_no_art_sales_pred.sample(5)"
   ],
   "metadata": {
    "collapsed": false,
    "pycharm": {
     "name": "#%%\n"
    }
   }
  },
  {
   "cell_type": "markdown",
   "source": [
    "***\n",
    "# Previsão de clientes/hora (loja 274)\n",
    "***"
   ],
   "metadata": {
    "collapsed": false
   }
  },
  {
   "cell_type": "code",
   "execution_count": null,
   "outputs": [],
   "source": [
    "df_274_time_cli['cap'] = 67\n",
    "df_274_time_cli.reset_index(drop=True)\n",
    "m_274_time_cli = Prophet(growth='logistic',\n",
    "                         interval_width=0.95,\n",
    "                         changepoint_prior_scale=0.095,\n",
    "                         yearly_seasonality=True,\n",
    "                         weekly_seasonality=True,\n",
    "                         holidays=datacleaner.get_Holiday())\n",
    "m_274_time_cli.add_country_holidays(country_name='BR')\n",
    "m_274_time_cli.fit(df_274_time_cli)"
   ],
   "metadata": {
    "collapsed": false,
    "pycharm": {
     "name": "#%%\n"
    }
   }
  },
  {
   "cell_type": "markdown",
   "source": [
    "## Criando previsão diária para um período de 5 anos"
   ],
   "metadata": {
    "collapsed": false
   }
  },
  {
   "cell_type": "code",
   "execution_count": null,
   "outputs": [],
   "source": [
    "future_274_time_cli = m_274_time_cli.make_future_dataframe(periods=1800, freq='D')\n",
    "future_274_time_cli['cap'] = 67\n",
    "teste_future_274_time_cli = future_274_time_cli.loc[future_274_time_cli.ds > '2020-06-01']\n",
    "teste_future_274_time_cli"
   ],
   "metadata": {
    "collapsed": false,
    "pycharm": {
     "name": "#%%\n"
    }
   }
  },
  {
   "cell_type": "code",
   "execution_count": null,
   "outputs": [],
   "source": [
    "df_cli_test = df_274_time_cli.copy()\n",
    "df_cli_test['ds'] = pd.to_datetime(df_cli_test['ds'])\n",
    "df_cli_test = df_cli_test.set_index(pd.DatetimeIndex(df_cli_test['ds']))\n",
    "df_cli_test.loc[df_cli_test['ds'].between_time('06:00','07:00')]"
   ],
   "metadata": {
    "collapsed": false,
    "pycharm": {
     "name": "#%%\n"
    }
   }
  },
  {
   "cell_type": "code",
   "execution_count": null,
   "outputs": [],
   "source": [
    "future_274_time_cli_adjusted = future_274_time_cli.copy()\n",
    "future_274_time_cli_adjusted['ds'] = pd.to_datetime(future_274_time_cli_adjusted['ds'])\n",
    "future_274_time_cli_adjusted = future_274_time_cli_adjusted.set_index(pd.DatetimeIndex(future_274_time_cli_adjusted['ds']))\n",
    "future_274_time_cli_adjusted = future_274_time_cli_adjusted.between_time('06:00','22:00')\n",
    "future_274_time_cli_adjusted"
   ],
   "metadata": {
    "collapsed": false,
    "pycharm": {
     "name": "#%%\n"
    }
   }
  },
  {
   "cell_type": "code",
   "execution_count": null,
   "outputs": [],
   "source": [
    "forecast_time_cli = m_274_time_cli.predict(future_274_time_cli_adjusted)\n",
    "fig_time_cli = m_274_time_cli.plot(forecast_time_cli, uncertainty=True,xlabel='Meses do ano',ylabel='Qtd Clientes/hora',figsize=(10,6))\n",
    "plt.title('Quantidade de clientes previstos na Loja 274')"
   ],
   "metadata": {
    "collapsed": false,
    "pycharm": {
     "name": "#%%\n"
    }
   }
  },
  {
   "cell_type": "markdown",
   "source": [
    "#### Visualizando os trends changepoints de venda"
   ],
   "metadata": {
    "collapsed": false
   }
  },
  {
   "cell_type": "code",
   "execution_count": null,
   "outputs": [],
   "source": [
    "figtrend_changepoints_anual_cli = m_274_time_cli.plot(forecast_time_cli)\n",
    "trend_changepoints_anual_cli = add_changepoints_to_plot(figtrend_changepoints_anual_cli.gca(), m_274_time_cli, forecast_time_cli)"
   ],
   "metadata": {
    "collapsed": false,
    "pycharm": {
     "name": "#%%\n"
    }
   }
  },
  {
   "cell_type": "markdown",
   "source": [
    "#### Visualizando os componentes da série"
   ],
   "metadata": {
    "collapsed": false
   }
  },
  {
   "cell_type": "code",
   "execution_count": null,
   "outputs": [],
   "source": [
    "fig_comp_time_cli = m_274_time_cli.plot_components(forecast_time_cli, uncertainty=True)"
   ],
   "metadata": {
    "collapsed": false,
    "pycharm": {
     "name": "#%%\n"
    }
   }
  },
  {
   "cell_type": "markdown",
   "source": [
    "###### Visualizando os dados previstos para o futuro"
   ],
   "metadata": {
    "collapsed": false
   }
  },
  {
   "cell_type": "code",
   "execution_count": null,
   "outputs": [],
   "source": [
    "future_no_cli_pred = forecast_time_cli.loc[forecast_time_cli.ds > '2020-06-01']\n",
    "future_no_cli_pred = future_no_cli_pred[['ds', 'yhat', 'yhat_lower', 'yhat_upper']]\n",
    "future_no_cli_pred.sample(5)"
   ],
   "metadata": {
    "collapsed": false,
    "pycharm": {
     "name": "#%%\n"
    }
   }
  },
  {
   "cell_type": "markdown",
   "source": [
    "## Criando previsão com frequência horária e com intervalos de 30 minutos"
   ],
   "metadata": {
    "collapsed": false
   }
  },
  {
   "cell_type": "code",
   "execution_count": null,
   "outputs": [],
   "source": [
    "future_274_time_cli = m_274_time_cli.make_future_dataframe(periods=1800, freq='H')\n",
    "future_274_time_cli['cap'] = 67\n",
    "teste_future_274_time_cli = future_274_time_cli.loc[future_274_time_cli.ds > '2020-06-01']\n",
    "teste_future_274_time_cli"
   ],
   "metadata": {
    "collapsed": false,
    "pycharm": {
     "name": "#%%\n"
    }
   }
  },
  {
   "cell_type": "code",
   "execution_count": null,
   "outputs": [],
   "source": [
    "df_cli_test = df_274_time_cli.copy()\n",
    "df_cli_test['ds'] = pd.to_datetime(df_cli_test['ds'])\n",
    "df_cli_test = df_cli_test.set_index(pd.DatetimeIndex(df_cli_test['ds']))\n",
    "df_cli_test.loc[df_cli_test['ds'].between_time('06:00','07:00')]"
   ],
   "metadata": {
    "collapsed": false,
    "pycharm": {
     "name": "#%%\n"
    }
   }
  },
  {
   "cell_type": "code",
   "execution_count": null,
   "outputs": [],
   "source": [
    "future_274_time_cli_adjusted = future_274_time_cli.copy()\n",
    "future_274_time_cli_adjusted['ds'] = pd.to_datetime(future_274_time_cli_adjusted['ds'])\n",
    "future_274_time_cli_adjusted = future_274_time_cli_adjusted.set_index(pd.DatetimeIndex(future_274_time_cli_adjusted['ds']))\n",
    "future_274_time_cli_adjusted = future_274_time_cli_adjusted.between_time('06:00','22:00')\n",
    "#future_274_time_cli_adjusted.reset_index(drop=True)\n",
    "future_274_time_cli_adjusted"
   ],
   "metadata": {
    "collapsed": false,
    "pycharm": {
     "name": "#%%\n"
    }
   }
  },
  {
   "cell_type": "code",
   "execution_count": null,
   "outputs": [],
   "source": [
    "forecast_time_cli = m_274_time_cli.predict(future_274_time_cli_adjusted)\n",
    "fig_time_cli = m_274_time_cli.plot(forecast_time_cli, uncertainty=True,xlabel='Meses do ano',ylabel='Qtd Clientes/hora',figsize=(10,6))\n",
    "plt.title('Quantidade de clientes previstos na Loja 274')"
   ],
   "metadata": {
    "collapsed": false,
    "pycharm": {
     "name": "#%%\n"
    }
   }
  },
  {
   "cell_type": "markdown",
   "source": [
    "#### Visualizando os trends changepoints de venda"
   ],
   "metadata": {
    "collapsed": false
   }
  },
  {
   "cell_type": "code",
   "execution_count": null,
   "outputs": [],
   "source": [
    "figtrend_changepoints_diario_cli = m_274_time_cli.plot(forecast_time_cli)\n",
    "trend_changepoints_diario_cli = add_changepoints_to_plot(figtrend_changepoints_diario_cli.gca(), m_274_time_cli, forecast_time_cli)"
   ],
   "metadata": {
    "collapsed": false,
    "pycharm": {
     "name": "#%%\n"
    }
   }
  },
  {
   "cell_type": "markdown",
   "source": [
    "#### Visualizando os componentes da série"
   ],
   "metadata": {
    "collapsed": false
   }
  },
  {
   "cell_type": "code",
   "execution_count": null,
   "outputs": [],
   "source": [
    "fig_comp_time_cli = m_274_time_cli.plot_components(forecast_time_cli, uncertainty=True)"
   ],
   "metadata": {
    "collapsed": false,
    "pycharm": {
     "name": "#%%\n"
    }
   }
  },
  {
   "cell_type": "markdown",
   "source": [
    "###### Visualizando os dados previstos para o futuro"
   ],
   "metadata": {
    "collapsed": false
   }
  },
  {
   "cell_type": "code",
   "execution_count": null,
   "outputs": [],
   "source": [
    "future_no_cli_pred = forecast_time_cli.loc[forecast_time_cli.ds > '2020-06-01']\n",
    "future_no_cli_pred = future_no_cli_pred[['ds', 'yhat', 'yhat_lower', 'yhat_upper']]\n",
    "future_no_cli_pred.sample(5)"
   ],
   "metadata": {
    "collapsed": false,
    "pycharm": {
     "name": "#%%\n"
    }
   }
  },
  {
   "cell_type": "markdown",
   "source": [
    "# Saturação linear para quantidade de produtos vendidos"
   ],
   "metadata": {
    "collapsed": false
   }
  },
  {
   "cell_type": "code",
   "execution_count": null,
   "outputs": [],
   "source": [
    "future_274_time_sale_l = m_274_time_sale_linear.make_future_dataframe(periods=1800, freq='H')\n",
    "future_274_time_sale_l['cap'] = 1362\n",
    "teste_future_274_time_sale_l = future_274_time_sale_l.loc[future_274_time_sale_l.ds > '2020-06-01']\n",
    "teste_future_274_time_sale_l\n"
   ],
   "metadata": {
    "collapsed": false,
    "pycharm": {
     "name": "#%%\n"
    }
   }
  },
  {
   "cell_type": "code",
   "execution_count": null,
   "outputs": [],
   "source": [
    "df_sale_test_a = df_274_time_sale.copy()\n",
    "df_sale_test_a['ds'] = pd.to_datetime(df_sale_test_a['ds'])\n",
    "df_sale_test_a = df_sale_test_a.set_index(pd.DatetimeIndex(df_sale_test_a['ds']))\n",
    "df_sale_test_a.loc[df_sale_test_a['ds'].between_time('06:00','07:00')]"
   ],
   "metadata": {
    "collapsed": false,
    "pycharm": {
     "name": "#%%\n"
    }
   }
  },
  {
   "cell_type": "code",
   "execution_count": null,
   "outputs": [],
   "source": [
    "future_274_time_sale_adjusted_l = future_274_time_sale_l.copy()\n",
    "future_274_time_sale_adjusted_l['ds'] = pd.to_datetime(future_274_time_sale_adjusted_l['ds'])\n",
    "future_274_time_sale_adjusted_l = future_274_time_sale_adjusted_l.set_index(pd.DatetimeIndex(future_274_time_sale_adjusted_l ['ds']))\n",
    "future_274_time_sale_adjusted_l = future_274_time_sale_adjusted_l.between_time('06:00','22:00')\n",
    "#future_274_time_sale_adjusted.reset_index(drop=True)\n",
    "future_274_time_sale_adjusted_l"
   ],
   "metadata": {
    "collapsed": false,
    "pycharm": {
     "name": "#%%\n"
    }
   }
  },
  {
   "cell_type": "code",
   "execution_count": null,
   "outputs": [],
   "source": [
    "forecast_time_sale_l = m_274_time_sale_linear.predict(future_274_time_sale_adjusted_l)\n",
    "fig_time_sale_a = m_274_time_sale_linear.plot(forecast_time_sale_l, uncertainty=True,xlabel='Meses do ano',ylabel='Qtd Artigos Vendidos',figsize=(10,6))\n",
    "plt.title('Previsão de Vendas Loja 274')"
   ],
   "metadata": {
    "collapsed": false,
    "pycharm": {
     "name": "#%%\n"
    }
   }
  },
  {
   "cell_type": "markdown",
   "source": [
    "#### Visualizando os trends changepoints de venda"
   ],
   "metadata": {
    "collapsed": false
   }
  },
  {
   "cell_type": "code",
   "execution_count": null,
   "outputs": [],
   "source": [
    "figtrend_changepoints_diario_sale = m_274_time_sale_linear.plot(forecast_time_sale_l)\n",
    "trend_changepoints_diario_sale = add_changepoints_to_plot(figtrend_changepoints_diario_sale.gca(), m_274_time_sale_linear, forecast_time_sale_l)"
   ],
   "metadata": {
    "collapsed": false,
    "pycharm": {
     "name": "#%%\n"
    }
   }
  },
  {
   "cell_type": "markdown",
   "source": [
    "#### Visualizando os componentes da série"
   ],
   "metadata": {
    "collapsed": false
   }
  },
  {
   "cell_type": "code",
   "execution_count": null,
   "outputs": [],
   "source": [
    "fig_comp_time_sale_a = m_274_time_sale_linear.plot_components(forecast_time_sale_l, uncertainty=True)"
   ],
   "metadata": {
    "collapsed": false,
    "pycharm": {
     "name": "#%%\n"
    }
   }
  },
  {
   "cell_type": "markdown",
   "source": [
    "###### Visualizando os dados previstos para o futuro"
   ],
   "metadata": {
    "collapsed": false
   }
  },
  {
   "cell_type": "code",
   "execution_count": null,
   "outputs": [],
   "source": [
    "future_no_art_sales_pred_l = forecast_time_sale_l.loc[forecast_time_sale_l.ds > '2020-06-01']\n",
    "future_no_art_sales_pred_l = future_no_art_sales_pred_l[['ds', 'yhat', 'yhat_lower', 'yhat_upper']]\n",
    "future_no_art_sales_pred_l.sample(5)"
   ],
   "metadata": {
    "collapsed": false,
    "pycharm": {
     "name": "#%%\n"
    }
   }
  },
  {
   "cell_type": "markdown",
   "source": [
    "# Saturação linear para quantidade de clientes/hora"
   ],
   "metadata": {
    "collapsed": false
   }
  },
  {
   "cell_type": "code",
   "execution_count": null,
   "outputs": [],
   "source": [
    "m_274_time_cli_linear = Prophet(growth='linear',\n",
    "                         interval_width=0.95,\n",
    "                         changepoint_prior_scale=0.095,\n",
    "                         yearly_seasonality=True,\n",
    "                         weekly_seasonality=True,\n",
    "                         holidays=datacleaner.get_Holiday())\n",
    "m_274_time_cli_linear.add_country_holidays(country_name='BR')\n",
    "m_274_time_cli_linear.fit(df_274_time_cli)\n",
    "m_274_time_cli_linear.train_holiday_names"
   ],
   "metadata": {
    "collapsed": false,
    "pycharm": {
     "name": "#%%\n"
    }
   }
  },
  {
   "cell_type": "code",
   "execution_count": null,
   "outputs": [],
   "source": [
    "future_274_time_cli_l = m_274_time_cli_linear.make_future_dataframe(periods=1800, freq='H')\n",
    "future_274_time_cli_l['cap'] = 67\n",
    "teste_future_274_time_cli_l = future_274_time_cli_l.loc[future_274_time_cli_l.ds > '2020-06-01']\n",
    "teste_future_274_time_cli_l"
   ],
   "metadata": {
    "collapsed": false,
    "pycharm": {
     "name": "#%%\n"
    }
   }
  },
  {
   "cell_type": "code",
   "execution_count": null,
   "outputs": [],
   "source": [
    "df_cli_test_a = df_274_time_cli.copy()\n",
    "df_cli_test_a['ds'] = pd.to_datetime(df_cli_test_a['ds'])\n",
    "df_cli_test_a = df_cli_test_a.set_index(pd.DatetimeIndex(df_cli_test_a['ds']))\n",
    "df_cli_test_a.loc[df_cli_test_a['ds'].between_time('06:00','07:00')]"
   ],
   "metadata": {
    "collapsed": false,
    "pycharm": {
     "name": "#%%\n"
    }
   }
  },
  {
   "cell_type": "code",
   "execution_count": null,
   "outputs": [],
   "source": [
    "future_274_time_cli_adjusted_l = future_274_time_cli_l.copy()\n",
    "future_274_time_cli_adjusted_l['ds'] = pd.to_datetime(future_274_time_cli_adjusted_l['ds'])\n",
    "future_274_time_cli_adjusted_l = future_274_time_cli_adjusted_l.set_index(pd.DatetimeIndex(future_274_time_cli_adjusted_l['ds']))\n",
    "future_274_time_cli_adjusted_l = future_274_time_cli_adjusted_l.between_time('06:00','22:00')\n",
    "#future_274_time_cli_adjusted_l.reset_index(drop=True)\n",
    "future_274_time_cli_adjusted_l"
   ],
   "metadata": {
    "collapsed": false,
    "pycharm": {
     "name": "#%%\n"
    }
   }
  },
  {
   "cell_type": "code",
   "execution_count": null,
   "outputs": [],
   "source": [
    "forecast_time_cli_l = m_274_time_cli_linear.predict(future_274_time_cli_adjusted_l)\n",
    "fig_time_cli_a = m_274_time_cli_linear.plot(forecast_time_cli_l, uncertainty=True,xlabel='Meses do ano',ylabel='Qtd Clientes/hora',figsize=(10,6))\n",
    "plt.title('Quantidade de clientes previstos na Loja 274')"
   ],
   "metadata": {
    "collapsed": false,
    "pycharm": {
     "name": "#%%\n"
    }
   }
  },
  {
   "cell_type": "code",
   "execution_count": null,
   "outputs": [],
   "source": [
    "fig_comp_time_cli_a = m_274_time_cli_linear.plot_components(forecast_time_cli_l, uncertainty=True)"
   ],
   "metadata": {
    "collapsed": false,
    "pycharm": {
     "name": "#%%\n"
    }
   }
  },
  {
   "cell_type": "markdown",
   "source": [
    "###### Visualizando os dados previstos para o futuro"
   ],
   "metadata": {
    "collapsed": false
   }
  },
  {
   "cell_type": "code",
   "execution_count": null,
   "outputs": [],
   "source": [
    "future_no_cli_pred_l = forecast_time_cli_l.loc[forecast_time_cli_l.ds > '2020-06-01']\n",
    "future_no_cli_pred_l = future_no_cli_pred_l[['ds', 'yhat', 'yhat_lower', 'yhat_upper']]\n",
    "future_no_cli_pred_l.sample(5)"
   ],
   "metadata": {
    "collapsed": false,
    "pycharm": {
     "name": "#%%\n"
    }
   }
  },
  {
   "cell_type": "markdown",
   "source": [
    "`Analisando o gráfico sem o parâmetro de incerteza`"
   ],
   "metadata": {
    "collapsed": false
   }
  },
  {
   "cell_type": "code",
   "execution_count": null,
   "outputs": [],
   "source": [
    "fig_comp_time_cli_a_uncertainty_false = m_274_time_cli_linear.plot_components(forecast_time_cli_l, uncertainty=False)"
   ],
   "metadata": {
    "collapsed": false,
    "pycharm": {
     "name": "#%%\n"
    }
   }
  },
  {
   "cell_type": "markdown",
   "source": [
    "## Visualizando a previsão para 5 anos"
   ],
   "metadata": {
    "collapsed": false
   }
  },
  {
   "cell_type": "code",
   "execution_count": null,
   "outputs": [],
   "source": [
    "future_274_time_cli_l = m_274_time_cli_linear.make_future_dataframe(periods=1800, freq='D')\n",
    "future_274_time_cli_l['cap'] = 67\n",
    "teste_future_274_time_cli_l = future_274_time_cli_l.loc[future_274_time_cli_l.ds > '2020-06-01']\n",
    "teste_future_274_time_cli_l"
   ],
   "metadata": {
    "collapsed": false,
    "pycharm": {
     "name": "#%%\n"
    }
   }
  },
  {
   "cell_type": "code",
   "execution_count": null,
   "outputs": [],
   "source": [
    "future_274_time_cli_adjusted_l = future_274_time_cli_l.copy()\n",
    "future_274_time_cli_adjusted_l['ds'] = pd.to_datetime(future_274_time_cli_adjusted_l['ds'])\n",
    "future_274_time_cli_adjusted_l = future_274_time_cli_adjusted_l.set_index(pd.DatetimeIndex(future_274_time_cli_adjusted_l['ds']))\n",
    "future_274_time_cli_adjusted_l = future_274_time_cli_adjusted_l.between_time('06:00','22:00')\n",
    "#future_274_time_cli_adjusted_l.reset_index(drop=True)\n",
    "future_274_time_cli_adjusted_l"
   ],
   "metadata": {
    "collapsed": false,
    "pycharm": {
     "name": "#%%\n"
    }
   }
  },
  {
   "cell_type": "code",
   "execution_count": null,
   "outputs": [],
   "source": [
    "forecast_time_cli_l = m_274_time_cli_linear.predict(future_274_time_cli_adjusted_l)\n",
    "fig_time_cli_a = m_274_time_cli_linear.plot(forecast_time_cli_l, uncertainty=True,xlabel='Meses do ano',ylabel='Qtd Clientes/hora',figsize=(10,6))\n",
    "plt.title('Quantidade de clientes previstos na Loja 274')"
   ],
   "metadata": {
    "collapsed": false,
    "pycharm": {
     "name": "#%%\n"
    }
   }
  },
  {
   "cell_type": "code",
   "execution_count": null,
   "outputs": [],
   "source": [
    "fig_comp_time_cli_a = m_274_time_cli_linear.plot_components(forecast_time_cli_l, uncertainty=True)"
   ],
   "metadata": {
    "collapsed": false,
    "pycharm": {
     "name": "#%%\n"
    }
   }
  },
  {
   "cell_type": "markdown",
   "source": [
    "###### Visualizando os dados previstos para o futuro"
   ],
   "metadata": {
    "collapsed": false
   }
  },
  {
   "cell_type": "code",
   "execution_count": null,
   "outputs": [],
   "source": [
    "future_no_cli_pred_l = forecast_time_cli_l.loc[forecast_time_cli_l.ds > '2020-06-01']\n",
    "future_no_cli_pred_l = future_no_cli_pred_l[['ds', 'yhat', 'yhat_lower', 'yhat_upper']]\n",
    "future_no_cli_pred_l.sample(5)"
   ],
   "metadata": {
    "collapsed": false,
    "pycharm": {
     "name": "#%%\n"
    }
   }
  },
  {
   "cell_type": "markdown",
   "source": [
    "`Analisando o gráfico sem o parâmetro de incerteza`"
   ],
   "metadata": {
    "collapsed": false
   }
  },
  {
   "cell_type": "code",
   "execution_count": null,
   "outputs": [],
   "source": [
    "fig_comp_time_cli_a_uncertainty_false = m_274_time_cli_linear.plot_components(forecast_time_cli_l, uncertainty=False)\n"
   ],
   "metadata": {
    "collapsed": false,
    "pycharm": {
     "name": "#%%\n"
    }
   }
  }
 ],
 "metadata": {
  "kernelspec": {
   "display_name": "Python 3",
   "language": "python",
   "name": "python3"
  },
  "language_info": {
   "codemirror_mode": {
    "name": "ipython",
    "version": 3
   },
   "file_extension": ".py",
   "mimetype": "text/x-python",
   "name": "python",
   "nbconvert_exporter": "python",
   "pygments_lexer": "ipython3",
   "version": "3.8.5"
  }
 },
 "nbformat": 4,
 "nbformat_minor": 1
}